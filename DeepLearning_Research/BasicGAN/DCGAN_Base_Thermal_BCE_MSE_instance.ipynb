{
 "cells": [
  {
   "cell_type": "code",
   "execution_count": null,
   "metadata": {},
   "outputs": [],
   "source": [
    "import torch\n",
    "import torchvision\n",
    "import ignite\n",
    "\n",
    "print(*map(lambda m: \": \".join((m.__name__, m.__version__)), (torch, torchvision, ignite)), sep=\"\\n\")"
   ]
  },
  {
   "cell_type": "code",
   "execution_count": null,
   "metadata": {},
   "outputs": [],
   "source": [
    "import os\n",
    "import logging\n",
    "import matplotlib.pyplot as plt\n",
    "\n",
    "import cv2\n",
    "import numpy as np\n",
    "\n",
    "from torchsummary import summary\n",
    "\n",
    "import torch\n",
    "import torch.nn as nn\n",
    "import torch.optim as optim\n",
    "\n",
    "from torch.utils.data import DataLoader\n",
    "import torchvision.transforms as transforms\n",
    "from torchvision.utils import save_image\n",
    "import torchvision.datasets as dset\n",
    "import torchvision.utils as vutils\n",
    "\n",
    "from ignite.engine import Engine, Events\n",
    "import ignite.distributed as idist"
   ]
  },
  {
   "cell_type": "code",
   "execution_count": null,
   "metadata": {},
   "outputs": [],
   "source": [
    "ignite.utils.manual_seed(999)\n",
    "ignite.utils.setup_logger(name=\"ignite.distributed.auto.auto_dataloader\", level=logging.WARNING)\n",
    "ignite.utils.setup_logger(name=\"ignite.distributed.launcher.Parallel\", level=logging.WARNING)"
   ]
  },
  {
   "cell_type": "code",
   "execution_count": null,
   "metadata": {},
   "outputs": [],
   "source": [
    "image_size = 256\n",
    "\n",
    "data_transform = transforms.Compose(\n",
    "    [\n",
    "        transforms.Resize(image_size),\n",
    "        transforms.CenterCrop(image_size),\n",
    "        transforms.Grayscale(num_output_channels=1),\n",
    "        transforms.ToTensor(),\n",
    "        transforms.Normalize((0.5), (0.5)),\n",
    "    ]\n",
    ")\n",
    "device = torch.device(\"cuda:0\" if torch.cuda.is_available() else \"cpu\")\n",
    "train_dataset = dset.ImageFolder(root=\"datasets/HighResolution/FLIR\", transform=data_transform)\n",
    "test_dataset = torch.utils.data.Subset(train_dataset, torch.arange(3000))"
   ]
  },
  {
   "cell_type": "code",
   "execution_count": null,
   "metadata": {},
   "outputs": [],
   "source": [
    "batch_size = 9\n",
    "\n",
    "train_dataloader = DataLoader(\n",
    "    train_dataset, \n",
    "    batch_size=batch_size, \n",
    "    num_workers=8, \n",
    "    shuffle=True, \n",
    "    drop_last=True,\n",
    ")\n",
    "\n",
    "test_dataloader = DataLoader(\n",
    "    test_dataset, \n",
    "    batch_size=batch_size, \n",
    "    num_workers=8, \n",
    "    shuffle=False, \n",
    "    drop_last=True,\n",
    ")"
   ]
  },
  {
   "cell_type": "code",
   "execution_count": null,
   "metadata": {},
   "outputs": [],
   "source": [
    "real_batch = next(iter(train_dataloader))\n",
    "\n",
    "plt.figure(figsize=(20,20))\n",
    "plt.axis(\"off\")\n",
    "plt.title(\"Training Images\")\n",
    "plt.imshow(np.transpose(vutils.make_grid(real_batch[0][:4], padding=2, normalize=True).cpu(),(1,2,0)))\n",
    "plt.show()\n",
    "print(real_batch[0][0].shape)"
   ]
  },
  {
   "cell_type": "code",
   "execution_count": null,
   "metadata": {},
   "outputs": [],
   "source": [
    "latent_dim = 256"
   ]
  },
  {
   "cell_type": "code",
   "execution_count": null,
   "metadata": {},
   "outputs": [],
   "source": [
    "class depthwise_conv(nn.Module):\n",
    "    def __init__(self, nin, kernels_per_layer):\n",
    "        super(depthwise_conv, self).__init__()\n",
    "        self.depthwise = nn.Conv2d(nin, nin * kernels_per_layer, kernel_size=3, padding=1, groups=nin)\n",
    "\n",
    "\n",
    "    def forward(self, x):\n",
    "        out = self.depthwise(x)\n",
    "        return out"
   ]
  },
  {
   "cell_type": "code",
   "execution_count": null,
   "metadata": {},
   "outputs": [],
   "source": [
    "class pointwise_conv(nn.Module):\n",
    "    def __init__(self, nin, nout):\n",
    "        super(pointwise_conv, self).__init__()\n",
    "        self.pointwise = nn.Conv2d(nin, nout, kernel_size=1)\n",
    "\n",
    "    def forward(self, x):\n",
    "        out = self.pointwise(x)\n",
    "        return out"
   ]
  },
  {
   "cell_type": "code",
   "execution_count": null,
   "metadata": {},
   "outputs": [],
   "source": [
    "class Generator(nn.Module):\n",
    "    def __init__(self, latent_dim):\n",
    "        super(Generator, self).__init__()\n",
    "        self.model = nn.Sequential(\n",
    "            nn.ConvTranspose2d(latent_dim, 2048, kernel_size=4, stride=2, padding=1, bias=False),\n",
    "            # depthwise_conv(1024, 1),\n",
    "            nn.InstanceNorm2d(2048),\n",
    "            nn.SELU(True), # 512 x 2 x 2\n",
    "\n",
    "            depthwise_conv(2048, 1),\n",
    "            nn.ConvTranspose2d(2048, 1024, kernel_size=4, stride=2, padding=1, bias=False),\n",
    "            nn.InstanceNorm2d(1024),\n",
    "            nn.SELU(True),\n",
    "            # state size. 512 x 4 x 4\n",
    "\n",
    "            depthwise_conv(1024, 1),\n",
    "            nn.ConvTranspose2d(1024, 512, kernel_size=4, stride=2, padding=1, bias=False),\n",
    "            nn.InstanceNorm2d(512),\n",
    "            nn.SELU(True),\n",
    "            # state size. 512 x 8 x 8\n",
    "\n",
    "            depthwise_conv(512, 1),\n",
    "            nn.ConvTranspose2d(512, 256, kernel_size=4, stride=2, padding=1, bias=False),\n",
    "            nn.InstanceNorm2d(256),\n",
    "            nn.SELU(True),\n",
    "            # state size. 512 x 16 x 16\n",
    "\n",
    "            depthwise_conv(256, 1),\n",
    "            nn.ConvTranspose2d(256, 128, kernel_size=4, stride=2, padding=1, bias=False),\n",
    "            depthwise_conv(128, 1),\n",
    "            nn.InstanceNorm2d(128),\n",
    "            nn.SELU(True),\n",
    "            # state size. 512 x 32 x 32            \n",
    "            \n",
    "            depthwise_conv(128, 1),\n",
    "            nn.ConvTranspose2d(128, 256, kernel_size=4, stride=2, padding=1, bias=False),\n",
    "            depthwise_conv(256, 1),\n",
    "            nn.InstanceNorm2d(256),\n",
    "            nn.SELU(True),\n",
    "            # state size. 512 x 64 x 64\n",
    "\n",
    "            depthwise_conv(256, 1),\n",
    "            nn.ConvTranspose2d(256, 512, kernel_size=4, stride=2, padding=1, bias=False),\n",
    "            depthwise_conv(512, 1),\n",
    "            nn.InstanceNorm2d(512),\n",
    "            nn.SELU(True),\n",
    "            # state size. 512 x 128 x 128\n",
    "\n",
    "            depthwise_conv(512, 1),\n",
    "            nn.ConvTranspose2d(512, 1, kernel_size=4, stride=2, padding=1, bias=False),\n",
    "            nn.SELU(True),\n",
    "            nn.Tanh(),\n",
    "            # state size. 1 x 256 x 256\n",
    "        )\n",
    "\n",
    "    def forward(self, x):\n",
    "        x = self.model(x)\n",
    "        return x"
   ]
  },
  {
   "cell_type": "code",
   "execution_count": null,
   "metadata": {},
   "outputs": [],
   "source": [
    "netG = Generator(latent_dim)\n",
    "netG = netG.to(device)"
   ]
  },
  {
   "cell_type": "code",
   "execution_count": null,
   "metadata": {},
   "outputs": [],
   "source": [
    "# torch.cuda.set_device(0)  # 0번 GPU를 사용하도록 설정\n",
    "# idist.device()"
   ]
  },
  {
   "cell_type": "code",
   "execution_count": null,
   "metadata": {},
   "outputs": [],
   "source": [
    "# summary(netG, (latent_dim, 1, 1))"
   ]
  },
  {
   "cell_type": "code",
   "execution_count": null,
   "metadata": {},
   "outputs": [],
   "source": [
    "class Discriminator(nn.Module):\n",
    "    def __init__(self):\n",
    "        super(Discriminator, self).__init__()\n",
    "        self.model = nn.Sequential(\n",
    "            # input is 1 x 256\n",
    "            nn.Conv2d(1, 8, 3, 2, 1, bias=False),\n",
    "            depthwise_conv(8, 1),  # Depthwise Convolution\n",
    "            nn.SiLU(inplace=True),\n",
    "            # input is 128\n",
    "\n",
    "            nn.Conv2d(8, 16, 3, 2, 1, bias=False),\n",
    "            depthwise_conv(16, 1),  # Depthwise Convolution\n",
    "            nn.InstanceNorm2d(16),\n",
    "            nn.SiLU(inplace=True),\n",
    "            # input is 64\n",
    "\n",
    "            nn.Conv2d(16, 32, 3, 2, 1, bias=False),\n",
    "            depthwise_conv(32, 1),  # Depthwise Convolution\n",
    "            nn.InstanceNorm2d(32),\n",
    "            nn.SiLU(inplace=True),\n",
    "            # input is 32\n",
    "\n",
    "            nn.Conv2d(32, 64, 3, 2, 1, bias=False),\n",
    "            depthwise_conv(64, 1),  # Depthwise Convolution\n",
    "            nn.InstanceNorm2d(64),\n",
    "            nn.SiLU(inplace=True),\n",
    "            # input is 16\n",
    "\n",
    "            nn.Conv2d(64, 128, 3, 2, 1, bias=False),\n",
    "            depthwise_conv(128, 1),  # Depthwise Convolution\n",
    "            nn.InstanceNorm2d(128),\n",
    "            nn.SiLU(inplace=True),\n",
    "            # input is 8\n",
    "\n",
    "            nn.Conv2d(128, 256, 3, 2, 1, bias=False),\n",
    "            depthwise_conv(256, 1),  # Depthwise Convolution\n",
    "            nn.InstanceNorm2d(256),\n",
    "            nn.SiLU(inplace=True),\n",
    "            # input is 4\n",
    "\n",
    "            nn.AdaptiveAvgPool2d((1,1)),  # 평탄화를 위해 전역 평균 풀링 사용\n",
    "\n",
    "            nn.Flatten(),  # Flatten the output\n",
    "            nn.Linear(256, 1),  # Final Linear layer to reduce to 1 output\n",
    "            nn.Sigmoid()\n",
    "        )\n",
    "\n",
    "    def forward(self, x):\n",
    "        x = self.model(x)\n",
    "        return x"
   ]
  },
  {
   "cell_type": "code",
   "execution_count": null,
   "metadata": {},
   "outputs": [],
   "source": [
    "netD = Discriminator()\n",
    "netD = netD.to(device)\n",
    "# summary(netD, (1, 256, 256))"
   ]
  },
  {
   "cell_type": "code",
   "execution_count": null,
   "metadata": {},
   "outputs": [],
   "source": [
    "criterionL1 = nn.MSELoss()\n",
    "criterionL2 = nn.BCELoss()"
   ]
  },
  {
   "cell_type": "code",
   "execution_count": null,
   "metadata": {},
   "outputs": [],
   "source": [
    "fixed_noise = torch.randn(10, latent_dim, 1, 1, device=device)"
   ]
  },
  {
   "cell_type": "code",
   "execution_count": null,
   "metadata": {},
   "outputs": [],
   "source": [
    "optimizerD = optim.Adam(netD.parameters(), lr=0.0002, betas=(0.5, 0.999))\n",
    "optimizerG = optim.Adam(netG.parameters(), lr=0.0002, betas=(0.5, 0.999))"
   ]
  },
  {
   "cell_type": "code",
   "execution_count": null,
   "metadata": {},
   "outputs": [],
   "source": [
    "real_label = 1\n",
    "fake_label = 0\n",
    "\n",
    "\n",
    "def training_step(engine, data):\n",
    "    netG.train()\n",
    "    netD.train()\n",
    "\n",
    "    netD.zero_grad()\n",
    "\n",
    "    # 실제 이미지에 대한 판별자 손실 계산\n",
    "    real = data[0].to(device)\n",
    "    b_size = real.size(0)\n",
    "    real_label_tensor = torch.full((b_size,), real_label, dtype=torch.float, device=device)\n",
    "    fake_label_tensor = torch.full((b_size,), fake_label, dtype=torch.float, device=device)\n",
    "\n",
    "    output_real = netD(real).view(-1)\n",
    "    errD_real_BCE = criterionL2(output_real, real_label_tensor)\n",
    "    errD_real_MSE = criterionL1(output_real, real_label_tensor)\n",
    "    errD_real = 0.4 * errD_real_BCE + 0.6 * errD_real_MSE\n",
    "    errD_real.backward()\n",
    "\n",
    "    # 가짜 이미지에 대한 판별자 손실 계산\n",
    "    noise = torch.randn(b_size, latent_dim, 1, 1, device=device)\n",
    "    fake = netG(noise)\n",
    "    output_fake = netD(fake.detach()).view(-1)\n",
    "    errD_fake_BCE = criterionL2(output_fake, fake_label_tensor)\n",
    "    errD_fake_MSE = criterionL1(output_fake, fake_label_tensor)\n",
    "    errD_fake = 0.4 * errD_fake_BCE + 0.6 * errD_fake_MSE\n",
    "    errD_fake.backward()\n",
    "\n",
    "    errD = errD_real + errD_fake\n",
    "    optimizerD.step()\n",
    "\n",
    "    # 생성자 손실 계산\n",
    "    netG.zero_grad()\n",
    "    output = netD(fake).view(-1)\n",
    "    errG_BCE = criterionL2(output, real_label_tensor)\n",
    "    errG_MSE = criterionL1(output, real_label_tensor)\n",
    "    errG = 0.4 * errG_BCE + 0.6 * errG_MSE\n",
    "    errG.backward()\n",
    "    optimizerG.step()\n",
    "\n",
    "    return {\n",
    "        \"Total_Loss_D\": errD.item(),\n",
    "        \"Loss_D_real_BCE\": errD_real_BCE.item(),\n",
    "        \"Loss_D_real_MSE\": errD_real_MSE.item(),\n",
    "        \"Loss_D_fake_BCE\": errD_fake_BCE.item(),\n",
    "        \"Loss_D_fake_MSE\": errD_fake_MSE.item(),\n",
    "        \"Total_Loss_G\": errG.item(),\n",
    "        \"Loss_G_BCE\": errG_BCE.item(),\n",
    "        \"Loss_G_MSE\": errG_MSE.item(),\n",
    "        \"D_x\": output_real.mean().item(),\n",
    "        \"D_G_z1\": output_fake.mean().item(),\n",
    "        \"D_G_z2\": output.mean().item(),\n",
    "    }\n"
   ]
  },
  {
   "cell_type": "code",
   "execution_count": null,
   "metadata": {},
   "outputs": [],
   "source": [
    "trainer = Engine(training_step)"
   ]
  },
  {
   "cell_type": "code",
   "execution_count": null,
   "metadata": {},
   "outputs": [],
   "source": [
    "def initialize_fn(m):\n",
    "    classname = m.__class__.__name__\n",
    "    if classname.find('Conv') != -1:\n",
    "        nn.init.normal_(m.weight.data, 0.0, 0.02)\n",
    "    elif classname.find('BatchNorm') != -1:\n",
    "        nn.init.normal_(m.weight.data, 1.0, 0.02)\n",
    "        nn.init.constant_(m.bias.data, 0)"
   ]
  },
  {
   "cell_type": "code",
   "execution_count": null,
   "metadata": {},
   "outputs": [],
   "source": [
    "@trainer.on(Events.STARTED)\n",
    "def init_weights():\n",
    "    netD.apply(initialize_fn)\n",
    "    netG.apply(initialize_fn)"
   ]
  },
  {
   "cell_type": "code",
   "execution_count": null,
   "metadata": {},
   "outputs": [],
   "source": [
    "G_losses = []\n",
    "D_losses = []\n",
    "\n",
    "@trainer.on(Events.ITERATION_COMPLETED)\n",
    "def store_losses(engine):\n",
    "    o = engine.state.output\n",
    "    G_losses.append(o[\"Total_Loss_G\"])\n",
    "    D_losses.append(o[\"Total_Loss_D\"])"
   ]
  },
  {
   "cell_type": "code",
   "execution_count": null,
   "metadata": {},
   "outputs": [],
   "source": [
    "img_list = []\n",
    "\n",
    "@trainer.on(Events.ITERATION_COMPLETED(every=500))\n",
    "def store_images(engine):\n",
    "    with torch.no_grad():\n",
    "        fake = netG(fixed_noise).cpu()\n",
    "    img_list.append(fake)"
   ]
  },
  {
   "cell_type": "code",
   "execution_count": null,
   "metadata": {},
   "outputs": [],
   "source": [
    "# from ignite.metrics import FID, InceptionScore"
   ]
  },
  {
   "cell_type": "code",
   "execution_count": null,
   "metadata": {},
   "outputs": [],
   "source": [
    "# fid_metric = FID(device=idist.device())"
   ]
  },
  {
   "cell_type": "code",
   "execution_count": null,
   "metadata": {},
   "outputs": [],
   "source": [
    "# is_metric = InceptionScore(device=idist.device(), output_transform=lambda x: x[0])"
   ]
  },
  {
   "cell_type": "code",
   "execution_count": null,
   "metadata": {},
   "outputs": [],
   "source": [
    "import PIL.Image as Image\n",
    "\n",
    "\n",
    "def interpolate(batch):\n",
    "    arr = []\n",
    "    for img in batch:\n",
    "        pil_img = transforms.ToPILImage()(img)\n",
    "        arr.append(transforms.ToTensor()(pil_img))\n",
    "    return torch.stack(arr)\n",
    "\n",
    "\n",
    "def evaluation_step(engine, batch):\n",
    "    netG.eval()\n",
    "    with torch.no_grad():\n",
    "        netG.to(device)\n",
    "        noise = torch.randn(batch_size, latent_dim, 1, 1, device=device)\n",
    "        fake_batch = netG(noise).to(device)\n",
    "        fake = interpolate(fake_batch)\n",
    "        # print(fake.shape)\n",
    "        real = interpolate(batch[0])\n",
    "        # print(real.shape)\n",
    "        return fake, real"
   ]
  },
  {
   "cell_type": "code",
   "execution_count": null,
   "metadata": {},
   "outputs": [],
   "source": [
    "evaluator = Engine(evaluation_step)\n",
    "# fid_metric.attach(evaluator, \"fid\")\n",
    "# is_metric.attach(evaluator, \"is\")"
   ]
  },
  {
   "cell_type": "code",
   "execution_count": null,
   "metadata": {},
   "outputs": [],
   "source": [
    "fid_values = []\n",
    "is_values = []\n",
    "\n",
    "\n",
    "@trainer.on(Events.EPOCH_COMPLETED)\n",
    "def log_training_results(engine):\n",
    "    evaluator.run(test_dataloader,max_epochs=1)\n",
    "    # metrics = evaluator.state.metrics\n",
    "    # fid_score = metrics['fid']\n",
    "    # is_score = metrics['is']\n",
    "    # fid_values.append(fid_score)\n",
    "    # is_values.append(is_score)\n",
    "    # print(f\"Epoch [{engine.state.epoch}/100] Metric Scores\")\n",
    "    # print(f\"*   FID : {fid_score:4f}\")\n",
    "    # print(f\"*    IS : {is_score:4f}\")\n",
    "\n",
    "    with torch.no_grad():\n",
    "        fake = netG(fixed_noise).to(device)\n",
    "\n",
    "    epoch_number = engine.state.epoch\n",
    "    image_filename = f\"img/FLIR_DCGAN_BASE_BCE_MSE_I/{epoch_number}_epoch.png\"\n",
    "    save_image(fake.data[:10], image_filename, nrow=5, normalize=True)\n",
    "\n",
    "    # img = cv2.imread(image_filename)\n",
    "    # plt.figure(figsize=(30, 30))\n",
    "    # plt.imshow(img, interpolation='nearest')\n",
    "    # plt.axis('off')\n",
    "    # plt.show()\n"
   ]
  },
  {
   "cell_type": "code",
   "execution_count": null,
   "metadata": {},
   "outputs": [],
   "source": [
    "from ignite.metrics import RunningAverage\n",
    "\n",
    "RunningAverage(output_transform=lambda x: x[\"Total_Loss_G\"]).attach(trainer, 'Loss_G')\n",
    "RunningAverage(output_transform=lambda x: x[\"Total_Loss_D\"]).attach(trainer, 'Loss_D')"
   ]
  },
  {
   "cell_type": "code",
   "execution_count": null,
   "metadata": {},
   "outputs": [],
   "source": [
    "from ignite.contrib.handlers import ProgressBar\n",
    "\n",
    "ProgressBar().attach(trainer, metric_names=['Loss_G','Loss_D'])\n",
    "ProgressBar().attach(evaluator)"
   ]
  },
  {
   "cell_type": "code",
   "execution_count": null,
   "metadata": {},
   "outputs": [],
   "source": [
    "def training(*args):\n",
    "    trainer.run(train_dataloader, max_epochs=200)"
   ]
  },
  {
   "cell_type": "code",
   "execution_count": null,
   "metadata": {},
   "outputs": [],
   "source": [
    "real_batch = next(iter(train_dataloader))\n",
    "print(real_batch[0].shape)"
   ]
  },
  {
   "cell_type": "code",
   "execution_count": null,
   "metadata": {},
   "outputs": [],
   "source": [
    "# with idist.Parallel(backend='nccl') as parallel:\n",
    "    # parallel.run(training)\n",
    "training()\n",
    "\n",
    "# 둘의 Loss가 합이 3을 안넘는게 좋네? \n",
    "# Discriminator는 Filter 갯수를 적게 (시작: 4 ~ 8)\n",
    "# Generator는 Filter 갯수를 많이 (시작: 2048 ~ 4096)"
   ]
  },
  {
   "cell_type": "code",
   "execution_count": null,
   "metadata": {},
   "outputs": [],
   "source": [
    "%matplotlib inline \n",
    "\n",
    "plt.figure(figsize=(10,5))\n",
    "plt.title(\"Generator and Discriminator Loss During Training\")\n",
    "plt.plot(G_losses,label=\"G\")\n",
    "plt.plot(D_losses,label=\"D\")\n",
    "plt.xlabel(\"iterations\") \n",
    "plt.ylabel(\"Loss\")\n",
    "plt.legend()\n",
    "\n",
    "plt.savefig('DCGAN_BCE_MSE_I_loss.png')\n",
    "plt.show()"
   ]
  },
  {
   "cell_type": "code",
   "execution_count": null,
   "metadata": {},
   "outputs": [],
   "source": [
    "# fig, ax1 = plt.subplots()\n",
    "\n",
    "# plt.title(\"Evaluation Metric During Training\")\n",
    "\n",
    "# color = 'tab:red'\n",
    "# ax1.set_xlabel('epochs')\n",
    "# ax1.set_ylabel('IS', color=color)\n",
    "# ax1.plot(is_values, color=color)\n",
    "\n",
    "# ax2 = ax1.twinx()\n",
    "\n",
    "# color = 'tab:blue'\n",
    "# ax2.set_ylabel('FID', color=color)\n",
    "# ax2.plot(fid_values, color=color)\n",
    "\n",
    "# fig.tight_layout()\n",
    "\n",
    "# fig.savefig('DCGAN_evaluation_metric.png')\n",
    "# plt.show()\n"
   ]
  },
  {
   "cell_type": "code",
   "execution_count": null,
   "metadata": {},
   "outputs": [],
   "source": [
    "%matplotlib inline\n",
    "\n",
    "# Grab a batch of real images from the dataloader\n",
    "real_batch = next(iter(train_dataloader))\n",
    "\n",
    "# Plot the real images\n",
    "plt.figure(figsize=(30,30))\n",
    "plt.subplot(1,2,1)\n",
    "plt.axis(\"off\")\n",
    "plt.title(\"Real Images\")\n",
    "plt.imshow(np.transpose(vutils.make_grid(real_batch[0][:9], padding=5, normalize=True).cpu(),(1,2,0)))\n",
    "\n",
    "# Plot the fake images from the last epoch\n",
    "plt.subplot(1,2,2)\n",
    "plt.axis(\"off\")\n",
    "plt.title(\"Fake Images\")\n",
    "plt.imshow(np.transpose(vutils.make_grid(img_list[-1], padding=2, normalize=True).cpu(),(1,2,0)))\n",
    "\n",
    "\n",
    "plt.savefig('DCGAN_BCE_MSE_I_images_comparison.png')\n",
    "plt.show()"
   ]
  },
  {
   "cell_type": "code",
   "execution_count": null,
   "metadata": {},
   "outputs": [],
   "source": []
  }
 ],
 "metadata": {
  "kernelspec": {
   "display_name": "torch",
   "language": "python",
   "name": "python3"
  },
  "language_info": {
   "codemirror_mode": {
    "name": "ipython",
    "version": 3
   },
   "file_extension": ".py",
   "mimetype": "text/x-python",
   "name": "python",
   "nbconvert_exporter": "python",
   "pygments_lexer": "ipython3",
   "version": "3.8.0"
  }
 },
 "nbformat": 4,
 "nbformat_minor": 2
}
