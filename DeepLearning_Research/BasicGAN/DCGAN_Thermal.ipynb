{
 "cells": [
  {
   "cell_type": "code",
   "execution_count": null,
   "metadata": {},
   "outputs": [],
   "source": [
    "import torch\n",
    "import torchvision\n",
    "import ignite\n",
    "\n",
    "print(*map(lambda m: \": \".join((m.__name__, m.__version__)), (torch, torchvision, ignite)), sep=\"\\n\")"
   ]
  },
  {
   "cell_type": "code",
   "execution_count": null,
   "metadata": {},
   "outputs": [],
   "source": [
    "import os\n",
    "import logging\n",
    "import matplotlib.pyplot as plt\n",
    "\n",
    "import cv2\n",
    "import numpy as np\n",
    "\n",
    "from torchsummary import summary\n",
    "\n",
    "import torch\n",
    "import torch.nn as nn\n",
    "import torch.optim as optim\n",
    "\n",
    "from torch.utils.data import DataLoader\n",
    "import torchvision.transforms as transforms\n",
    "from torchvision.utils import save_image\n",
    "import torchvision.datasets as dset\n",
    "import torchvision.utils as vutils\n",
    "\n",
    "from ignite.engine import Engine, Events\n",
    "import ignite.distributed as idist"
   ]
  },
  {
   "cell_type": "code",
   "execution_count": null,
   "metadata": {},
   "outputs": [],
   "source": [
    "ignite.utils.manual_seed(999)\n",
    "ignite.utils.setup_logger(name=\"ignite.distributed.auto.auto_dataloader\", level=logging.WARNING)\n",
    "ignite.utils.setup_logger(name=\"ignite.distributed.launcher.Parallel\", level=logging.WARNING)"
   ]
  },
  {
   "cell_type": "code",
   "execution_count": null,
   "metadata": {},
   "outputs": [],
   "source": [
    "image_size = 256\n",
    "\n",
    "data_transform = transforms.Compose(\n",
    "    [\n",
    "        transforms.Resize(image_size),\n",
    "        transforms.CenterCrop(image_size),\n",
    "        # transforms.Grayscale(num_output_channels=1),\n",
    "        transforms.ToTensor(),\n",
    "        transforms.Normalize((0.5,0.5,0.5), (0.5,0.5,0.5)),\n",
    "    ]\n",
    ")\n",
    "device = torch.device(\"cuda:0\" if torch.cuda.is_available() else \"cpu\")\n",
    "train_dataset = dset.ImageFolder(root=\"datasets/HighResolution/FLIR\", transform=data_transform)\n",
    "test_dataset = torch.utils.data.Subset(train_dataset, torch.arange(3000))"
   ]
  },
  {
   "cell_type": "code",
   "execution_count": null,
   "metadata": {},
   "outputs": [],
   "source": [
    "batch_size = 9\n",
    "\n",
    "train_dataloader = DataLoader(\n",
    "    train_dataset, \n",
    "    batch_size=batch_size, \n",
    "    num_workers=8, \n",
    "    shuffle=True, \n",
    "    drop_last=True,\n",
    ")\n",
    "\n",
    "test_dataloader = DataLoader(\n",
    "    test_dataset, \n",
    "    batch_size=batch_size, \n",
    "    num_workers=8, \n",
    "    shuffle=False, \n",
    "    drop_last=True,\n",
    ")"
   ]
  },
  {
   "cell_type": "code",
   "execution_count": null,
   "metadata": {},
   "outputs": [],
   "source": [
    "real_batch = next(iter(train_dataloader))\n",
    "\n",
    "plt.figure(figsize=(20,20))\n",
    "plt.axis(\"off\")\n",
    "plt.title(\"Training Images\")\n",
    "plt.imshow(np.transpose(vutils.make_grid(real_batch[0][:4], padding=2, normalize=True).cpu(),(1,2,0)))\n",
    "plt.show()\n",
    "print(real_batch[0][0].shape)"
   ]
  },
  {
   "cell_type": "code",
   "execution_count": null,
   "metadata": {},
   "outputs": [],
   "source": [
    "latent_dim = 150"
   ]
  },
  {
   "cell_type": "code",
   "execution_count": null,
   "metadata": {},
   "outputs": [],
   "source": [
    "# class Generator1x512x512(nn.Module):\n",
    "#     def __init__(self, latent_dim):\n",
    "#         super(Generator1x512x512, self).__init__()\n",
    "#         self.model = nn.Sequential(\n",
    "#             nn.ConvTranspose2d(in_channels=latent_dim, out_channels=2096, \n",
    "#                                kernel_size=4, stride=1, padding=0, bias=False),\n",
    "#             nn.BatchNorm2d(2096),\n",
    "#             nn.ReLU(True),\n",
    "#             # state size. 2096 x 4 x 4\n",
    "#             nn.ConvTranspose2d(2096, 1024, 4, 2, 1, bias=False),\n",
    "#             nn.BatchNorm2d(1024),\n",
    "#             nn.ReLU(True),\n",
    "#             # state size. 1024 x 8 x 8\n",
    "#             nn.ConvTranspose2d(1024, 512, 4, 2, 1, bias=False),\n",
    "#             nn.BatchNorm2d(512),\n",
    "#             nn.ReLU(True),\n",
    "#             # state size. 512 x 16 x 16\n",
    "#             nn.ConvTranspose2d(512, 256, 4, 2, 1, bias=False),\n",
    "#             nn.BatchNorm2d(256),\n",
    "#             nn.ReLU(True),\n",
    "#             # state size. 256 x 32 x 32\n",
    "#             nn.ConvTranspose2d(256, 128, 4, 2, 1, bias=False),\n",
    "#             nn.BatchNorm2d(128),\n",
    "#             nn.ReLU(True),\n",
    "#             # state size. 128 x 64 x 64\n",
    "\n",
    "#             nn.ConvTranspose2d(128, 64, 4, 2, 1, bias=False),\n",
    "#             nn.BatchNorm2d(64),\n",
    "#             nn.ReLU(True),\n",
    "#             # state size. 64 x 128 x 128\n",
    "\n",
    "#             nn.ConvTranspose2d(64, 32, 4, 2, 1, bias=False),\n",
    "#             nn.BatchNorm2d(32),\n",
    "#             nn.ReLU(True),\n",
    "#             # state size. 32 x 256 x 256\n",
    "\n",
    "#             nn.ConvTranspose2d(32, 3, 4, 2, 1, bias=False),\n",
    "#             nn.Tanh(),\n",
    "#             # state size. 3 x 512 x 512\n",
    "#         )\n",
    "\n",
    "#     def forward(self, x):\n",
    "#         x = self.model(x)\n",
    "#         return x"
   ]
  },
  {
   "cell_type": "code",
   "execution_count": null,
   "metadata": {},
   "outputs": [],
   "source": [
    "class Generator1x512x512(nn.Module):\n",
    "    def __init__(self, latent_dim):\n",
    "        super(Generator1x512x512, self).__init__()\n",
    "        self.model = nn.Sequential(\n",
    "            nn.ConvTranspose2d(in_channels=latent_dim, out_channels=1024, \n",
    "                               kernel_size=4, stride=1, padding=0, bias=False),\n",
    "            nn.BatchNorm2d(1024),\n",
    "            nn.SELU(True),\n",
    "            # state size. 1024 x 4 x 4\n",
    "\n",
    "            nn.ConvTranspose2d(1024, 512, 4, 2, 1, bias=False),\n",
    "            nn.BatchNorm2d(512),\n",
    "            nn.SELU(True),\n",
    "            # state size. 512 x 8 x 8\n",
    "\n",
    "            nn.ConvTranspose2d(512, 256, 4, 2, 1, bias=False),\n",
    "            nn.BatchNorm2d(256),\n",
    "            nn.SELU(True),\n",
    "            # state size. 256 x 16 x 16\n",
    "\n",
    "            nn.ConvTranspose2d(256, 128, 4, 2, 1, bias=False),\n",
    "            nn.BatchNorm2d(128),\n",
    "            nn.SELU(True),\n",
    "            # state size. 128 x 32 x 32\n",
    "\n",
    "            nn.ConvTranspose2d(128, 64, 4, 2, 1, bias=False),\n",
    "            nn.BatchNorm2d(64),\n",
    "            nn.SELU(True),\n",
    "            # state size. 64 x 64 x 64            \n",
    "\n",
    "            nn.ConvTranspose2d(64, 32, 4, 2, 1, bias=False),\n",
    "            nn.BatchNorm2d(32),\n",
    "            nn.SELU(True),\n",
    "            # state size. 1 x 128 x 128\n",
    "\n",
    "            # nn.ConvTranspose2d(128, 64, 4, 2, 1, bias=False),\n",
    "            # nn.BatchNorm2d(64),\n",
    "            # nn.ReLU(True),\n",
    "            # state size. 1 x 256 x 256\n",
    "\n",
    "            nn.ConvTranspose2d(32, 3, 4, 2, 1, bias=False),\n",
    "            nn.Tanh(),\n",
    "            # state size. 1 x 256 x 256\n",
    "        )\n",
    "\n",
    "    def forward(self, x):\n",
    "        # print(x.shape)\n",
    "        x = self.model(x)\n",
    "        return x"
   ]
  },
  {
   "cell_type": "code",
   "execution_count": null,
   "metadata": {},
   "outputs": [],
   "source": [
    "netG = Generator1x512x512(latent_dim)\n",
    "netG = netG.to(device)"
   ]
  },
  {
   "cell_type": "code",
   "execution_count": null,
   "metadata": {},
   "outputs": [],
   "source": [
    "# torch.cuda.set_device(0)  # 0번 GPU를 사용하도록 설정\n",
    "idist.device()"
   ]
  },
  {
   "cell_type": "code",
   "execution_count": null,
   "metadata": {},
   "outputs": [],
   "source": [
    "# summary(netG, (latent_dim, 1, 1))"
   ]
  },
  {
   "cell_type": "code",
   "execution_count": null,
   "metadata": {},
   "outputs": [],
   "source": [
    "# class Discriminator1x512x512(nn.Module):\n",
    "#     def __init__(self):\n",
    "#         super(Discriminator1x512x512, self).__init__()\n",
    "#         self.model = nn.Sequential(\n",
    "#             # input is 3 x 512 x 512\n",
    "#             nn.Conv2d(3, 64, 4, 2, 1, bias=False),\n",
    "#             nn.LeakyReLU(0.2, inplace=True),\n",
    "#             # state size. 64 x 256 x 256\n",
    "\n",
    "#             nn.Conv2d(64, 128, 4, 2, 1, bias=False),\n",
    "#             nn.BatchNorm2d(128),\n",
    "#             nn.LeakyReLU(0.2, inplace=True),\n",
    "#             # state size. 128 x 128 x 128\n",
    "\n",
    "#             nn.Conv2d(128, 256, 4, 2, 1, bias=False),\n",
    "#             nn.BatchNorm2d(256),\n",
    "#             nn.LeakyReLU(0.2, inplace=True),\n",
    "#             # state size. 256 x 64 x 64\n",
    "\n",
    "#             nn.Conv2d(256, 512, 4, 2, 1, bias=False),\n",
    "#             nn.BatchNorm2d(512),\n",
    "#             nn.LeakyReLU(0.2, inplace=True),\n",
    "#             # state size. 512 x 32 x 32\n",
    "\n",
    "#             nn.Conv2d(512, 1024, 4, 2, 1, bias=False),\n",
    "#             nn.BatchNorm2d(1024),\n",
    "#             nn.LeakyReLU(0.2, inplace=True),\n",
    "#             # state size. 1024 x 16 x 16\n",
    "\n",
    "#             nn.Conv2d(1024, 2048, 4, 2, 1, bias=False),\n",
    "#             nn.BatchNorm2d(2048),\n",
    "#             nn.LeakyReLU(0.2, inplace=True),\n",
    "#             # state size. 2048 x 8 x 8\n",
    "\n",
    "#             nn.Conv2d(2048, 1, 8, 1, 0, bias=False),\n",
    "#             nn.Sigmoid()\n",
    "#         )\n",
    "\n",
    "#     def forward(self, x):\n",
    "#         x = self.model(x)\n",
    "#         return x"
   ]
  },
  {
   "cell_type": "code",
   "execution_count": null,
   "metadata": {},
   "outputs": [],
   "source": [
    "class Discriminator1x512x512(nn.Module):\n",
    "    def __init__(self):\n",
    "        super(Discriminator1x512x512, self).__init__()\n",
    "        self.model = nn.Sequential(\n",
    "            # input is 1 x 256\n",
    "            \n",
    "            nn.Conv2d(3, 8, 4, 2, 1, bias=False),\n",
    "            nn.SiLU(inplace = True),\n",
    "            # input is 128\n",
    "\n",
    "            nn.Conv2d(8, 16, 4, 2, 1, bias=False),\n",
    "            nn.BatchNorm2d(16),\n",
    "            # nn.LeakyReLU(0.3, inplace = True),\n",
    "            nn.SiLU(inplace = True),\n",
    "            # input is 64\n",
    "\n",
    "            nn.Conv2d(16, 32, 4, 2, 1, bias=False),\n",
    "            nn.BatchNorm2d(32),\n",
    "            nn.SiLU(inplace = True),\n",
    "            # input is 32\n",
    "\n",
    "            nn.Conv2d(32, 64, 4, 2, 1, bias=False),\n",
    "            nn.BatchNorm2d(64),\n",
    "            nn.SiLU(inplace = True),\n",
    "            # input is 16\n",
    "\n",
    "            nn.Conv2d(64, 128, 4, 2, 1, bias=False),\n",
    "            nn.BatchNorm2d(128),\n",
    "            nn.SiLU(inplace = True),\n",
    "            # input is 6\n",
    "\n",
    "            nn.Conv2d(128, 256, 4, 2, 1, bias=False),\n",
    "            nn.BatchNorm2d(256),\n",
    "            nn.SiLU(inplace = True),\n",
    "            # input is 4\n",
    "\n",
    "            # nn.Conv2d(256, 512, 4, 2, 1, bias=False),\n",
    "            # nn.BatchNorm2d(512),\n",
    "            # nn.SiLU(inplace = True),\n",
    "            # input is 4 x 4\n",
    "\n",
    "            nn.Conv2d(256, 1, 4, 1, 0, bias=False),\n",
    "            nn.Sigmoid()\n",
    "        )\n",
    "\n",
    "    def forward(self, x):\n",
    "        x = self.model(x)\n",
    "        return x"
   ]
  },
  {
   "cell_type": "code",
   "execution_count": null,
   "metadata": {},
   "outputs": [],
   "source": [
    "netD = Discriminator1x512x512()\n",
    "netD = netD.to(device)\n",
    "# summary(netD, (3, 256, 256))"
   ]
  },
  {
   "cell_type": "code",
   "execution_count": null,
   "metadata": {},
   "outputs": [],
   "source": [
    "criterion = nn.BCELoss()"
   ]
  },
  {
   "cell_type": "code",
   "execution_count": null,
   "metadata": {},
   "outputs": [],
   "source": [
    "fixed_noise = torch.randn(10, latent_dim, 1, 1, device=device)"
   ]
  },
  {
   "cell_type": "code",
   "execution_count": null,
   "metadata": {},
   "outputs": [],
   "source": [
    "optimizerD = optim.Adam(netD.parameters(), lr=0.0002, betas=(0.5, 0.999))\n",
    "optimizerG = optim.Adam(netG.parameters(), lr=0.0002, betas=(0.5, 0.999))"
   ]
  },
  {
   "cell_type": "code",
   "execution_count": null,
   "metadata": {},
   "outputs": [],
   "source": [
    "real_label = 1\n",
    "fake_label = 0\n",
    "\n",
    "\n",
    "def training_step(engine, data):\n",
    "    netG.train()\n",
    "    netD.train()\n",
    "\n",
    "    netD.zero_grad()\n",
    "\n",
    "    real = data[0].to(device)\n",
    "    b_size = real.size(0)\n",
    "    label = torch.full((b_size,), real_label, dtype=torch.float, device=device)\n",
    "\n",
    "    output1 = netD(real).view(-1)\n",
    "    errD_real = criterion(output1, label)\n",
    "    errD_real.backward()\n",
    "\n",
    "    noise = torch.randn(b_size, latent_dim, 1, 1, device=device)\n",
    "    fake = netG(noise)\n",
    "    label.fill_(fake_label)\n",
    "    \n",
    "    output2 = netD(fake.detach()).view(-1)\n",
    "    errD_fake = criterion(output2, label)\n",
    "    errD_fake.backward()\n",
    "    errD = errD_real + errD_fake\n",
    "    optimizerD.step()\n",
    "\n",
    "\n",
    "    netG.zero_grad()\n",
    "    label.fill_(real_label) \n",
    "    output3 = netD(fake).view(-1)\n",
    "    errG = criterion(output3, label)\n",
    "    errG.backward()\n",
    "    optimizerG.step()\n",
    "    \n",
    "    return {\n",
    "        \"Loss_G\" : errG.item(),\n",
    "        \"Loss_D\" : errD.item(),\n",
    "        \"D_x\": output1.mean().item(),\n",
    "        \"D_G_z1\": output2.mean().item(),\n",
    "        \"D_G_z2\": output3.mean().item(),\n",
    "    }"
   ]
  },
  {
   "cell_type": "code",
   "execution_count": null,
   "metadata": {},
   "outputs": [],
   "source": [
    "trainer = Engine(training_step)"
   ]
  },
  {
   "cell_type": "code",
   "execution_count": null,
   "metadata": {},
   "outputs": [],
   "source": [
    "def initialize_fn(m):\n",
    "    classname = m.__class__.__name__\n",
    "    if classname.find('Conv') != -1:\n",
    "        nn.init.normal_(m.weight.data, 0.0, 0.02)\n",
    "    elif classname.find('BatchNorm') != -1:\n",
    "        nn.init.normal_(m.weight.data, 1.0, 0.02)\n",
    "        nn.init.constant_(m.bias.data, 0)"
   ]
  },
  {
   "cell_type": "code",
   "execution_count": null,
   "metadata": {},
   "outputs": [],
   "source": [
    "@trainer.on(Events.STARTED)\n",
    "def init_weights():\n",
    "    netD.apply(initialize_fn)\n",
    "    netG.apply(initialize_fn)"
   ]
  },
  {
   "cell_type": "code",
   "execution_count": null,
   "metadata": {},
   "outputs": [],
   "source": [
    "G_losses = []\n",
    "D_losses = []\n",
    "\n",
    "@trainer.on(Events.ITERATION_COMPLETED)\n",
    "def store_losses(engine):\n",
    "    o = engine.state.output\n",
    "    G_losses.append(o[\"Loss_G\"])\n",
    "    D_losses.append(o[\"Loss_D\"])"
   ]
  },
  {
   "cell_type": "code",
   "execution_count": null,
   "metadata": {},
   "outputs": [],
   "source": [
    "img_list = []\n",
    "\n",
    "@trainer.on(Events.ITERATION_COMPLETED(every=500))\n",
    "def store_images(engine):\n",
    "    with torch.no_grad():\n",
    "        fake = netG(fixed_noise).cpu()\n",
    "    img_list.append(fake)"
   ]
  },
  {
   "cell_type": "code",
   "execution_count": null,
   "metadata": {},
   "outputs": [],
   "source": [
    "from ignite.metrics import FID, InceptionScore"
   ]
  },
  {
   "cell_type": "code",
   "execution_count": null,
   "metadata": {},
   "outputs": [],
   "source": [
    "fid_metric = FID(device=idist.device())"
   ]
  },
  {
   "cell_type": "code",
   "execution_count": null,
   "metadata": {},
   "outputs": [],
   "source": [
    "is_metric = InceptionScore(device=idist.device(), output_transform=lambda x: x[0])"
   ]
  },
  {
   "cell_type": "code",
   "execution_count": null,
   "metadata": {},
   "outputs": [],
   "source": [
    "import PIL.Image as Image\n",
    "\n",
    "\n",
    "def interpolate(batch):\n",
    "    arr = []\n",
    "    for img in batch:\n",
    "        pil_img = transforms.ToPILImage()(img)\n",
    "        arr.append(transforms.ToTensor()(pil_img))\n",
    "    return torch.stack(arr)\n",
    "\n",
    "\n",
    "def evaluation_step(engine, batch):\n",
    "    netG.eval()\n",
    "    with torch.no_grad():\n",
    "        noise = torch.randn(batch_size, latent_dim, 1, 1, device=device)\n",
    "        fake_batch = netG(noise).to(device)\n",
    "        fake = interpolate(fake_batch)\n",
    "        # print(fake.shape)\n",
    "        real = interpolate(batch[0])\n",
    "        # print(real.shape)\n",
    "        return fake, real"
   ]
  },
  {
   "cell_type": "code",
   "execution_count": null,
   "metadata": {},
   "outputs": [],
   "source": [
    "evaluator = Engine(evaluation_step)\n",
    "fid_metric.attach(evaluator, \"fid\")\n",
    "is_metric.attach(evaluator, \"is\")"
   ]
  },
  {
   "cell_type": "code",
   "execution_count": null,
   "metadata": {},
   "outputs": [],
   "source": [
    "fid_values = []\n",
    "is_values = []\n",
    "\n",
    "\n",
    "@trainer.on(Events.EPOCH_COMPLETED)\n",
    "def log_training_results(engine):\n",
    "    evaluator.run(test_dataloader,max_epochs=1)\n",
    "    metrics = evaluator.state.metrics\n",
    "    fid_score = metrics['fid']\n",
    "    is_score = metrics['is']\n",
    "    fid_values.append(fid_score)\n",
    "    is_values.append(is_score)\n",
    "    print(f\"Epoch [{engine.state.epoch}/100] Metric Scores\")\n",
    "    print(f\"*   FID : {fid_score:4f}\")\n",
    "    print(f\"*    IS : {is_score:4f}\")\n",
    "\n",
    "    with torch.no_grad():\n",
    "        fake = netG(fixed_noise).to(device)\n",
    "\n",
    "    epoch_number = engine.state.epoch\n",
    "    image_filename = f\"img/FLIR_DCGAN/{epoch_number}_epoch.png\"\n",
    "    save_image(fake.data[:10], image_filename, nrow=5, normalize=True)\n",
    "\n",
    "    # img = cv2.imread(image_filename)\n",
    "    # plt.figure(figsize=(30, 30))\n",
    "    # plt.imshow(img, interpolation='nearest')\n",
    "    # plt.axis('off')\n",
    "    # plt.show()\n"
   ]
  },
  {
   "cell_type": "code",
   "execution_count": null,
   "metadata": {},
   "outputs": [],
   "source": [
    "from ignite.metrics import RunningAverage\n",
    "\n",
    "RunningAverage(output_transform=lambda x: x[\"Loss_G\"]).attach(trainer, 'Loss_G')\n",
    "RunningAverage(output_transform=lambda x: x[\"Loss_D\"]).attach(trainer, 'Loss_D')"
   ]
  },
  {
   "cell_type": "code",
   "execution_count": null,
   "metadata": {},
   "outputs": [],
   "source": [
    "from ignite.contrib.handlers import ProgressBar\n",
    "\n",
    "ProgressBar().attach(trainer, metric_names=['Loss_G','Loss_D'])\n",
    "ProgressBar().attach(evaluator)"
   ]
  },
  {
   "cell_type": "code",
   "execution_count": null,
   "metadata": {},
   "outputs": [],
   "source": [
    "def training(*args):\n",
    "    trainer.run(train_dataloader, max_epochs=180)"
   ]
  },
  {
   "cell_type": "code",
   "execution_count": null,
   "metadata": {},
   "outputs": [],
   "source": [
    "real_batch = next(iter(train_dataloader))\n",
    "print(real_batch[0].shape)"
   ]
  },
  {
   "cell_type": "code",
   "execution_count": null,
   "metadata": {},
   "outputs": [],
   "source": [
    "# with idist.Parallel(backend='nccl') as parallel:\n",
    "    # parallel.run(training)\n",
    "training()\n",
    "\n",
    "# 둘의 Loss가 합이 3을 안넘는게 좋네? \n",
    "# Discriminator는 Filter 갯수를 적게 (시작: 4 ~ 8)\n",
    "# Generator는 Filter 갯수를 많이 (시작: 2048 ~ 4096)"
   ]
  },
  {
   "cell_type": "code",
   "execution_count": null,
   "metadata": {},
   "outputs": [],
   "source": [
    "%matplotlib inline \n",
    " \n",
    "plt.figure(figsize=(10,5))\n",
    "plt.title(\"Generator and Discriminator Loss During Training\")\n",
    "plt.plot(G_losses,label=\"G\")\n",
    "plt.plot(D_losses,label=\"D\")\n",
    "plt.xlabel(\"iterations\")\n",
    "plt.ylabel(\"Loss\")\n",
    "plt.legend()\n",
    "\n",
    "plt.savefig('DCGAN_training_loss.png')\n",
    "plt.show()"
   ]
  },
  {
   "cell_type": "code",
   "execution_count": null,
   "metadata": {},
   "outputs": [],
   "source": [
    "fig, ax1 = plt.subplots()\n",
    "\n",
    "plt.title(\"Evaluation Metric During Training\")\n",
    "\n",
    "color = 'tab:red'\n",
    "ax1.set_xlabel('epochs')\n",
    "ax1.set_ylabel('IS', color=color)\n",
    "ax1.plot(is_values, color=color)\n",
    "\n",
    "ax2 = ax1.twinx()\n",
    "\n",
    "color = 'tab:blue'\n",
    "ax2.set_ylabel('FID', color=color)\n",
    "ax2.plot(fid_values, color=color)\n",
    "\n",
    "fig.tight_layout()\n",
    "\n",
    "fig.savefig('DCGAN_evaluation_metric.png')\n",
    "plt.show()\n"
   ]
  },
  {
   "cell_type": "code",
   "execution_count": null,
   "metadata": {},
   "outputs": [],
   "source": [
    "%matplotlib inline\n",
    "\n",
    "# Grab a batch of real images from the dataloader\n",
    "real_batch = next(iter(train_dataloader))\n",
    "\n",
    "# Plot the real images\n",
    "plt.figure(figsize=(30,30))\n",
    "plt.subplot(1,2,1)\n",
    "plt.axis(\"off\")\n",
    "plt.title(\"Real Images\")\n",
    "plt.imshow(np.transpose(vutils.make_grid(real_batch[0][:9], padding=5, normalize=True).cpu(),(1,2,0)))\n",
    "\n",
    "# Plot the fake images from the last epoch\n",
    "plt.subplot(1,2,2)\n",
    "plt.axis(\"off\")\n",
    "plt.title(\"Fake Images\")\n",
    "plt.imshow(np.transpose(vutils.make_grid(img_list[-1], padding=2, normalize=True).cpu(),(1,2,0)))\n",
    "\n",
    "\n",
    "plt.savefig('DCGAN_real_fake_images_comparison.png')\n",
    "plt.show()"
   ]
  },
  {
   "cell_type": "code",
   "execution_count": null,
   "metadata": {},
   "outputs": [],
   "source": []
  }
 ],
 "metadata": {
  "kernelspec": {
   "display_name": "torch",
   "language": "python",
   "name": "python3"
  },
  "language_info": {
   "codemirror_mode": {
    "name": "ipython",
    "version": 3
   },
   "file_extension": ".py",
   "mimetype": "text/x-python",
   "name": "python",
   "nbconvert_exporter": "python",
   "pygments_lexer": "ipython3",
   "version": "3.8.0"
  }
 },
 "nbformat": 4,
 "nbformat_minor": 2
}
