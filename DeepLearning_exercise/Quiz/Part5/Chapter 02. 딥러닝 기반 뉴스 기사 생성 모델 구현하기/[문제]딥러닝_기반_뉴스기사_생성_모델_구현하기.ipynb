{
  "nbformat": 4,
  "nbformat_minor": 0,
  "metadata": {
    "accelerator": "GPU",
    "colab": {
      "name": "[문제]딥러닝 기반_뉴스기사_생성_모델_구현하기",
      "provenance": [],
      "collapsed_sections": []
    },
    "kernelspec": {
      "display_name": "Python 3",
      "language": "python",
      "name": "python3"
    },
    "language_info": {
      "codemirror_mode": {
        "name": "ipython",
        "version": 3
      },
      "file_extension": ".py",
      "mimetype": "text/x-python",
      "name": "python",
      "nbconvert_exporter": "python",
      "pygments_lexer": "ipython3",
      "version": "3.6.10"
    }
  },
  "cells": [
    {
      "cell_type": "markdown",
      "metadata": {
        "id": "U6iOz3KxXkGK"
      },
      "source": [
        "# 주제 : 뉴스기사 생성 모델 구현하기"
      ]
    },
    {
      "cell_type": "markdown",
      "metadata": {
        "id": "jioUvCUIXnhe"
      },
      "source": [
        "이번 튜토리얼에서는 LSTM layer를 활용하여 가짜 뉴스기사 생성기를 만들어 보도록 하겠습니다. 튜토리얼을 진행하면서 **한글 자연어 전처리, 학습을 위한 데이터셋 구축, 그리고 LSTM 텍스트 생성기 모델** 완성을 학습하실 수 있습니다."
      ]
    },
    {
      "cell_type": "markdown",
      "metadata": {
        "id": "lEsQyK6GErgR"
      },
      "source": [
        "## Step 1. 데이터 불러오기 및 전처리"
      ]
    },
    {
      "cell_type": "markdown",
      "metadata": {
        "id": "yeYlgTdfEzV3"
      },
      "source": [
        "### 문제 01. 필요한 모듈 import"
      ]
    },
    {
      "cell_type": "code",
      "metadata": {
        "id": "okTryvaYEfVZ"
      },
      "source": [
        "import tensorflow as tf\n",
        "import numpy as np\n",
        "import time\n",
        "import pandas as pd\n",
        "import os\n",
        "import re"
      ],
      "execution_count": null,
      "outputs": []
    },
    {
      "cell_type": "markdown",
      "metadata": {
        "id": "5KIbKYuU1B1k"
      },
      "source": [
        "### 문제 02. 데이터 불러오기"
      ]
    },
    {
      "cell_type": "markdown",
      "metadata": {
        "id": "jVq4fqx-1B1l"
      },
      "source": [
        "- 한글 뉴스기사 데이터셋을 받습니다.\n",
        "- 한글 뉴스기사 200개의 데이터셋입니다.\n",
        "- IT 관련 기사 데이터셋입니다. IT 관련 뉴스기사를 학습 시키므로, 향후 예측시 IT 관련된 뉴스기사가 생성됩니다."
      ]
    },
    {
      "cell_type": "code",
      "metadata": {
        "id": "XHPd6ZDw1B1l"
      },
      "source": [
        "df = pd.read_csv('https://bit.ly/3n7iHQX')"
      ],
      "execution_count": null,
      "outputs": []
    },
    {
      "cell_type": "markdown",
      "metadata": {
        "id": "M_BEtxR91B1l"
      },
      "source": [
        "- 전처리를 진행합니다.\n",
        "- re 모듈을 사용하며 regular expression 문법을 사용하여, 한글, 영어, 숫자를 제외한 모든 문자는 제거합니다.\n",
        "- 문장의 끝에는 '#'를 추가하여, 신문 기사의 끝이라는 표기를 해줍니다."
      ]
    },
    {
      "cell_type": "code",
      "metadata": {
        "id": "obn2pKB01B1m"
      },
      "source": [
        "def clean_sentence(sentence):\n",
        "    # 한글, 영어, 숫자를 제외한 모든 문자는 제거합니다.\n",
        "    sentence = re.sub(r'[^0-9a-zA-Zㄱ-ㅎㅏ-ㅣ가-힣 ]',r'', sentence)\n",
        "    # 문장의 끝을 표기합니다.\n",
        "    sentence += ' #'\n",
        "    return sentence"
      ],
      "execution_count": null,
      "outputs": []
    },
    {
      "cell_type": "code",
      "metadata": {
        "id": "OCLu-i8n1B1m"
      },
      "source": [
        "clean_sentence('abcef가나다^^$%@12시 땡^^!??')"
      ],
      "execution_count": null,
      "outputs": []
    },
    {
      "cell_type": "markdown",
      "metadata": {
        "id": "flSsfU4n3P4p"
      },
      "source": [
        "데이터프레임의 `text`에 `clean_sentece`를 적용합니다."
      ]
    },
    {
      "cell_type": "code",
      "metadata": {
        "id": "SytnQm_T1B1n"
      },
      "source": [
        "# 코드를 입력하세요\r\n",
        "df['text'] = "
      ],
      "execution_count": null,
      "outputs": []
    },
    {
      "cell_type": "code",
      "metadata": {
        "id": "IXvn4fH61B1n"
      },
      "source": [
        "df.head()"
      ],
      "execution_count": null,
      "outputs": []
    },
    {
      "cell_type": "markdown",
      "metadata": {
        "id": "j6MY4qCCEfVm"
      },
      "source": [
        "### 문제 03. 데이터 프레임에서 text만 병합하기"
      ]
    },
    {
      "cell_type": "markdown",
      "metadata": {
        "id": "SyzhalHI1B1o"
      },
      "source": [
        "`text` 변수에 데이터프레임의 담긴 모든 기사를 join하여 병합합니다."
      ]
    },
    {
      "cell_type": "markdown",
      "metadata": {
        "id": "18hZwbSm3gHx"
      },
      "source": [
        "데이터 프레임의 `text`를 모두 병합합니다."
      ]
    },
    {
      "cell_type": "code",
      "metadata": {
        "id": "dP8-a8VmEfVn"
      },
      "source": [
        "# 코드를 입력하세요\r\n"
      ],
      "execution_count": null,
      "outputs": []
    },
    {
      "cell_type": "markdown",
      "metadata": {
        "id": "6HA5IDD01B1o"
      },
      "source": [
        "총 문장의 길이는 다음과 같습니다."
      ]
    },
    {
      "cell_type": "code",
      "metadata": {
        "id": "jCZwAMbwEfVn"
      },
      "source": [
        "# 총 문장의 길이\n",
        "len(text)"
      ],
      "execution_count": null,
      "outputs": []
    },
    {
      "cell_type": "markdown",
      "metadata": {
        "id": "NwGCGTy41B1p"
      },
      "source": [
        "문장의 500 글자만 출력해 봅니다. 전처리가 완료된 문장이 출려됨을 확인할 수 있습니다."
      ]
    },
    {
      "cell_type": "code",
      "metadata": {
        "id": "r1pXJ8x8EfVp"
      },
      "source": [
        "print(text[:500])"
      ],
      "execution_count": null,
      "outputs": []
    },
    {
      "cell_type": "markdown",
      "metadata": {
        "id": "hGO7N_2-EfVp"
      },
      "source": [
        "### 문제 04. 텍스트 기본 전처리 (preprocessing)"
      ]
    },
    {
      "cell_type": "markdown",
      "metadata": {
        "id": "G6TT6-Rf1B1q"
      },
      "source": [
        "단어 사전을 만듭니다. 먼저, 중복되는 모든 글자를 제외하기 위하여 **set를 활용**합니다."
      ]
    },
    {
      "cell_type": "code",
      "metadata": {
        "id": "tMzJc2WnEfVq"
      },
      "source": [
        "# 코드를 입력하세요\r\n",
        "vocab = "
      ],
      "execution_count": null,
      "outputs": []
    },
    {
      "cell_type": "code",
      "metadata": {
        "id": "9ahEXvOtEfVq"
      },
      "source": [
        "vocab[:20]"
      ],
      "execution_count": null,
      "outputs": []
    },
    {
      "cell_type": "markdown",
      "metadata": {
        "id": "b55h8e2z1B1q"
      },
      "source": [
        "고유 글자의 숫자를 확인합니다."
      ]
    },
    {
      "cell_type": "code",
      "metadata": {
        "id": "TPcVmJDTEfVr"
      },
      "source": [
        "# 고유 글자의 숫자 확인\n",
        "len(vocab)"
      ],
      "execution_count": null,
      "outputs": []
    },
    {
      "cell_type": "markdown",
      "metadata": {
        "id": "XS_8rjbg1B1r"
      },
      "source": [
        "'?'라는 글자는 `vocab` 변수에 없는 글자임을 확인할 수 있습니다. 전처리 단계에서 제거했기 때문에 당연히 없습니다."
      ]
    },
    {
      "cell_type": "code",
      "metadata": {
        "id": "UFblnqXl1B1r"
      },
      "source": [
        "'?' in vocab"
      ],
      "execution_count": null,
      "outputs": []
    },
    {
      "cell_type": "markdown",
      "metadata": {
        "id": "VLg7pjQi1B1r"
      },
      "source": [
        "**'?'** 글자를 추가해 주는데, 추후 사용자의 입력이 없는 글자일 때는 ?로 입력하기 위함입니다."
      ]
    },
    {
      "cell_type": "code",
      "metadata": {
        "id": "fmFA3igN1B1s"
      },
      "source": [
        "# 코드를 입력하세요\r\n",
        "vocab."
      ],
      "execution_count": null,
      "outputs": []
    },
    {
      "cell_type": "markdown",
      "metadata": {
        "id": "WGVhTYP2EfVr"
      },
      "source": [
        "### 문제 05. 데이터 형태 변환하기"
      ]
    },
    {
      "cell_type": "markdown",
      "metadata": {
        "id": "0wVsb0Ob1B1s"
      },
      "source": [
        "`char2idx`는 글자를 index로 변환하는 역할이고, `idx2char`는 index를 글자로 역변환하는 목적입니다."
      ]
    },
    {
      "cell_type": "code",
      "metadata": {
        "id": "nFIzFLfAEfVs"
      },
      "source": [
        "# 글자 -> index로 변환\n",
        "# 코드를 입력하세요\n",
        "char2idx = "
      ],
      "execution_count": null,
      "outputs": []
    },
    {
      "cell_type": "code",
      "metadata": {
        "id": "V3Dlmyk8EfVs"
      },
      "source": [
        "# index -> 글자로 변환\n",
        "# 코드를 입력하세요\n",
        "idx2char = "
      ],
      "execution_count": null,
      "outputs": []
    },
    {
      "cell_type": "markdown",
      "metadata": {
        "id": "YTf9OO4vEfVs"
      },
      "source": [
        "## STEP 2. 단어 사전 만들기"
      ]
    },
    {
      "cell_type": "markdown",
      "metadata": {
        "id": "1TOzDoEtEfVt"
      },
      "source": [
        "### 문제 06. for문을 사용해 문서를 연속된 수치형 값들로 치환합니다."
      ]
    },
    {
      "cell_type": "markdown",
      "metadata": {
        "id": "sr_Hu7_m4ewx"
      },
      "source": [
        "문장을 `char2idx`를 활용하여 텍스트를 int로 변환합니다. (sequence 변환)"
      ]
    },
    {
      "cell_type": "code",
      "metadata": {
        "id": "a8_Bp_U2EfVt"
      },
      "source": [
        "# 코드를 입력하세요\r\n",
        "text_as_int = "
      ],
      "execution_count": null,
      "outputs": []
    },
    {
      "cell_type": "code",
      "metadata": {
        "id": "vzNMj8EKEfVt"
      },
      "source": [
        "text_as_int"
      ],
      "execution_count": null,
      "outputs": []
    },
    {
      "cell_type": "code",
      "metadata": {
        "id": "vuVELDFxEfVt"
      },
      "source": [
        "len(text_as_int)"
      ],
      "execution_count": null,
      "outputs": []
    },
    {
      "cell_type": "markdown",
      "metadata": {
        "id": "aVfWkUnHEfVu"
      },
      "source": [
        "### 문제 07. 변환된 부분을 확인합니다. (처음 5개)"
      ]
    },
    {
      "cell_type": "markdown",
      "metadata": {
        "id": "OWXtqehA1B1u"
      },
      "source": [
        "**원문의 출력**은 다음과 같습니다."
      ]
    },
    {
      "cell_type": "code",
      "metadata": {
        "id": "RPXOEWvGEfVu"
      },
      "source": [
        "# 원문\n",
        "text[:5]"
      ],
      "execution_count": null,
      "outputs": []
    },
    {
      "cell_type": "markdown",
      "metadata": {
        "id": "Ct5ijCC-1B1u"
      },
      "source": [
        "**sequence로 변환**된 출력은 다음과 같습니다. 한글자씩 변환된 것을 볼 수 있습니다."
      ]
    },
    {
      "cell_type": "code",
      "metadata": {
        "id": "XR0foxBa1B1v"
      },
      "source": [
        "char2idx['갤'], char2idx['럭'], char2idx['시'], char2idx['S'], char2idx['9']"
      ],
      "execution_count": null,
      "outputs": []
    },
    {
      "cell_type": "code",
      "metadata": {
        "id": "EC7RBq9aEfVu"
      },
      "source": [
        "# 변환된 sequence\n",
        "text_as_int[:5]"
      ],
      "execution_count": null,
      "outputs": []
    },
    {
      "cell_type": "markdown",
      "metadata": {
        "id": "DmM0XnCKYpen"
      },
      "source": [
        "### 문제 08. 각각의 단어사전으로 출력합니다."
      ]
    },
    {
      "cell_type": "code",
      "metadata": {
        "colab": {
          "base_uri": "https://localhost:8080/"
        },
        "id": "uY5B2EKyEfVu",
        "outputId": "16b0b7ce-dd29-417a-fa27-a681b89f6547"
      },
      "source": [
        "char2idx[' '], char2idx['회'], char2idx['사'], char2idx['#'], char2idx['?'], "
      ],
      "execution_count": null,
      "outputs": [
        {
          "output_type": "execute_result",
          "data": {
            "text/plain": [
              "(0, 1144, 599, 1, 1172)"
            ]
          },
          "metadata": {
            "tags": []
          },
          "execution_count": 23
        }
      ]
    },
    {
      "cell_type": "markdown",
      "metadata": {
        "id": "DG422zZJajrQ"
      },
      "source": [
        "## Step 3. 데이터셋 생성 및 EDA"
      ]
    },
    {
      "cell_type": "markdown",
      "metadata": {
        "id": "r4RB9pRmEfVv"
      },
      "source": [
        "### 문제 09. X, Y 데이터셋 생성하기"
      ]
    },
    {
      "cell_type": "code",
      "metadata": {
        "id": "nxLyqzaLEfVv"
      },
      "source": [
        "# 아래 코드는 그대로 실행해주세요.\n",
        "# 단일 입력에 대해 원하는 문장의 최대 길이를 지정합니다.\n",
        "window_size = 100\n",
        "shuffle_buffer = 1000\n",
        "batch_size=128"
      ],
      "execution_count": null,
      "outputs": []
    },
    {
      "cell_type": "code",
      "metadata": {
        "id": "S35twbV6EfVv"
      },
      "source": [
        "# 데이터셋을 만드는 함수를 구현해봅니다.\n",
        "# 코드를 입력하세요\n",
        "def windowed_dataset(series, window_size, shuffle_buffer, batch_size):\n",
        "    series = tf.expand_dims(series, -1)\n",
        "    # numpy array를 tensor로 변환\n",
        "    series = tf.expand_dims(series, -1)\n",
        "    ds = tf.data.Dataset.from_tensor_slices(series)\n",
        "    # window 구성 (shift=1, drop_remainder=True 설정)\n",
        "    ds = ds.window(window_size + 1, shift=1, drop_remainder=True)\n",
        "    # flat_map 적용\n",
        "    ds = ds.flat_map(lambda x: x.batch(window_size + 1))\n",
        "    # shuffle 적용\n",
        "    ds = ds.shuffle(shuffle_buffer)\n",
        "    # x, y 분할\n",
        "    return ds.batch(batch_size).prefetch(1).repeat()"
      ],
      "execution_count": null,
      "outputs": []
    },
    {
      "cell_type": "code",
      "metadata": {
        "id": "XQGsUYY-EfVv"
      },
      "source": [
        "train_data = windowed_dataset(np.array(text_as_int), window_size, shuffle_buffer, batch_size)"
      ],
      "execution_count": null,
      "outputs": []
    },
    {
      "cell_type": "markdown",
      "metadata": {
        "id": "pBFDZ0dmY7Qg"
      },
      "source": [
        "### 문제 10. 어휘 사전의 크기를 간단히 살펴봅니다."
      ]
    },
    {
      "cell_type": "code",
      "metadata": {
        "id": "-_nx-mWnEfVw"
      },
      "source": [
        "# 문자로 된 어휘 사전의 크기\n",
        "# vocab_size에 vocab의 길이를 대입합니다.\n",
        "# 코드를 입력하세요\n",
        "vocab_size = \n",
        "vocab_size"
      ],
      "execution_count": null,
      "outputs": []
    },
    {
      "cell_type": "markdown",
      "metadata": {
        "id": "-D6SKQowaojm"
      },
      "source": [
        "## Step 4.Sequential 모델 구현하기"
      ]
    },
    {
      "cell_type": "markdown",
      "metadata": {
        "id": "0vPMeRLGZCQI"
      },
      "source": [
        "### 문제 11. keras를 활용해 Sequential 모델을 구현합니다."
      ]
    },
    {
      "cell_type": "markdown",
      "metadata": {
        "id": "rYubFDhe1B1x"
      },
      "source": [
        "hyperparameter를 다음과 같이 설정합니다. 데이터셋에 따라서 언제든 변경하면서 더 좋은 성능을 내는 hyperparameter 값을 찾을 수 있습니다."
      ]
    },
    {
      "cell_type": "code",
      "metadata": {
        "id": "qgQYOBoeEfVw"
      },
      "source": [
        "# 아래 코드는 그대로 실행해주세요.\n",
        "# 임베딩 차원\n",
        "embedding_dim = 256\n",
        "\n",
        "# RNN 유닛(unit) 개수\n",
        "rnn_units = 1024"
      ],
      "execution_count": null,
      "outputs": []
    },
    {
      "cell_type": "code",
      "metadata": {
        "id": "2akdn8nVEfVw",
        "scrolled": true
      },
      "source": [
        "model = tf.keras.Sequential([\n",
        "    # Embedding Layer\n",
        "    \n",
        "    # LSTM Layer (returen_sequences=True, initializer는 glorot_uniform으로 설정)\n",
        "    \n",
        "    # Dense의 unit은 vocab_size로 설정\n",
        "    \n",
        "])"
      ],
      "execution_count": null,
      "outputs": []
    },
    {
      "cell_type": "code",
      "metadata": {
        "id": "-mpkPQjxEfVw"
      },
      "source": [
        "model.summary()"
      ],
      "execution_count": null,
      "outputs": []
    },
    {
      "cell_type": "markdown",
      "metadata": {
        "id": "-Pds1usgEfVx"
      },
      "source": [
        "### 문제 12. 모델을 저장할 Checkpoint를 생성합니다."
      ]
    },
    {
      "cell_type": "code",
      "metadata": {
        "id": "BUTI9EshEfVx"
      },
      "source": [
        "checkpoint_path = 'sample-checkpoint.h5'\n",
        "# 코드를 입력하세요\n",
        "checkpointer = tf.keras.callbacks.ModelCheckpoint(\n",
        "    filepath=\n",
        "    save_best_only=\n",
        "    monitor=\n",
        "    verbose=1, \n",
        ")"
      ],
      "execution_count": null,
      "outputs": []
    },
    {
      "cell_type": "markdown",
      "metadata": {
        "id": "c5zhp3vmZU1l"
      },
      "source": [
        "### 문제 14. 모델을 컴파일합니다. 옵티마이저는 adam을 사용해주세요."
      ]
    },
    {
      "cell_type": "code",
      "metadata": {
        "id": "sOViuJyyEfVx"
      },
      "source": [
        "model.compile(optimizer=\r\n",
        "              loss=\r\n",
        "              metrics=\r\n",
        "              )"
      ],
      "execution_count": null,
      "outputs": []
    },
    {
      "cell_type": "markdown",
      "metadata": {
        "id": "P0VrJdeDZiPn"
      },
      "source": [
        "### 문제 15. steps_per_epoch를 지정합니다."
      ]
    },
    {
      "cell_type": "markdown",
      "metadata": {
        "id": "gSL8bTGj1B1y"
      },
      "source": [
        "**steps_per_epoch에 대하여**\n",
        "\n",
        "\n",
        "1. fit()함수를 취할 때, 버젼별로 `steps_per_epoch`과, `validation_steps`의 값이 지정되어 있지 않으면 학습이 안되는 현상이 있습니다.\n",
        "\n",
        "2. 따라서, 위의 2가지 파라미터에 값을 넣어 주면 정상적으로 학습하기 시작합니다.\n",
        "\n",
        "3. `steps_per_epoch`은 weight를 업데이트 하는 주기 입니다. 보통은 이미지 데이터셋의 총 갯수가 1000개 일 때, `batch_size`가 128개 이면, **이미지갯수**/**배치사이즈**만큼 weight를 업데이트 합니다. 쉽게 말해서, batch가 다 돌때마다 weight를 업데이트 합니다.\n",
        "\n",
        "4. 1000개 이미지 / 128 하면 7.8125 (소수점)이 나오기 때문에 1000 // 128 해주면 해결되는데요. 몫을 구하면 7이나오기 때문에 +1을 해주면 됩니다. 즉, 마지막 batch는 128개보다 적겠네요. 그래도 weight 업데이트 해줘야하니깐 최종 `steps_per_epoch`은 8이 맞습니다.\n",
        "\n",
        "5. validation_steps는 validation_generator의 weight 업데이트 숫자입니다. 4번에서 구한 `steps_per_epoch`과 동일한 원리로 validation dataset을 기준으로 계산하면 됩니다.\n",
        "\n",
        "6. validation data는 500개고, batch_size가 이번에는 32개면 500 // 32 + 1 = 16 이 되겠네요.\n",
        "\n",
        "7. 하지만, 이런 고민 모두다 필요없이 `steps_per_epoch` = len(training_generator)\n",
        "`validation_steps` = len(validation_generator) 로 설정해주면 초 간단합니다^^"
      ]
    },
    {
      "cell_type": "code",
      "metadata": {
        "id": "TirOJgNMEfVx"
      },
      "source": [
        "steps_per_epoch = (len(text_as_int) - window_size) // (batch_size)\n",
        "steps_per_epoch"
      ],
      "execution_count": null,
      "outputs": []
    },
    {
      "cell_type": "markdown",
      "metadata": {
        "id": "Cm95kBbfZlf0"
      },
      "source": [
        "### 문제 16. 모델을 학습하고 callbacks로 앞에서 만든 체크포인트를 할당해줍니다."
      ]
    },
    {
      "cell_type": "code",
      "metadata": {
        "id": "UXnkQba11B1z"
      },
      "source": [
        "# 이어서 학습시 아래 코드를 실행합니다.\r\n",
        "# model.load_weights(checkpoint_path)"
      ],
      "execution_count": null,
      "outputs": []
    },
    {
      "cell_type": "code",
      "metadata": {
        "id": "H8nTDb2xEfVy"
      },
      "source": [
        "model.fit(train_data, \n",
        "          epochs= \n",
        "          steps_per_epoch=\n",
        "          callbacks=\n",
        "          )"
      ],
      "execution_count": null,
      "outputs": []
    },
    {
      "cell_type": "markdown",
      "metadata": {
        "id": "7P__1XcrbXTY"
      },
      "source": [
        "## Step 5. 모델을 활용한 뉴스기사 생성"
      ]
    },
    {
      "cell_type": "code",
      "metadata": {
        "id": "q9B_hZHcEfVy"
      },
      "source": [
        "model = tf.keras.Sequential([\n",
        "    # Embedding Layer\n",
        "    \n",
        "    # LSTM Layer (returen_sequences=True, initializer는 glorot_uniform으로 설정)\n",
        "    \n",
        "    # Dense의 unit은 vocab_size로 설정\n",
        "    \n",
        "])"
      ],
      "execution_count": null,
      "outputs": []
    },
    {
      "cell_type": "markdown",
      "metadata": {
        "id": "kYMYNo_naEfY"
      },
      "source": [
        "### 문제 17. 저장한 Model Checkpoint를 불러옵니다."
      ]
    },
    {
      "cell_type": "code",
      "metadata": {
        "id": "VzusyCTQEfVy"
      },
      "source": [
        "# 코드를 입력하세요\r\n"
      ],
      "execution_count": null,
      "outputs": []
    },
    {
      "cell_type": "markdown",
      "metadata": {
        "id": "Wqvfa3m8bF15"
      },
      "source": [
        "### 문제 18. 모델을 build하고 요약 내용을 출력해봅니다."
      ]
    },
    {
      "cell_type": "code",
      "metadata": {
        "id": "6Ynbz1aZEfVy"
      },
      "source": [
        "model."
      ],
      "execution_count": null,
      "outputs": []
    },
    {
      "cell_type": "code",
      "metadata": {
        "id": "0Q45AWkOEfVz"
      },
      "source": [
        "model.summary()"
      ],
      "execution_count": null,
      "outputs": []
    },
    {
      "cell_type": "markdown",
      "metadata": {
        "id": "TQUD6gPKbPBT"
      },
      "source": [
        "### 문제 19. 불러온 모델을 활용해 뉴스기사를 생성해봅니다."
      ]
    },
    {
      "cell_type": "code",
      "metadata": {
        "id": "Bl6eJ0-IEfVz"
      },
      "source": [
        "def generate_text(model, start_string):\n",
        "    # 평가 단계 (학습된 모델을 사용하여 텍스트 생성)\n",
        "\n",
        "    # 생성할 문자의 수\n",
        "    num_generate = 1000\n",
        "\n",
        "    # 시작 문자열을 숫자로 변환(벡터화)\n",
        "    input_eval = \n",
        "    input_eval = tf.expand_dims(input_eval, 0)\n",
        "\n",
        "    # 결과를 저장할 빈 문자열\n",
        "    text_generated = []\n",
        "\n",
        "    # 온도가 낮으면 더 예측 가능한 텍스트가 됩니다.\n",
        "    # 온도가 높으면 더 의외의 텍스트가 됩니다.\n",
        "    # 최적의 세팅을 찾기 위한 실험\n",
        "    temperature = 0.1\n",
        "\n",
        "    # 여기에서 배치 크기 == 1\n",
        "    model.reset_states()\n",
        "    for i in range(num_generate):\n",
        "        predictions = \n",
        "        # 배치 차원 제거\n",
        "        predictions = \n",
        "\n",
        "        # 범주형 분포를 사용하여 모델에서 리턴한 단어 예측\n",
        "        predictions = \n",
        "        predicted_id = tf.random.categorical(predictions, num_samples=1)[-1, 0].numpy()\n",
        "\n",
        "        # 예측된 단어를 다음 입력으로 모델에 전달\n",
        "        # 이전 은닉 상태와 함께\n",
        "        input_eval = tf.expand_dims([predicted_id], 0)\n",
        "        result_char = idx2char[predicted_id]\n",
        "        \n",
        "        # '#' 문자열을 만나면 종료합니다.\n",
        "        if result_char == '#':\n",
        "            break\n",
        "        \n",
        "        text_generated.append(result_char)\n",
        "\n",
        "    return (start_string + ''.join(text_generated))"
      ],
      "execution_count": null,
      "outputs": []
    },
    {
      "cell_type": "code",
      "metadata": {
        "id": "U3IcCpGJEfVz"
      },
      "source": [
        "print(generate_text(model, start_string=u\"스마트폰 \"))"
      ],
      "execution_count": null,
      "outputs": []
    }
  ]
}