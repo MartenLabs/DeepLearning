{
  "nbformat": 4,
  "nbformat_minor": 0,
  "metadata": {
    "accelerator": "GPU",
    "colab": {
      "name": "[해설] LSTM을 활용해 주가 예측 모델 구현하기",
      "provenance": [],
      "collapsed_sections": []
    },
    "kernelspec": {
      "display_name": "Python 3",
      "language": "python",
      "name": "python3"
    },
    "language_info": {
      "codemirror_mode": {
        "name": "ipython",
        "version": 3
      },
      "file_extension": ".py",
      "mimetype": "text/x-python",
      "name": "python",
      "nbconvert_exporter": "python",
      "pygments_lexer": "ipython3",
      "version": "3.6.10"
    }
  },
  "cells": [
    {
      "cell_type": "markdown",
      "metadata": {
        "id": "OF9lUuqwBudU"
      },
      "source": [
        "# 주제 : LSTM을 활용해 주가 예측 모델 구현하기"
      ]
    },
    {
      "cell_type": "markdown",
      "metadata": {
        "id": "G-rOVLn7Budf"
      },
      "source": [
        "이번 튜토리얼 에서는 다음과 같은 **프로세스 파이프라인**으로 주가 예측을 진행합니다.\n",
        "\n",
        "- FinanceDataReader를 활용하여 주가 데이터 받아오기\n",
        "- TensorFlow Dataset 클래스를 활용하여 주가 데이터 구축\n",
        "- LSTM 을 활용한 주가 예측 모델 구축"
      ]
    },
    {
      "cell_type": "markdown",
      "metadata": {
        "id": "UshzfuK6CJX4"
      },
      "source": [
        "## Step 1. 데이터 불러오기 및 EDA"
      ]
    },
    {
      "cell_type": "markdown",
      "metadata": {
        "id": "EZFBO9GwBudh"
      },
      "source": [
        "### 문제 01. 필요한 모듈 import"
      ]
    },
    {
      "cell_type": "code",
      "metadata": {
        "id": "pYEgcrR1Budi"
      },
      "source": [
        "import pandas as pd\n",
        "import numpy as np\n",
        "import matplotlib.pyplot as plt\n",
        "import seaborn as sns\n",
        "import warnings\n",
        "import os\n",
        "\n",
        "%matplotlib inline\n",
        "warnings.filterwarnings('ignore')\n",
        "\n",
        "plt.rcParams['font.family'] = 'NanumGothic'"
      ],
      "execution_count": 1,
      "outputs": []
    },
    {
      "cell_type": "markdown",
      "metadata": {
        "id": "5N-NMRFVBudi"
      },
      "source": [
        "### 문제 02. FinanceDataReader import"
      ]
    },
    {
      "cell_type": "markdown",
      "metadata": {
        "id": "a7FGN9gGBudj"
      },
      "source": [
        "**FinanceDataReader**는 주가 데이터를 편리하게 가져올 수 있는 파이썬 패키지입니다.\n",
        "\n",
        "- [GitHub Repo](https://github.com/FinanceData/FinanceDataReader)"
      ]
    },
    {
      "cell_type": "markdown",
      "metadata": {
        "id": "o6_RB59yBudj"
      },
      "source": [
        "**FinanceDataReader**가 아직 설치 되지 않으신 분들은 아래의 주석을 해제한 후 명령어로 설치해 주시기 바랍니다."
      ]
    },
    {
      "cell_type": "code",
      "metadata": {
        "id": "99EggRzTBudk",
        "colab": {
          "base_uri": "https://localhost:8080/"
        },
        "outputId": "e26f5bb1-1cff-4e04-d038-15987a64072e"
      },
      "source": [
        "!pip install finance-datareader"
      ],
      "execution_count": 2,
      "outputs": [
        {
          "output_type": "stream",
          "text": [
            "Collecting finance-datareader\n",
            "  Downloading https://files.pythonhosted.org/packages/79/aa/ca45a611033ac62ef8cad1272271a2c774647929bd0f65e91ca87f8dd36d/finance_datareader-0.9.14-py3-none-any.whl\n",
            "Requirement already satisfied: requests>=2.3.0 in /usr/local/lib/python3.6/dist-packages (from finance-datareader) (2.23.0)\n",
            "Requirement already satisfied: lxml in /usr/local/lib/python3.6/dist-packages (from finance-datareader) (4.2.6)\n",
            "Requirement already satisfied: tqdm in /usr/local/lib/python3.6/dist-packages (from finance-datareader) (4.41.1)\n",
            "Collecting requests-file\n",
            "  Downloading https://files.pythonhosted.org/packages/77/86/cdb5e8eaed90796aa83a6d9f75cfbd37af553c47a291cd47bc410ef9bdb2/requests_file-1.5.1-py2.py3-none-any.whl\n",
            "Requirement already satisfied: pandas>=0.19.2 in /usr/local/lib/python3.6/dist-packages (from finance-datareader) (1.1.5)\n",
            "Requirement already satisfied: idna<3,>=2.5 in /usr/local/lib/python3.6/dist-packages (from requests>=2.3.0->finance-datareader) (2.10)\n",
            "Requirement already satisfied: certifi>=2017.4.17 in /usr/local/lib/python3.6/dist-packages (from requests>=2.3.0->finance-datareader) (2020.12.5)\n",
            "Requirement already satisfied: chardet<4,>=3.0.2 in /usr/local/lib/python3.6/dist-packages (from requests>=2.3.0->finance-datareader) (3.0.4)\n",
            "Requirement already satisfied: urllib3!=1.25.0,!=1.25.1,<1.26,>=1.21.1 in /usr/local/lib/python3.6/dist-packages (from requests>=2.3.0->finance-datareader) (1.24.3)\n",
            "Requirement already satisfied: six in /usr/local/lib/python3.6/dist-packages (from requests-file->finance-datareader) (1.15.0)\n",
            "Requirement already satisfied: python-dateutil>=2.7.3 in /usr/local/lib/python3.6/dist-packages (from pandas>=0.19.2->finance-datareader) (2.8.1)\n",
            "Requirement already satisfied: pytz>=2017.2 in /usr/local/lib/python3.6/dist-packages (from pandas>=0.19.2->finance-datareader) (2018.9)\n",
            "Requirement already satisfied: numpy>=1.15.4 in /usr/local/lib/python3.6/dist-packages (from pandas>=0.19.2->finance-datareader) (1.19.5)\n",
            "Installing collected packages: requests-file, finance-datareader\n",
            "Successfully installed finance-datareader-0.9.14 requests-file-1.5.1\n"
          ],
          "name": "stdout"
        }
      ]
    },
    {
      "cell_type": "code",
      "metadata": {
        "id": "4vkRR9dQBudk"
      },
      "source": [
        "import FinanceDataReader as fdr"
      ],
      "execution_count": 3,
      "outputs": []
    },
    {
      "cell_type": "markdown",
      "metadata": {
        "id": "x4C9neevEYYr"
      },
      "source": [
        "### 문제 03. 삼성전자 데이터 불러오기"
      ]
    },
    {
      "cell_type": "code",
      "metadata": {
        "id": "9IqphMM7Budl"
      },
      "source": [
        "# 삼성전자(005930) 전체 (1996-11-05 ~ 현재)\n",
        "samsung = fdr.DataReader('005930')"
      ],
      "execution_count": 4,
      "outputs": []
    },
    {
      "cell_type": "markdown",
      "metadata": {
        "id": "T-WOxATwBudl"
      },
      "source": [
        "매우 편리하게 삼성전자 주가 데이터를 `DataFrame`형식으로 받아옵니다.\n",
        "\n",
        "기본 **오름차순 정렬**이 된 데이터임을 알 수 있습니다.\n",
        "\n",
        "### 컬럼 설명\n",
        "\n",
        "- `Open`:   시가\n",
        "- `High`:   고가\n",
        "- `Low`:    저가\n",
        "- `Close`:  종가\n",
        "- `Volume`: 거래량\n",
        "- `Change`: 대비"
      ]
    },
    {
      "cell_type": "markdown",
      "metadata": {
        "id": "K9w60KnkEeqW"
      },
      "source": [
        "### 문제 04. 삼성전자 데이터 EDA"
      ]
    },
    {
      "cell_type": "code",
      "metadata": {
        "id": "WfLJ5zHXBudl",
        "colab": {
          "base_uri": "https://localhost:8080/",
          "height": 235
        },
        "outputId": "b608059d-0a4f-4995-b8eb-c02ab06f26e1"
      },
      "source": [
        "samsung.tail()"
      ],
      "execution_count": 5,
      "outputs": [
        {
          "output_type": "execute_result",
          "data": {
            "text/html": [
              "<div>\n",
              "<style scoped>\n",
              "    .dataframe tbody tr th:only-of-type {\n",
              "        vertical-align: middle;\n",
              "    }\n",
              "\n",
              "    .dataframe tbody tr th {\n",
              "        vertical-align: top;\n",
              "    }\n",
              "\n",
              "    .dataframe thead th {\n",
              "        text-align: right;\n",
              "    }\n",
              "</style>\n",
              "<table border=\"1\" class=\"dataframe\">\n",
              "  <thead>\n",
              "    <tr style=\"text-align: right;\">\n",
              "      <th></th>\n",
              "      <th>Open</th>\n",
              "      <th>High</th>\n",
              "      <th>Low</th>\n",
              "      <th>Close</th>\n",
              "      <th>Volume</th>\n",
              "      <th>Change</th>\n",
              "    </tr>\n",
              "    <tr>\n",
              "      <th>Date</th>\n",
              "      <th></th>\n",
              "      <th></th>\n",
              "      <th></th>\n",
              "      <th></th>\n",
              "      <th></th>\n",
              "      <th></th>\n",
              "    </tr>\n",
              "  </thead>\n",
              "  <tbody>\n",
              "    <tr>\n",
              "      <th>2021-01-12</th>\n",
              "      <td>90300</td>\n",
              "      <td>91400</td>\n",
              "      <td>87800</td>\n",
              "      <td>90600</td>\n",
              "      <td>48682416</td>\n",
              "      <td>-0.004396</td>\n",
              "    </tr>\n",
              "    <tr>\n",
              "      <th>2021-01-13</th>\n",
              "      <td>89800</td>\n",
              "      <td>91200</td>\n",
              "      <td>89100</td>\n",
              "      <td>89700</td>\n",
              "      <td>36068848</td>\n",
              "      <td>-0.009934</td>\n",
              "    </tr>\n",
              "    <tr>\n",
              "      <th>2021-01-14</th>\n",
              "      <td>88700</td>\n",
              "      <td>90000</td>\n",
              "      <td>88700</td>\n",
              "      <td>89700</td>\n",
              "      <td>26393970</td>\n",
              "      <td>0.000000</td>\n",
              "    </tr>\n",
              "    <tr>\n",
              "      <th>2021-01-15</th>\n",
              "      <td>89800</td>\n",
              "      <td>91800</td>\n",
              "      <td>88000</td>\n",
              "      <td>88000</td>\n",
              "      <td>33431809</td>\n",
              "      <td>-0.018952</td>\n",
              "    </tr>\n",
              "    <tr>\n",
              "      <th>2021-01-18</th>\n",
              "      <td>86600</td>\n",
              "      <td>87300</td>\n",
              "      <td>84100</td>\n",
              "      <td>85000</td>\n",
              "      <td>42656806</td>\n",
              "      <td>-0.034091</td>\n",
              "    </tr>\n",
              "  </tbody>\n",
              "</table>\n",
              "</div>"
            ],
            "text/plain": [
              "             Open   High    Low  Close    Volume    Change\n",
              "Date                                                      \n",
              "2021-01-12  90300  91400  87800  90600  48682416 -0.004396\n",
              "2021-01-13  89800  91200  89100  89700  36068848 -0.009934\n",
              "2021-01-14  88700  90000  88700  89700  26393970  0.000000\n",
              "2021-01-15  89800  91800  88000  88000  33431809 -0.018952\n",
              "2021-01-18  86600  87300  84100  85000  42656806 -0.034091"
            ]
          },
          "metadata": {
            "tags": []
          },
          "execution_count": 5
        }
      ]
    },
    {
      "cell_type": "markdown",
      "metadata": {
        "id": "C0i4k1S-Budn"
      },
      "source": [
        "**미국 주식 데이터**도 가져올 수 있습니다."
      ]
    },
    {
      "cell_type": "markdown",
      "metadata": {
        "id": "ubGAbVaxEjGG"
      },
      "source": [
        "### 문제 05. 애플 데이터 불러오기"
      ]
    },
    {
      "cell_type": "code",
      "metadata": {
        "id": "_4isQ8KTBudn"
      },
      "source": [
        "# Apple(AAPL), 애플\n",
        "apple = fdr.DataReader('AAPL')"
      ],
      "execution_count": 6,
      "outputs": []
    },
    {
      "cell_type": "markdown",
      "metadata": {
        "id": "addJd0MGE6RD"
      },
      "source": [
        "### 문제 06. 애플 데이터 EDA"
      ]
    },
    {
      "cell_type": "code",
      "metadata": {
        "id": "-0JPVT6UBudn",
        "colab": {
          "base_uri": "https://localhost:8080/",
          "height": 235
        },
        "outputId": "f3fb5275-02a6-4543-9a95-96f95814a280"
      },
      "source": [
        "apple.tail()"
      ],
      "execution_count": 7,
      "outputs": [
        {
          "output_type": "execute_result",
          "data": {
            "text/html": [
              "<div>\n",
              "<style scoped>\n",
              "    .dataframe tbody tr th:only-of-type {\n",
              "        vertical-align: middle;\n",
              "    }\n",
              "\n",
              "    .dataframe tbody tr th {\n",
              "        vertical-align: top;\n",
              "    }\n",
              "\n",
              "    .dataframe thead th {\n",
              "        text-align: right;\n",
              "    }\n",
              "</style>\n",
              "<table border=\"1\" class=\"dataframe\">\n",
              "  <thead>\n",
              "    <tr style=\"text-align: right;\">\n",
              "      <th></th>\n",
              "      <th>Close</th>\n",
              "      <th>Open</th>\n",
              "      <th>High</th>\n",
              "      <th>Low</th>\n",
              "      <th>Volume</th>\n",
              "      <th>Change</th>\n",
              "    </tr>\n",
              "    <tr>\n",
              "      <th>Date</th>\n",
              "      <th></th>\n",
              "      <th></th>\n",
              "      <th></th>\n",
              "      <th></th>\n",
              "      <th></th>\n",
              "      <th></th>\n",
              "    </tr>\n",
              "  </thead>\n",
              "  <tbody>\n",
              "    <tr>\n",
              "      <th>2021-01-11</th>\n",
              "      <td>128.98</td>\n",
              "      <td>128.99</td>\n",
              "      <td>130.12</td>\n",
              "      <td>128.59</td>\n",
              "      <td>100620000.0</td>\n",
              "      <td>-0.0232</td>\n",
              "    </tr>\n",
              "    <tr>\n",
              "      <th>2021-01-12</th>\n",
              "      <td>128.80</td>\n",
              "      <td>128.40</td>\n",
              "      <td>129.66</td>\n",
              "      <td>126.89</td>\n",
              "      <td>91950000.0</td>\n",
              "      <td>-0.0014</td>\n",
              "    </tr>\n",
              "    <tr>\n",
              "      <th>2021-01-13</th>\n",
              "      <td>130.89</td>\n",
              "      <td>128.65</td>\n",
              "      <td>131.43</td>\n",
              "      <td>128.56</td>\n",
              "      <td>88640000.0</td>\n",
              "      <td>0.0162</td>\n",
              "    </tr>\n",
              "    <tr>\n",
              "      <th>2021-01-14</th>\n",
              "      <td>128.91</td>\n",
              "      <td>130.79</td>\n",
              "      <td>130.98</td>\n",
              "      <td>128.78</td>\n",
              "      <td>90220000.0</td>\n",
              "      <td>-0.0151</td>\n",
              "    </tr>\n",
              "    <tr>\n",
              "      <th>2021-01-15</th>\n",
              "      <td>127.14</td>\n",
              "      <td>128.78</td>\n",
              "      <td>130.22</td>\n",
              "      <td>127.00</td>\n",
              "      <td>111600000.0</td>\n",
              "      <td>-0.0137</td>\n",
              "    </tr>\n",
              "  </tbody>\n",
              "</table>\n",
              "</div>"
            ],
            "text/plain": [
              "             Close    Open    High     Low       Volume  Change\n",
              "Date                                                           \n",
              "2021-01-11  128.98  128.99  130.12  128.59  100620000.0 -0.0232\n",
              "2021-01-12  128.80  128.40  129.66  126.89   91950000.0 -0.0014\n",
              "2021-01-13  130.89  128.65  131.43  128.56   88640000.0  0.0162\n",
              "2021-01-14  128.91  130.79  130.98  128.78   90220000.0 -0.0151\n",
              "2021-01-15  127.14  128.78  130.22  127.00  111600000.0 -0.0137"
            ]
          },
          "metadata": {
            "tags": []
          },
          "execution_count": 7
        }
      ]
    },
    {
      "cell_type": "markdown",
      "metadata": {
        "id": "3FmQB8fOBudo"
      },
      "source": [
        "### 문제 07. 특정 시점(2017년) 이후 데이터 불러오기"
      ]
    },
    {
      "cell_type": "code",
      "metadata": {
        "id": "96jnHiNtBudo"
      },
      "source": [
        "# Apple(AAPL), 2017년\n",
        "apple = fdr.DataReader('AAPL', '2017')"
      ],
      "execution_count": 8,
      "outputs": []
    },
    {
      "cell_type": "code",
      "metadata": {
        "id": "T2smiyL7Budo",
        "colab": {
          "base_uri": "https://localhost:8080/",
          "height": 235
        },
        "outputId": "4846c77d-d931-4cd8-d0d3-354c2d265f10"
      },
      "source": [
        "apple.head()"
      ],
      "execution_count": 9,
      "outputs": [
        {
          "output_type": "execute_result",
          "data": {
            "text/html": [
              "<div>\n",
              "<style scoped>\n",
              "    .dataframe tbody tr th:only-of-type {\n",
              "        vertical-align: middle;\n",
              "    }\n",
              "\n",
              "    .dataframe tbody tr th {\n",
              "        vertical-align: top;\n",
              "    }\n",
              "\n",
              "    .dataframe thead th {\n",
              "        text-align: right;\n",
              "    }\n",
              "</style>\n",
              "<table border=\"1\" class=\"dataframe\">\n",
              "  <thead>\n",
              "    <tr style=\"text-align: right;\">\n",
              "      <th></th>\n",
              "      <th>Close</th>\n",
              "      <th>Open</th>\n",
              "      <th>High</th>\n",
              "      <th>Low</th>\n",
              "      <th>Volume</th>\n",
              "      <th>Change</th>\n",
              "    </tr>\n",
              "    <tr>\n",
              "      <th>Date</th>\n",
              "      <th></th>\n",
              "      <th></th>\n",
              "      <th></th>\n",
              "      <th></th>\n",
              "      <th></th>\n",
              "      <th></th>\n",
              "    </tr>\n",
              "  </thead>\n",
              "  <tbody>\n",
              "    <tr>\n",
              "      <th>2017-01-03</th>\n",
              "      <td>29.04</td>\n",
              "      <td>28.95</td>\n",
              "      <td>29.08</td>\n",
              "      <td>28.69</td>\n",
              "      <td>115130000.0</td>\n",
              "      <td>0.0031</td>\n",
              "    </tr>\n",
              "    <tr>\n",
              "      <th>2017-01-04</th>\n",
              "      <td>29.00</td>\n",
              "      <td>28.96</td>\n",
              "      <td>29.13</td>\n",
              "      <td>28.94</td>\n",
              "      <td>84470000.0</td>\n",
              "      <td>-0.0014</td>\n",
              "    </tr>\n",
              "    <tr>\n",
              "      <th>2017-01-05</th>\n",
              "      <td>29.15</td>\n",
              "      <td>28.98</td>\n",
              "      <td>29.22</td>\n",
              "      <td>28.95</td>\n",
              "      <td>88770000.0</td>\n",
              "      <td>0.0052</td>\n",
              "    </tr>\n",
              "    <tr>\n",
              "      <th>2017-01-06</th>\n",
              "      <td>29.48</td>\n",
              "      <td>29.20</td>\n",
              "      <td>29.54</td>\n",
              "      <td>29.12</td>\n",
              "      <td>127010000.0</td>\n",
              "      <td>0.0113</td>\n",
              "    </tr>\n",
              "    <tr>\n",
              "      <th>2017-01-09</th>\n",
              "      <td>29.75</td>\n",
              "      <td>29.49</td>\n",
              "      <td>29.86</td>\n",
              "      <td>29.48</td>\n",
              "      <td>134250000.0</td>\n",
              "      <td>0.0092</td>\n",
              "    </tr>\n",
              "  </tbody>\n",
              "</table>\n",
              "</div>"
            ],
            "text/plain": [
              "            Close   Open   High    Low       Volume  Change\n",
              "Date                                                       \n",
              "2017-01-03  29.04  28.95  29.08  28.69  115130000.0  0.0031\n",
              "2017-01-04  29.00  28.96  29.13  28.94   84470000.0 -0.0014\n",
              "2017-01-05  29.15  28.98  29.22  28.95   88770000.0  0.0052\n",
              "2017-01-06  29.48  29.20  29.54  29.12  127010000.0  0.0113\n",
              "2017-01-09  29.75  29.49  29.86  29.48  134250000.0  0.0092"
            ]
          },
          "metadata": {
            "tags": []
          },
          "execution_count": 9
        }
      ]
    },
    {
      "cell_type": "markdown",
      "metadata": {
        "id": "-ter25eMBudp"
      },
      "source": [
        "### 문제 08. 날짜를 지정하여 특정 범위(40년간) 데이터 불러오기"
      ]
    },
    {
      "cell_type": "code",
      "metadata": {
        "id": "vyR92-HABudp"
      },
      "source": [
        "# Ford(F), 1980-01-01 ~ 2019-12-30 (40년 데이터)\n",
        "ford = fdr.DataReader('F', '1980-01-01', '2019-12-30')"
      ],
      "execution_count": 10,
      "outputs": []
    },
    {
      "cell_type": "code",
      "metadata": {
        "id": "j1N0Y2XXBudp",
        "colab": {
          "base_uri": "https://localhost:8080/",
          "height": 235
        },
        "outputId": "08b35ce8-47f7-4c3a-a9ad-a7f5768c1c4f"
      },
      "source": [
        "ford.head()"
      ],
      "execution_count": 11,
      "outputs": [
        {
          "output_type": "execute_result",
          "data": {
            "text/html": [
              "<div>\n",
              "<style scoped>\n",
              "    .dataframe tbody tr th:only-of-type {\n",
              "        vertical-align: middle;\n",
              "    }\n",
              "\n",
              "    .dataframe tbody tr th {\n",
              "        vertical-align: top;\n",
              "    }\n",
              "\n",
              "    .dataframe thead th {\n",
              "        text-align: right;\n",
              "    }\n",
              "</style>\n",
              "<table border=\"1\" class=\"dataframe\">\n",
              "  <thead>\n",
              "    <tr style=\"text-align: right;\">\n",
              "      <th></th>\n",
              "      <th>Close</th>\n",
              "      <th>Open</th>\n",
              "      <th>High</th>\n",
              "      <th>Low</th>\n",
              "      <th>Volume</th>\n",
              "      <th>Change</th>\n",
              "    </tr>\n",
              "    <tr>\n",
              "      <th>Date</th>\n",
              "      <th></th>\n",
              "      <th></th>\n",
              "      <th></th>\n",
              "      <th></th>\n",
              "      <th></th>\n",
              "      <th></th>\n",
              "    </tr>\n",
              "  </thead>\n",
              "  <tbody>\n",
              "    <tr>\n",
              "      <th>1980-03-18</th>\n",
              "      <td>1.85</td>\n",
              "      <td>1.85</td>\n",
              "      <td>1.88</td>\n",
              "      <td>1.84</td>\n",
              "      <td>3770000.0</td>\n",
              "      <td>-0.0160</td>\n",
              "    </tr>\n",
              "    <tr>\n",
              "      <th>1980-03-19</th>\n",
              "      <td>1.87</td>\n",
              "      <td>1.87</td>\n",
              "      <td>1.88</td>\n",
              "      <td>1.85</td>\n",
              "      <td>1560000.0</td>\n",
              "      <td>0.0108</td>\n",
              "    </tr>\n",
              "    <tr>\n",
              "      <th>1980-03-20</th>\n",
              "      <td>1.88</td>\n",
              "      <td>1.88</td>\n",
              "      <td>1.90</td>\n",
              "      <td>1.87</td>\n",
              "      <td>1450000.0</td>\n",
              "      <td>0.0053</td>\n",
              "    </tr>\n",
              "    <tr>\n",
              "      <th>1980-03-21</th>\n",
              "      <td>1.80</td>\n",
              "      <td>1.80</td>\n",
              "      <td>1.87</td>\n",
              "      <td>1.78</td>\n",
              "      <td>5020000.0</td>\n",
              "      <td>-0.0426</td>\n",
              "    </tr>\n",
              "    <tr>\n",
              "      <th>1980-03-24</th>\n",
              "      <td>1.73</td>\n",
              "      <td>1.73</td>\n",
              "      <td>1.77</td>\n",
              "      <td>1.68</td>\n",
              "      <td>3330000.0</td>\n",
              "      <td>-0.0389</td>\n",
              "    </tr>\n",
              "  </tbody>\n",
              "</table>\n",
              "</div>"
            ],
            "text/plain": [
              "            Close  Open  High   Low     Volume  Change\n",
              "Date                                                  \n",
              "1980-03-18   1.85  1.85  1.88  1.84  3770000.0 -0.0160\n",
              "1980-03-19   1.87  1.87  1.88  1.85  1560000.0  0.0108\n",
              "1980-03-20   1.88  1.88  1.90  1.87  1450000.0  0.0053\n",
              "1980-03-21   1.80  1.80  1.87  1.78  5020000.0 -0.0426\n",
              "1980-03-24   1.73  1.73  1.77  1.68  3330000.0 -0.0389"
            ]
          },
          "metadata": {
            "tags": []
          },
          "execution_count": 11
        }
      ]
    },
    {
      "cell_type": "code",
      "metadata": {
        "id": "GuSkOs0zBudq",
        "colab": {
          "base_uri": "https://localhost:8080/",
          "height": 235
        },
        "outputId": "86c44e5b-3e22-409a-a638-653c90be8c6c"
      },
      "source": [
        "ford.tail()"
      ],
      "execution_count": 12,
      "outputs": [
        {
          "output_type": "execute_result",
          "data": {
            "text/html": [
              "<div>\n",
              "<style scoped>\n",
              "    .dataframe tbody tr th:only-of-type {\n",
              "        vertical-align: middle;\n",
              "    }\n",
              "\n",
              "    .dataframe tbody tr th {\n",
              "        vertical-align: top;\n",
              "    }\n",
              "\n",
              "    .dataframe thead th {\n",
              "        text-align: right;\n",
              "    }\n",
              "</style>\n",
              "<table border=\"1\" class=\"dataframe\">\n",
              "  <thead>\n",
              "    <tr style=\"text-align: right;\">\n",
              "      <th></th>\n",
              "      <th>Close</th>\n",
              "      <th>Open</th>\n",
              "      <th>High</th>\n",
              "      <th>Low</th>\n",
              "      <th>Volume</th>\n",
              "      <th>Change</th>\n",
              "    </tr>\n",
              "    <tr>\n",
              "      <th>Date</th>\n",
              "      <th></th>\n",
              "      <th></th>\n",
              "      <th></th>\n",
              "      <th></th>\n",
              "      <th></th>\n",
              "      <th></th>\n",
              "    </tr>\n",
              "  </thead>\n",
              "  <tbody>\n",
              "    <tr>\n",
              "      <th>2019-12-23</th>\n",
              "      <td>9.44</td>\n",
              "      <td>9.50</td>\n",
              "      <td>9.57</td>\n",
              "      <td>9.40</td>\n",
              "      <td>54800000.0</td>\n",
              "      <td>-0.0042</td>\n",
              "    </tr>\n",
              "    <tr>\n",
              "      <th>2019-12-24</th>\n",
              "      <td>9.47</td>\n",
              "      <td>9.44</td>\n",
              "      <td>9.49</td>\n",
              "      <td>9.43</td>\n",
              "      <td>11880000.0</td>\n",
              "      <td>0.0032</td>\n",
              "    </tr>\n",
              "    <tr>\n",
              "      <th>2019-12-26</th>\n",
              "      <td>9.45</td>\n",
              "      <td>9.47</td>\n",
              "      <td>9.49</td>\n",
              "      <td>9.43</td>\n",
              "      <td>28980000.0</td>\n",
              "      <td>-0.0021</td>\n",
              "    </tr>\n",
              "    <tr>\n",
              "      <th>2019-12-27</th>\n",
              "      <td>9.36</td>\n",
              "      <td>9.45</td>\n",
              "      <td>9.46</td>\n",
              "      <td>9.35</td>\n",
              "      <td>28270000.0</td>\n",
              "      <td>-0.0095</td>\n",
              "    </tr>\n",
              "    <tr>\n",
              "      <th>2019-12-30</th>\n",
              "      <td>9.25</td>\n",
              "      <td>9.34</td>\n",
              "      <td>9.35</td>\n",
              "      <td>9.23</td>\n",
              "      <td>36090000.0</td>\n",
              "      <td>-0.0118</td>\n",
              "    </tr>\n",
              "  </tbody>\n",
              "</table>\n",
              "</div>"
            ],
            "text/plain": [
              "            Close  Open  High   Low      Volume  Change\n",
              "Date                                                   \n",
              "2019-12-23   9.44  9.50  9.57  9.40  54800000.0 -0.0042\n",
              "2019-12-24   9.47  9.44  9.49  9.43  11880000.0  0.0032\n",
              "2019-12-26   9.45  9.47  9.49  9.43  28980000.0 -0.0021\n",
              "2019-12-27   9.36  9.45  9.46  9.35  28270000.0 -0.0095\n",
              "2019-12-30   9.25  9.34  9.35  9.23  36090000.0 -0.0118"
            ]
          },
          "metadata": {
            "tags": []
          },
          "execution_count": 12
        }
      ]
    },
    {
      "cell_type": "markdown",
      "metadata": {
        "id": "BxmJoqteBudq"
      },
      "source": [
        "### 문제 09. '금'과 '달러' 데이터도 가져올 수 있습니다. 두 데이터를 불러와 head를 출력해보세요."
      ]
    },
    {
      "cell_type": "markdown",
      "metadata": {
        "id": "WEJpAQ7EBudq"
      },
      "source": [
        "*[GitHub 페이지 링크](https://github.com/FinanceData/FinanceDataReader) 참고"
      ]
    },
    {
      "cell_type": "code",
      "metadata": {
        "id": "Rv85AHqkGJp0",
        "colab": {
          "base_uri": "https://localhost:8080/",
          "height": 235
        },
        "outputId": "d401ebbe-b62f-468d-d333-680d04c8b247"
      },
      "source": [
        "gold = fdr.DataReader('ZG') # 금 선물 (ICE)\r\n",
        "gold.head()"
      ],
      "execution_count": 13,
      "outputs": [
        {
          "output_type": "execute_result",
          "data": {
            "text/html": [
              "<div>\n",
              "<style scoped>\n",
              "    .dataframe tbody tr th:only-of-type {\n",
              "        vertical-align: middle;\n",
              "    }\n",
              "\n",
              "    .dataframe tbody tr th {\n",
              "        vertical-align: top;\n",
              "    }\n",
              "\n",
              "    .dataframe thead th {\n",
              "        text-align: right;\n",
              "    }\n",
              "</style>\n",
              "<table border=\"1\" class=\"dataframe\">\n",
              "  <thead>\n",
              "    <tr style=\"text-align: right;\">\n",
              "      <th></th>\n",
              "      <th>Close</th>\n",
              "      <th>Open</th>\n",
              "      <th>High</th>\n",
              "      <th>Low</th>\n",
              "      <th>Volume</th>\n",
              "      <th>Change</th>\n",
              "    </tr>\n",
              "    <tr>\n",
              "      <th>Date</th>\n",
              "      <th></th>\n",
              "      <th></th>\n",
              "      <th></th>\n",
              "      <th></th>\n",
              "      <th></th>\n",
              "      <th></th>\n",
              "    </tr>\n",
              "  </thead>\n",
              "  <tbody>\n",
              "    <tr>\n",
              "      <th>1980-01-02</th>\n",
              "      <td>575.5</td>\n",
              "      <td>562.5</td>\n",
              "      <td>577.0</td>\n",
              "      <td>558.0</td>\n",
              "      <td>7260.0</td>\n",
              "      <td>0.0785</td>\n",
              "    </tr>\n",
              "    <tr>\n",
              "      <th>1980-01-03</th>\n",
              "      <td>625.0</td>\n",
              "      <td>627.0</td>\n",
              "      <td>640.0</td>\n",
              "      <td>603.0</td>\n",
              "      <td>20750.0</td>\n",
              "      <td>0.0860</td>\n",
              "    </tr>\n",
              "    <tr>\n",
              "      <th>1980-01-04</th>\n",
              "      <td>603.6</td>\n",
              "      <td>609.5</td>\n",
              "      <td>621.0</td>\n",
              "      <td>573.0</td>\n",
              "      <td>2660.0</td>\n",
              "      <td>-0.0342</td>\n",
              "    </tr>\n",
              "    <tr>\n",
              "      <th>1980-01-07</th>\n",
              "      <td>627.0</td>\n",
              "      <td>629.0</td>\n",
              "      <td>635.0</td>\n",
              "      <td>611.0</td>\n",
              "      <td>3000.0</td>\n",
              "      <td>0.0388</td>\n",
              "    </tr>\n",
              "    <tr>\n",
              "      <th>1980-01-08</th>\n",
              "      <td>602.5</td>\n",
              "      <td>611.5</td>\n",
              "      <td>619.0</td>\n",
              "      <td>600.0</td>\n",
              "      <td>750.0</td>\n",
              "      <td>-0.0391</td>\n",
              "    </tr>\n",
              "  </tbody>\n",
              "</table>\n",
              "</div>"
            ],
            "text/plain": [
              "            Close   Open   High    Low   Volume  Change\n",
              "Date                                                   \n",
              "1980-01-02  575.5  562.5  577.0  558.0   7260.0  0.0785\n",
              "1980-01-03  625.0  627.0  640.0  603.0  20750.0  0.0860\n",
              "1980-01-04  603.6  609.5  621.0  573.0   2660.0 -0.0342\n",
              "1980-01-07  627.0  629.0  635.0  611.0   3000.0  0.0388\n",
              "1980-01-08  602.5  611.5  619.0  600.0    750.0 -0.0391"
            ]
          },
          "metadata": {
            "tags": []
          },
          "execution_count": 13
        }
      ]
    },
    {
      "cell_type": "code",
      "metadata": {
        "id": "whRbcKezGJ5V",
        "colab": {
          "base_uri": "https://localhost:8080/",
          "height": 235
        },
        "outputId": "036c1d8b-fe1b-49c0-d1d2-b5e3c0a3bbc9"
      },
      "source": [
        "usdkrw = fdr.DataReader('USD/KRW', '1995-01-01') \r\n",
        "usdkrw.head()"
      ],
      "execution_count": 14,
      "outputs": [
        {
          "output_type": "execute_result",
          "data": {
            "text/html": [
              "<div>\n",
              "<style scoped>\n",
              "    .dataframe tbody tr th:only-of-type {\n",
              "        vertical-align: middle;\n",
              "    }\n",
              "\n",
              "    .dataframe tbody tr th {\n",
              "        vertical-align: top;\n",
              "    }\n",
              "\n",
              "    .dataframe thead th {\n",
              "        text-align: right;\n",
              "    }\n",
              "</style>\n",
              "<table border=\"1\" class=\"dataframe\">\n",
              "  <thead>\n",
              "    <tr style=\"text-align: right;\">\n",
              "      <th></th>\n",
              "      <th>Close</th>\n",
              "      <th>Open</th>\n",
              "      <th>High</th>\n",
              "      <th>Low</th>\n",
              "      <th>Change</th>\n",
              "    </tr>\n",
              "    <tr>\n",
              "      <th>Date</th>\n",
              "      <th></th>\n",
              "      <th></th>\n",
              "      <th></th>\n",
              "      <th></th>\n",
              "      <th></th>\n",
              "    </tr>\n",
              "  </thead>\n",
              "  <tbody>\n",
              "    <tr>\n",
              "      <th>1995-01-02</th>\n",
              "      <td>788.50</td>\n",
              "      <td>788.50</td>\n",
              "      <td>788.50</td>\n",
              "      <td>788.50</td>\n",
              "      <td>0.0000</td>\n",
              "    </tr>\n",
              "    <tr>\n",
              "      <th>1995-01-03</th>\n",
              "      <td>788.65</td>\n",
              "      <td>788.05</td>\n",
              "      <td>788.85</td>\n",
              "      <td>787.55</td>\n",
              "      <td>0.0002</td>\n",
              "    </tr>\n",
              "    <tr>\n",
              "      <th>1995-01-04</th>\n",
              "      <td>789.95</td>\n",
              "      <td>788.65</td>\n",
              "      <td>790.05</td>\n",
              "      <td>788.45</td>\n",
              "      <td>0.0016</td>\n",
              "    </tr>\n",
              "    <tr>\n",
              "      <th>1995-01-05</th>\n",
              "      <td>789.90</td>\n",
              "      <td>789.80</td>\n",
              "      <td>790.20</td>\n",
              "      <td>789.30</td>\n",
              "      <td>-0.0001</td>\n",
              "    </tr>\n",
              "    <tr>\n",
              "      <th>1995-01-06</th>\n",
              "      <td>791.55</td>\n",
              "      <td>789.75</td>\n",
              "      <td>791.65</td>\n",
              "      <td>789.65</td>\n",
              "      <td>0.0021</td>\n",
              "    </tr>\n",
              "  </tbody>\n",
              "</table>\n",
              "</div>"
            ],
            "text/plain": [
              "             Close    Open    High     Low  Change\n",
              "Date                                              \n",
              "1995-01-02  788.50  788.50  788.50  788.50  0.0000\n",
              "1995-01-03  788.65  788.05  788.85  787.55  0.0002\n",
              "1995-01-04  789.95  788.65  790.05  788.45  0.0016\n",
              "1995-01-05  789.90  789.80  790.20  789.30 -0.0001\n",
              "1995-01-06  791.55  789.75  791.65  789.65  0.0021"
            ]
          },
          "metadata": {
            "tags": []
          },
          "execution_count": 14
        }
      ]
    },
    {
      "cell_type": "markdown",
      "metadata": {
        "id": "RJtxeKQm0l2w"
      },
      "source": [
        "### 문제 10. 주식 코드를 활용해 데이터 불러오기"
      ]
    },
    {
      "cell_type": "code",
      "metadata": {
        "id": "_8Gy3cagBudr"
      },
      "source": [
        "# 삼성전자 주식코드: 005930\n",
        "STOCK_CODE = '005930'"
      ],
      "execution_count": 15,
      "outputs": []
    },
    {
      "cell_type": "code",
      "metadata": {
        "id": "xx8f86AgBudr"
      },
      "source": [
        "# fdr 라이브러리를 활용해 삼성전자 데이터를 불러오세요 \r\n",
        "stock = fdr.DataReader(STOCK_CODE)"
      ],
      "execution_count": 16,
      "outputs": []
    },
    {
      "cell_type": "code",
      "metadata": {
        "id": "-jBfNkQVBuds",
        "colab": {
          "base_uri": "https://localhost:8080/",
          "height": 235
        },
        "outputId": "476edaa7-207d-4182-b07c-281c17e5c15c"
      },
      "source": [
        "stock.head()"
      ],
      "execution_count": 17,
      "outputs": [
        {
          "output_type": "execute_result",
          "data": {
            "text/html": [
              "<div>\n",
              "<style scoped>\n",
              "    .dataframe tbody tr th:only-of-type {\n",
              "        vertical-align: middle;\n",
              "    }\n",
              "\n",
              "    .dataframe tbody tr th {\n",
              "        vertical-align: top;\n",
              "    }\n",
              "\n",
              "    .dataframe thead th {\n",
              "        text-align: right;\n",
              "    }\n",
              "</style>\n",
              "<table border=\"1\" class=\"dataframe\">\n",
              "  <thead>\n",
              "    <tr style=\"text-align: right;\">\n",
              "      <th></th>\n",
              "      <th>Open</th>\n",
              "      <th>High</th>\n",
              "      <th>Low</th>\n",
              "      <th>Close</th>\n",
              "      <th>Volume</th>\n",
              "      <th>Change</th>\n",
              "    </tr>\n",
              "    <tr>\n",
              "      <th>Date</th>\n",
              "      <th></th>\n",
              "      <th></th>\n",
              "      <th></th>\n",
              "      <th></th>\n",
              "      <th></th>\n",
              "      <th></th>\n",
              "    </tr>\n",
              "  </thead>\n",
              "  <tbody>\n",
              "    <tr>\n",
              "      <th>1997-02-05</th>\n",
              "      <td>949</td>\n",
              "      <td>960</td>\n",
              "      <td>914</td>\n",
              "      <td>927</td>\n",
              "      <td>264930</td>\n",
              "      <td>NaN</td>\n",
              "    </tr>\n",
              "    <tr>\n",
              "      <th>1997-02-06</th>\n",
              "      <td>924</td>\n",
              "      <td>935</td>\n",
              "      <td>898</td>\n",
              "      <td>930</td>\n",
              "      <td>140231</td>\n",
              "      <td>0.003236</td>\n",
              "    </tr>\n",
              "    <tr>\n",
              "      <th>1997-02-10</th>\n",
              "      <td>930</td>\n",
              "      <td>958</td>\n",
              "      <td>924</td>\n",
              "      <td>959</td>\n",
              "      <td>105570</td>\n",
              "      <td>0.031183</td>\n",
              "    </tr>\n",
              "    <tr>\n",
              "      <th>1997-02-11</th>\n",
              "      <td>960</td>\n",
              "      <td>972</td>\n",
              "      <td>942</td>\n",
              "      <td>973</td>\n",
              "      <td>130180</td>\n",
              "      <td>0.014599</td>\n",
              "    </tr>\n",
              "    <tr>\n",
              "      <th>1997-02-12</th>\n",
              "      <td>967</td>\n",
              "      <td>1022</td>\n",
              "      <td>964</td>\n",
              "      <td>1001</td>\n",
              "      <td>241110</td>\n",
              "      <td>0.028777</td>\n",
              "    </tr>\n",
              "  </tbody>\n",
              "</table>\n",
              "</div>"
            ],
            "text/plain": [
              "            Open  High  Low  Close  Volume    Change\n",
              "Date                                                \n",
              "1997-02-05   949   960  914    927  264930       NaN\n",
              "1997-02-06   924   935  898    930  140231  0.003236\n",
              "1997-02-10   930   958  924    959  105570  0.031183\n",
              "1997-02-11   960   972  942    973  130180  0.014599\n",
              "1997-02-12   967  1022  964   1001  241110  0.028777"
            ]
          },
          "metadata": {
            "tags": []
          },
          "execution_count": 17
        }
      ]
    },
    {
      "cell_type": "code",
      "metadata": {
        "id": "3VgxOeT3Buds",
        "colab": {
          "base_uri": "https://localhost:8080/",
          "height": 235
        },
        "outputId": "f8bdd79f-6978-428d-b5c2-f825fc5b4814"
      },
      "source": [
        "stock.tail()"
      ],
      "execution_count": 18,
      "outputs": [
        {
          "output_type": "execute_result",
          "data": {
            "text/html": [
              "<div>\n",
              "<style scoped>\n",
              "    .dataframe tbody tr th:only-of-type {\n",
              "        vertical-align: middle;\n",
              "    }\n",
              "\n",
              "    .dataframe tbody tr th {\n",
              "        vertical-align: top;\n",
              "    }\n",
              "\n",
              "    .dataframe thead th {\n",
              "        text-align: right;\n",
              "    }\n",
              "</style>\n",
              "<table border=\"1\" class=\"dataframe\">\n",
              "  <thead>\n",
              "    <tr style=\"text-align: right;\">\n",
              "      <th></th>\n",
              "      <th>Open</th>\n",
              "      <th>High</th>\n",
              "      <th>Low</th>\n",
              "      <th>Close</th>\n",
              "      <th>Volume</th>\n",
              "      <th>Change</th>\n",
              "    </tr>\n",
              "    <tr>\n",
              "      <th>Date</th>\n",
              "      <th></th>\n",
              "      <th></th>\n",
              "      <th></th>\n",
              "      <th></th>\n",
              "      <th></th>\n",
              "      <th></th>\n",
              "    </tr>\n",
              "  </thead>\n",
              "  <tbody>\n",
              "    <tr>\n",
              "      <th>2021-01-12</th>\n",
              "      <td>90300</td>\n",
              "      <td>91400</td>\n",
              "      <td>87800</td>\n",
              "      <td>90600</td>\n",
              "      <td>48682416</td>\n",
              "      <td>-0.004396</td>\n",
              "    </tr>\n",
              "    <tr>\n",
              "      <th>2021-01-13</th>\n",
              "      <td>89800</td>\n",
              "      <td>91200</td>\n",
              "      <td>89100</td>\n",
              "      <td>89700</td>\n",
              "      <td>36068848</td>\n",
              "      <td>-0.009934</td>\n",
              "    </tr>\n",
              "    <tr>\n",
              "      <th>2021-01-14</th>\n",
              "      <td>88700</td>\n",
              "      <td>90000</td>\n",
              "      <td>88700</td>\n",
              "      <td>89700</td>\n",
              "      <td>26393970</td>\n",
              "      <td>0.000000</td>\n",
              "    </tr>\n",
              "    <tr>\n",
              "      <th>2021-01-15</th>\n",
              "      <td>89800</td>\n",
              "      <td>91800</td>\n",
              "      <td>88000</td>\n",
              "      <td>88000</td>\n",
              "      <td>33431809</td>\n",
              "      <td>-0.018952</td>\n",
              "    </tr>\n",
              "    <tr>\n",
              "      <th>2021-01-18</th>\n",
              "      <td>86600</td>\n",
              "      <td>87300</td>\n",
              "      <td>84100</td>\n",
              "      <td>85000</td>\n",
              "      <td>42656806</td>\n",
              "      <td>-0.034091</td>\n",
              "    </tr>\n",
              "  </tbody>\n",
              "</table>\n",
              "</div>"
            ],
            "text/plain": [
              "             Open   High    Low  Close    Volume    Change\n",
              "Date                                                      \n",
              "2021-01-12  90300  91400  87800  90600  48682416 -0.004396\n",
              "2021-01-13  89800  91200  89100  89700  36068848 -0.009934\n",
              "2021-01-14  88700  90000  88700  89700  26393970  0.000000\n",
              "2021-01-15  89800  91800  88000  88000  33431809 -0.018952\n",
              "2021-01-18  86600  87300  84100  85000  42656806 -0.034091"
            ]
          },
          "metadata": {
            "tags": []
          },
          "execution_count": 18
        }
      ]
    },
    {
      "cell_type": "code",
      "metadata": {
        "id": "y9NRSMYTBuds",
        "colab": {
          "base_uri": "https://localhost:8080/"
        },
        "outputId": "5e3458c7-82fd-48e1-c3e8-ab5b81809981"
      },
      "source": [
        "# 인덱스를 확인해보세요.\r\n",
        "stock.index"
      ],
      "execution_count": 19,
      "outputs": [
        {
          "output_type": "execute_result",
          "data": {
            "text/plain": [
              "DatetimeIndex(['1997-02-05', '1997-02-06', '1997-02-10', '1997-02-11',\n",
              "               '1997-02-12', '1997-02-13', '1997-02-14', '1997-02-15',\n",
              "               '1997-02-17', '1997-02-18',\n",
              "               ...\n",
              "               '2021-01-05', '2021-01-06', '2021-01-07', '2021-01-08',\n",
              "               '2021-01-11', '2021-01-12', '2021-01-13', '2021-01-14',\n",
              "               '2021-01-15', '2021-01-18'],\n",
              "              dtype='datetime64[ns]', name='Date', length=6000, freq=None)"
            ]
          },
          "metadata": {
            "tags": []
          },
          "execution_count": 19
        }
      ]
    },
    {
      "cell_type": "markdown",
      "metadata": {
        "id": "Ngpi6jHxMsz7"
      },
      "source": [
        "## Step 2. 시계열 데이터 시각화"
      ]
    },
    {
      "cell_type": "markdown",
      "metadata": {
        "id": "B1loczVzBudt"
      },
      "source": [
        "\n",
        "### 문제 11. 인덱스가 `DatetimeIndex`로 정의되어 있다면, 연도, 월, 일을 쪼갤 수 있습니다. 데이터를 분리해주세요."
      ]
    },
    {
      "cell_type": "code",
      "metadata": {
        "id": "fif43Fh-0l4L"
      },
      "source": [
        "stock['Year'] = stock.index.year\n",
        "stock['Month'] = stock.index.month\n",
        "stock['Day'] = stock.index.day"
      ],
      "execution_count": 20,
      "outputs": []
    },
    {
      "cell_type": "code",
      "metadata": {
        "colab": {
          "base_uri": "https://localhost:8080/",
          "height": 235
        },
        "id": "0yAKE9Ag0l4S",
        "outputId": "833bc7bf-37c9-40a1-ba5f-c13818732448"
      },
      "source": [
        "stock.head()"
      ],
      "execution_count": 21,
      "outputs": [
        {
          "output_type": "execute_result",
          "data": {
            "text/html": [
              "<div>\n",
              "<style scoped>\n",
              "    .dataframe tbody tr th:only-of-type {\n",
              "        vertical-align: middle;\n",
              "    }\n",
              "\n",
              "    .dataframe tbody tr th {\n",
              "        vertical-align: top;\n",
              "    }\n",
              "\n",
              "    .dataframe thead th {\n",
              "        text-align: right;\n",
              "    }\n",
              "</style>\n",
              "<table border=\"1\" class=\"dataframe\">\n",
              "  <thead>\n",
              "    <tr style=\"text-align: right;\">\n",
              "      <th></th>\n",
              "      <th>Open</th>\n",
              "      <th>High</th>\n",
              "      <th>Low</th>\n",
              "      <th>Close</th>\n",
              "      <th>Volume</th>\n",
              "      <th>Change</th>\n",
              "      <th>Year</th>\n",
              "      <th>Month</th>\n",
              "      <th>Day</th>\n",
              "    </tr>\n",
              "    <tr>\n",
              "      <th>Date</th>\n",
              "      <th></th>\n",
              "      <th></th>\n",
              "      <th></th>\n",
              "      <th></th>\n",
              "      <th></th>\n",
              "      <th></th>\n",
              "      <th></th>\n",
              "      <th></th>\n",
              "      <th></th>\n",
              "    </tr>\n",
              "  </thead>\n",
              "  <tbody>\n",
              "    <tr>\n",
              "      <th>1997-02-05</th>\n",
              "      <td>949</td>\n",
              "      <td>960</td>\n",
              "      <td>914</td>\n",
              "      <td>927</td>\n",
              "      <td>264930</td>\n",
              "      <td>NaN</td>\n",
              "      <td>1997</td>\n",
              "      <td>2</td>\n",
              "      <td>5</td>\n",
              "    </tr>\n",
              "    <tr>\n",
              "      <th>1997-02-06</th>\n",
              "      <td>924</td>\n",
              "      <td>935</td>\n",
              "      <td>898</td>\n",
              "      <td>930</td>\n",
              "      <td>140231</td>\n",
              "      <td>0.003236</td>\n",
              "      <td>1997</td>\n",
              "      <td>2</td>\n",
              "      <td>6</td>\n",
              "    </tr>\n",
              "    <tr>\n",
              "      <th>1997-02-10</th>\n",
              "      <td>930</td>\n",
              "      <td>958</td>\n",
              "      <td>924</td>\n",
              "      <td>959</td>\n",
              "      <td>105570</td>\n",
              "      <td>0.031183</td>\n",
              "      <td>1997</td>\n",
              "      <td>2</td>\n",
              "      <td>10</td>\n",
              "    </tr>\n",
              "    <tr>\n",
              "      <th>1997-02-11</th>\n",
              "      <td>960</td>\n",
              "      <td>972</td>\n",
              "      <td>942</td>\n",
              "      <td>973</td>\n",
              "      <td>130180</td>\n",
              "      <td>0.014599</td>\n",
              "      <td>1997</td>\n",
              "      <td>2</td>\n",
              "      <td>11</td>\n",
              "    </tr>\n",
              "    <tr>\n",
              "      <th>1997-02-12</th>\n",
              "      <td>967</td>\n",
              "      <td>1022</td>\n",
              "      <td>964</td>\n",
              "      <td>1001</td>\n",
              "      <td>241110</td>\n",
              "      <td>0.028777</td>\n",
              "      <td>1997</td>\n",
              "      <td>2</td>\n",
              "      <td>12</td>\n",
              "    </tr>\n",
              "  </tbody>\n",
              "</table>\n",
              "</div>"
            ],
            "text/plain": [
              "            Open  High  Low  Close  Volume    Change  Year  Month  Day\n",
              "Date                                                                  \n",
              "1997-02-05   949   960  914    927  264930       NaN  1997      2    5\n",
              "1997-02-06   924   935  898    930  140231  0.003236  1997      2    6\n",
              "1997-02-10   930   958  924    959  105570  0.031183  1997      2   10\n",
              "1997-02-11   960   972  942    973  130180  0.014599  1997      2   11\n",
              "1997-02-12   967  1022  964   1001  241110  0.028777  1997      2   12"
            ]
          },
          "metadata": {
            "tags": []
          },
          "execution_count": 21
        }
      ]
    },
    {
      "cell_type": "markdown",
      "metadata": {
        "id": "ZpeXdWzWG2KO"
      },
      "source": [
        "### 문제 12. 연도별, 월별 피봇테이블을 각각 구현해보세요."
      ]
    },
    {
      "cell_type": "code",
      "metadata": {
        "id": "L73tGJhhG9Av",
        "colab": {
          "base_uri": "https://localhost:8080/",
          "height": 450
        },
        "outputId": "6c8f520b-b662-42b8-80d7-f55618fbd013"
      },
      "source": [
        "stock.groupby(['Year', 'Month']).mean()"
      ],
      "execution_count": 23,
      "outputs": [
        {
          "output_type": "execute_result",
          "data": {
            "text/html": [
              "<div>\n",
              "<style scoped>\n",
              "    .dataframe tbody tr th:only-of-type {\n",
              "        vertical-align: middle;\n",
              "    }\n",
              "\n",
              "    .dataframe tbody tr th {\n",
              "        vertical-align: top;\n",
              "    }\n",
              "\n",
              "    .dataframe thead th {\n",
              "        text-align: right;\n",
              "    }\n",
              "</style>\n",
              "<table border=\"1\" class=\"dataframe\">\n",
              "  <thead>\n",
              "    <tr style=\"text-align: right;\">\n",
              "      <th></th>\n",
              "      <th></th>\n",
              "      <th>Open</th>\n",
              "      <th>High</th>\n",
              "      <th>Low</th>\n",
              "      <th>Close</th>\n",
              "      <th>Volume</th>\n",
              "      <th>Change</th>\n",
              "      <th>Day</th>\n",
              "    </tr>\n",
              "    <tr>\n",
              "      <th>Year</th>\n",
              "      <th>Month</th>\n",
              "      <th></th>\n",
              "      <th></th>\n",
              "      <th></th>\n",
              "      <th></th>\n",
              "      <th></th>\n",
              "      <th></th>\n",
              "      <th></th>\n",
              "    </tr>\n",
              "  </thead>\n",
              "  <tbody>\n",
              "    <tr>\n",
              "      <th rowspan=\"5\" valign=\"top\">1997</th>\n",
              "      <th>2</th>\n",
              "      <td>991.210526</td>\n",
              "      <td>1017.736842</td>\n",
              "      <td>971.947368</td>\n",
              "      <td>996.000000</td>\n",
              "      <td>1.534664e+05</td>\n",
              "      <td>0.006394</td>\n",
              "      <td>17.526316</td>\n",
              "    </tr>\n",
              "    <tr>\n",
              "      <th>3</th>\n",
              "      <td>992.800000</td>\n",
              "      <td>1008.560000</td>\n",
              "      <td>975.840000</td>\n",
              "      <td>992.920000</td>\n",
              "      <td>1.119769e+05</td>\n",
              "      <td>0.001539</td>\n",
              "      <td>16.600000</td>\n",
              "    </tr>\n",
              "    <tr>\n",
              "      <th>4</th>\n",
              "      <td>1097.080000</td>\n",
              "      <td>1110.920000</td>\n",
              "      <td>1082.280000</td>\n",
              "      <td>1096.880000</td>\n",
              "      <td>1.196784e+05</td>\n",
              "      <td>0.000641</td>\n",
              "      <td>15.760000</td>\n",
              "    </tr>\n",
              "    <tr>\n",
              "      <th>5</th>\n",
              "      <td>1115.208333</td>\n",
              "      <td>1128.125000</td>\n",
              "      <td>1098.083333</td>\n",
              "      <td>1115.333333</td>\n",
              "      <td>2.347849e+05</td>\n",
              "      <td>0.004537</td>\n",
              "      <td>17.416667</td>\n",
              "    </tr>\n",
              "    <tr>\n",
              "      <th>6</th>\n",
              "      <td>1225.916667</td>\n",
              "      <td>1245.125000</td>\n",
              "      <td>1204.875000</td>\n",
              "      <td>1225.333333</td>\n",
              "      <td>1.291142e+05</td>\n",
              "      <td>0.002355</td>\n",
              "      <td>16.000000</td>\n",
              "    </tr>\n",
              "    <tr>\n",
              "      <th>...</th>\n",
              "      <th>...</th>\n",
              "      <td>...</td>\n",
              "      <td>...</td>\n",
              "      <td>...</td>\n",
              "      <td>...</td>\n",
              "      <td>...</td>\n",
              "      <td>...</td>\n",
              "      <td>...</td>\n",
              "    </tr>\n",
              "    <tr>\n",
              "      <th rowspan=\"4\" valign=\"top\">2020</th>\n",
              "      <th>9</th>\n",
              "      <td>58176.190476</td>\n",
              "      <td>58761.904762</td>\n",
              "      <td>57709.523810</td>\n",
              "      <td>58176.190476</td>\n",
              "      <td>2.030011e+07</td>\n",
              "      <td>0.003694</td>\n",
              "      <td>14.619048</td>\n",
              "    </tr>\n",
              "    <tr>\n",
              "      <th>10</th>\n",
              "      <td>59836.842105</td>\n",
              "      <td>60242.105263</td>\n",
              "      <td>59263.157895</td>\n",
              "      <td>59736.842105</td>\n",
              "      <td>1.723988e+07</td>\n",
              "      <td>-0.001401</td>\n",
              "      <td>17.947368</td>\n",
              "    </tr>\n",
              "    <tr>\n",
              "      <th>11</th>\n",
              "      <td>63090.476190</td>\n",
              "      <td>64019.047619</td>\n",
              "      <td>62476.190476</td>\n",
              "      <td>63419.047619</td>\n",
              "      <td>2.363959e+07</td>\n",
              "      <td>0.008034</td>\n",
              "      <td>15.238095</td>\n",
              "    </tr>\n",
              "    <tr>\n",
              "      <th>12</th>\n",
              "      <td>73066.666667</td>\n",
              "      <td>74233.333333</td>\n",
              "      <td>72600.000000</td>\n",
              "      <td>73619.047619</td>\n",
              "      <td>2.523804e+07</td>\n",
              "      <td>0.009441</td>\n",
              "      <td>14.857143</td>\n",
              "    </tr>\n",
              "    <tr>\n",
              "      <th>2021</th>\n",
              "      <th>1</th>\n",
              "      <td>86109.090909</td>\n",
              "      <td>88681.818182</td>\n",
              "      <td>85163.636364</td>\n",
              "      <td>86800.000000</td>\n",
              "      <td>4.411618e+07</td>\n",
              "      <td>0.004760</td>\n",
              "      <td>10.272727</td>\n",
              "    </tr>\n",
              "  </tbody>\n",
              "</table>\n",
              "<p>288 rows × 7 columns</p>\n",
              "</div>"
            ],
            "text/plain": [
              "                    Open          High  ...    Change        Day\n",
              "Year Month                              ...                     \n",
              "1997 2        991.210526   1017.736842  ...  0.006394  17.526316\n",
              "     3        992.800000   1008.560000  ...  0.001539  16.600000\n",
              "     4       1097.080000   1110.920000  ...  0.000641  15.760000\n",
              "     5       1115.208333   1128.125000  ...  0.004537  17.416667\n",
              "     6       1225.916667   1245.125000  ...  0.002355  16.000000\n",
              "...                  ...           ...  ...       ...        ...\n",
              "2020 9      58176.190476  58761.904762  ...  0.003694  14.619048\n",
              "     10     59836.842105  60242.105263  ... -0.001401  17.947368\n",
              "     11     63090.476190  64019.047619  ...  0.008034  15.238095\n",
              "     12     73066.666667  74233.333333  ...  0.009441  14.857143\n",
              "2021 1      86109.090909  88681.818182  ...  0.004760  10.272727\n",
              "\n",
              "[288 rows x 7 columns]"
            ]
          },
          "metadata": {
            "tags": []
          },
          "execution_count": 23
        }
      ]
    },
    {
      "cell_type": "markdown",
      "metadata": {
        "id": "5FBTlube0l4d"
      },
      "source": [
        "### 문제 13. matplotlib을 활용해 시간에 따른 주식 가격 시계열 그래프를 그려보세요."
      ]
    },
    {
      "cell_type": "code",
      "metadata": {
        "colab": {
          "base_uri": "https://localhost:8080/",
          "height": 569
        },
        "id": "MWcaWEa80l4o",
        "outputId": "f5329735-7b9a-45a9-8fc3-b0330ee755b5"
      },
      "source": [
        "plt.figure(figsize=(16, 9))\n",
        "sns.lineplot(y=stock['Close'], x=stock.index)\n",
        "plt.xlabel('time')\n",
        "plt.ylabel('price')"
      ],
      "execution_count": 24,
      "outputs": [
        {
          "output_type": "execute_result",
          "data": {
            "text/plain": [
              "Text(0, 0.5, 'price')"
            ]
          },
          "metadata": {
            "tags": []
          },
          "execution_count": 24
        },
        {
          "output_type": "stream",
          "text": [
            "findfont: Font family ['NanumGothic'] not found. Falling back to DejaVu Sans.\n"
          ],
          "name": "stderr"
        },
        {
          "output_type": "display_data",
          "data": {
            "image/png": "[encoded data removed]",
            "text/plain": [
              "<Figure size 1152x648 with 1 Axes>"
            ]
          },
          "metadata": {
            "tags": [],
            "needs_background": "light"
          }
        }
      ]
    },
    {
      "cell_type": "markdown",
      "metadata": {
        "id": "fTr5lZHpHLCc"
      },
      "source": [
        "### 문제 14. subplots를 활용해 그래프 4개(2,2)를 동시에 그려보세요."
      ]
    },
    {
      "cell_type": "code",
      "metadata": {
        "id": "YHjPfMPjBudw",
        "colab": {
          "base_uri": "https://localhost:8080/",
          "height": 675
        },
        "outputId": "8ef3ee17-2806-47fe-9488-eebf0997ae8a"
      },
      "source": [
        "# 1990~2000, 2000~2010, 2010~2015, 2015~2020\n",
        "time_steps = [['1990', '2000'], \n",
        "              ['2000', '2010'], \n",
        "              ['2010', '2015'], \n",
        "              ['2015', '2020']]\n",
        "\n",
        "fig, axes = plt.subplots(2, 2)\n",
        "fig.set_size_inches(16, 9)\n",
        "for i in range(4):\n",
        "    ax = axes[i//2, i%2]\n",
        "    df = stock.loc[(stock.index > time_steps[i][0]) & (stock.index < time_steps[i][1])]\n",
        "    sns.lineplot(y=df['Close'], x=df.index, ax=ax)\n",
        "    ax.set_title(f'{time_steps[i][0]}~{time_steps[i][1]}')\n",
        "    ax.set_xlabel('time')\n",
        "    ax.set_ylabel('price')\n",
        "plt.tight_layout()\n",
        "plt.show()"
      ],
      "execution_count": 25,
      "outputs": [
        {
          "output_type": "stream",
          "text": [
            "findfont: Font family ['NanumGothic'] not found. Falling back to DejaVu Sans.\n"
          ],
          "name": "stderr"
        },
        {
          "output_type": "display_data",
          "data": {
            "image/png": "[encoded data removed]",
            "text/plain": [
              "<Figure size 1152x648 with 4 Axes>"
            ]
          },
          "metadata": {
            "tags": [],
            "needs_background": "light"
          }
        }
      ]
    },
    {
      "cell_type": "markdown",
      "metadata": {
        "id": "IyLCGJyTNAtc"
      },
      "source": [
        "## Step 3. 시계열 데이터의 전처리"
      ]
    },
    {
      "cell_type": "markdown",
      "metadata": {
        "id": "CDgThJtbBudw"
      },
      "source": [
        "### 문제 15. MinMaxScaler를 활요해 데이터 전처리를 수행합니다."
      ]
    },
    {
      "cell_type": "markdown",
      "metadata": {
        "id": "srjf2-yXBudx"
      },
      "source": [
        "주가 데이터에 대하여 딥러닝 모델이 더 잘 학습할 수 있도록 **정규화(Normalization)**를 해주도록 하겠습니다.\n",
        "\n",
        "**표준화 (Standardization)**와 **정규화(Normalization)**에 대한 내용은 아래 링크에서 더 자세히 다루니, 참고해 보시기 바랍니다.\n",
        "\n",
        "- [데이터 전처리에 관하여](https://teddylee777.github.io/scikit-learn/scikit-learn-preprocessing)"
      ]
    },
    {
      "cell_type": "code",
      "metadata": {
        "id": "4-4PgRMZ0l5Q",
        "colab": {
          "base_uri": "https://localhost:8080/"
        },
        "outputId": "3ed48b21-29a4-4694-c6c9-3545ae61ff1d"
      },
      "source": [
        "from sklearn.preprocessing import MinMaxScaler\n",
        "\n",
        "scaler = MinMaxScaler()\n",
        "# 스케일을 적용할 column을 정의합니다.\n",
        "scale_cols = ['Open', 'High', 'Low', 'Close', 'Volume']\n",
        "# 스케일 후 columns\n",
        "scaled = scaler.fit_transform(stock[scale_cols])\n",
        "scaled"
      ],
      "execution_count": 26,
      "outputs": [
        {
          "output_type": "execute_result",
          "data": {
            "text/plain": [
              "array([[0.01050941, 0.00991736, 0.01021229, 0.00331958, 0.00293369],\n",
              "       [0.01023256, 0.00965909, 0.01003352, 0.00335277, 0.00155284],\n",
              "       [0.010299  , 0.00989669, 0.01032402, 0.00367366, 0.00116902],\n",
              "       ...,\n",
              "       [0.98228128, 0.92975207, 0.99106145, 0.98561517, 0.29227203],\n",
              "       [0.9944629 , 0.94834711, 0.98324022, 0.96680424, 0.37020512],\n",
              "       [0.95902547, 0.9018595 , 0.9396648 , 0.93360849, 0.47235757]])"
            ]
          },
          "metadata": {
            "tags": []
          },
          "execution_count": 26
        }
      ]
    },
    {
      "cell_type": "markdown",
      "metadata": {
        "id": "sQQhs9BoBudx"
      },
      "source": [
        "스케일이 완료된 column으로 새로운 데이터프레임을 생성합니다.\n",
        "\n",
        "**시간 순으로 정렬**되어 있으며, datetime index는 제외했습니다.\n",
        "\n",
        "*6,000개의 row, 5개 column*으로 이루어진 데이터셋이 DataFrame으로 정리되었습니다."
      ]
    },
    {
      "cell_type": "code",
      "metadata": {
        "id": "dIJjE21B0l5m"
      },
      "source": [
        "# 아래 코드는 그대로 실행해주세요.\n",
        "df = pd.DataFrame(scaled, columns=scale_cols)"
      ],
      "execution_count": 27,
      "outputs": []
    },
    {
      "cell_type": "markdown",
      "metadata": {
        "id": "o91qHBM9Budy"
      },
      "source": [
        "### 문제 16. 모델 학습을 위해 train 데이터와 test 데이터로 분할해주세요."
      ]
    },
    {
      "cell_type": "code",
      "metadata": {
        "id": "EfLaczmvBudy"
      },
      "source": [
        "from sklearn.model_selection import train_test_split"
      ],
      "execution_count": 28,
      "outputs": []
    },
    {
      "cell_type": "code",
      "metadata": {
        "id": "lWJLgnIZBudy"
      },
      "source": [
        "# Close 컬럼이 예측할 데이터입니다.\n",
        "# test_size는 0.2, random_state는 0으로 지정해주세요.\n",
        "# shuffle을 수행하지 않습니다.\n",
        "x_train, x_test, y_train, y_test = train_test_split(df.drop('Close', 1), df['Close'], test_size=0.2, random_state=0, shuffle=False)"
      ],
      "execution_count": 29,
      "outputs": []
    },
    {
      "cell_type": "markdown",
      "metadata": {
        "id": "WIZKmyXKJXGI"
      },
      "source": [
        "### 문제 17. train 데이터와 test 데이터의 shape을 각각 살펴봅니다."
      ]
    },
    {
      "cell_type": "code",
      "metadata": {
        "id": "DB9gnTXzBudz",
        "colab": {
          "base_uri": "https://localhost:8080/"
        },
        "outputId": "ae6c16bd-6ab0-4145-8f64-67d3b181a076"
      },
      "source": [
        "x_train.shape, y_train.shape"
      ],
      "execution_count": 30,
      "outputs": [
        {
          "output_type": "execute_result",
          "data": {
            "text/plain": [
              "((4800, 4), (4800,))"
            ]
          },
          "metadata": {
            "tags": []
          },
          "execution_count": 30
        }
      ]
    },
    {
      "cell_type": "code",
      "metadata": {
        "id": "lNLz-MYcBudz",
        "colab": {
          "base_uri": "https://localhost:8080/"
        },
        "outputId": "6e6c5377-309d-46bf-c602-f49801e838df"
      },
      "source": [
        "x_test.shape, y_test.shape"
      ],
      "execution_count": 31,
      "outputs": [
        {
          "output_type": "execute_result",
          "data": {
            "text/plain": [
              "((1200, 4), (1200,))"
            ]
          },
          "metadata": {
            "tags": []
          },
          "execution_count": 31
        }
      ]
    },
    {
      "cell_type": "code",
      "metadata": {
        "id": "8DK9YaozBudz",
        "colab": {
          "base_uri": "https://localhost:8080/",
          "height": 419
        },
        "outputId": "0ff6aec7-47b6-4e66-aab7-e33f282d8dde"
      },
      "source": [
        "x_train"
      ],
      "execution_count": 32,
      "outputs": [
        {
          "output_type": "execute_result",
          "data": {
            "text/html": [
              "<div>\n",
              "<style scoped>\n",
              "    .dataframe tbody tr th:only-of-type {\n",
              "        vertical-align: middle;\n",
              "    }\n",
              "\n",
              "    .dataframe tbody tr th {\n",
              "        vertical-align: top;\n",
              "    }\n",
              "\n",
              "    .dataframe thead th {\n",
              "        text-align: right;\n",
              "    }\n",
              "</style>\n",
              "<table border=\"1\" class=\"dataframe\">\n",
              "  <thead>\n",
              "    <tr style=\"text-align: right;\">\n",
              "      <th></th>\n",
              "      <th>Open</th>\n",
              "      <th>High</th>\n",
              "      <th>Low</th>\n",
              "      <th>Volume</th>\n",
              "    </tr>\n",
              "  </thead>\n",
              "  <tbody>\n",
              "    <tr>\n",
              "      <th>0</th>\n",
              "      <td>0.010509</td>\n",
              "      <td>0.009917</td>\n",
              "      <td>0.010212</td>\n",
              "      <td>0.002934</td>\n",
              "    </tr>\n",
              "    <tr>\n",
              "      <th>1</th>\n",
              "      <td>0.010233</td>\n",
              "      <td>0.009659</td>\n",
              "      <td>0.010034</td>\n",
              "      <td>0.001553</td>\n",
              "    </tr>\n",
              "    <tr>\n",
              "      <th>2</th>\n",
              "      <td>0.010299</td>\n",
              "      <td>0.009897</td>\n",
              "      <td>0.010324</td>\n",
              "      <td>0.001169</td>\n",
              "    </tr>\n",
              "    <tr>\n",
              "      <th>3</th>\n",
              "      <td>0.010631</td>\n",
              "      <td>0.010041</td>\n",
              "      <td>0.010525</td>\n",
              "      <td>0.001442</td>\n",
              "    </tr>\n",
              "    <tr>\n",
              "      <th>4</th>\n",
              "      <td>0.010709</td>\n",
              "      <td>0.010558</td>\n",
              "      <td>0.010771</td>\n",
              "      <td>0.002670</td>\n",
              "    </tr>\n",
              "    <tr>\n",
              "      <th>...</th>\n",
              "      <td>...</td>\n",
              "      <td>...</td>\n",
              "      <td>...</td>\n",
              "      <td>...</td>\n",
              "    </tr>\n",
              "    <tr>\n",
              "      <th>4795</th>\n",
              "      <td>0.261130</td>\n",
              "      <td>0.245661</td>\n",
              "      <td>0.262123</td>\n",
              "      <td>0.001635</td>\n",
              "    </tr>\n",
              "    <tr>\n",
              "      <th>4796</th>\n",
              "      <td>0.260908</td>\n",
              "      <td>0.243595</td>\n",
              "      <td>0.259441</td>\n",
              "      <td>0.001556</td>\n",
              "    </tr>\n",
              "    <tr>\n",
              "      <th>4797</th>\n",
              "      <td>0.259579</td>\n",
              "      <td>0.245248</td>\n",
              "      <td>0.261899</td>\n",
              "      <td>0.001480</td>\n",
              "    </tr>\n",
              "    <tr>\n",
              "      <th>4798</th>\n",
              "      <td>0.261351</td>\n",
              "      <td>0.245248</td>\n",
              "      <td>0.261899</td>\n",
              "      <td>0.001964</td>\n",
              "    </tr>\n",
              "    <tr>\n",
              "      <th>4799</th>\n",
              "      <td>0.261130</td>\n",
              "      <td>0.246694</td>\n",
              "      <td>0.262793</td>\n",
              "      <td>0.003197</td>\n",
              "    </tr>\n",
              "  </tbody>\n",
              "</table>\n",
              "<p>4800 rows × 4 columns</p>\n",
              "</div>"
            ],
            "text/plain": [
              "          Open      High       Low    Volume\n",
              "0     0.010509  0.009917  0.010212  0.002934\n",
              "1     0.010233  0.009659  0.010034  0.001553\n",
              "2     0.010299  0.009897  0.010324  0.001169\n",
              "3     0.010631  0.010041  0.010525  0.001442\n",
              "4     0.010709  0.010558  0.010771  0.002670\n",
              "...        ...       ...       ...       ...\n",
              "4795  0.261130  0.245661  0.262123  0.001635\n",
              "4796  0.260908  0.243595  0.259441  0.001556\n",
              "4797  0.259579  0.245248  0.261899  0.001480\n",
              "4798  0.261351  0.245248  0.261899  0.001964\n",
              "4799  0.261130  0.246694  0.262793  0.003197\n",
              "\n",
              "[4800 rows x 4 columns]"
            ]
          },
          "metadata": {
            "tags": []
          },
          "execution_count": 32
        }
      ]
    },
    {
      "cell_type": "markdown",
      "metadata": {
        "id": "qr3eGxuxBud0"
      },
      "source": [
        "### 문제 18. TensroFlow Dataset을 활용해 시퀀스 데이터셋을 함수로 구현해주세요"
      ]
    },
    {
      "cell_type": "code",
      "metadata": {
        "id": "wOTgC-y2Bud0"
      },
      "source": [
        "import tensorflow as tf"
      ],
      "execution_count": 33,
      "outputs": []
    },
    {
      "cell_type": "code",
      "metadata": {
        "id": "yOlPdfrsBud0"
      },
      "source": [
        "def windowed_dataset(series, window_size, batch_size, shuffle):\n",
        "    series = tf.expand_dims(series, axis=-1)\n",
        "    ds = tf.data.Dataset.from_tensor_slices(series)\n",
        "    ds = ds.window(window_size + 1, shift=1, drop_remainder=True)\n",
        "    ds = ds.flat_map(lambda w: w.batch(window_size + 1))\n",
        "    if shuffle:\n",
        "        ds = ds.shuffle(1000)\n",
        "    ds = ds.map(lambda w: (w[:-1], w[-1]))\n",
        "    return ds.batch(batch_size).prefetch(1)"
      ],
      "execution_count": 34,
      "outputs": []
    },
    {
      "cell_type": "markdown",
      "metadata": {
        "id": "4UT0af9ANPTF"
      },
      "source": [
        "## Step 4. 모델 구현하기"
      ]
    },
    {
      "cell_type": "markdown",
      "metadata": {
        "id": "ht3fvb2kBud0"
      },
      "source": [
        "### 문제 19. Hyperparameter를 정의하고 데이터에 적용해주세요."
      ]
    },
    {
      "cell_type": "code",
      "metadata": {
        "id": "C894WM_pBud1"
      },
      "source": [
        "# 아래 코드는 그대로 실행해주세요.\n",
        "WINDOW_SIZE=20\n",
        "BATCH_SIZE=32"
      ],
      "execution_count": 35,
      "outputs": []
    },
    {
      "cell_type": "code",
      "metadata": {
        "id": "81VrjjujBud1"
      },
      "source": [
        "# trian_data는 학습용 데이터셋, test_data는 검증용 데이터셋 입니다.\n",
        "# WINDOW_SIZE와 BATCH_SIZE를 각 데이터셋에 적용해주세요.\n",
        "train_data = windowed_dataset(y_train, WINDOW_SIZE, BATCH_SIZE, True)\n",
        "test_data = windowed_dataset(y_test, WINDOW_SIZE, BATCH_SIZE, False)"
      ],
      "execution_count": 36,
      "outputs": []
    },
    {
      "cell_type": "code",
      "metadata": {
        "id": "aYPa6fkNBud1",
        "colab": {
          "base_uri": "https://localhost:8080/"
        },
        "outputId": "00d54f4a-8924-4faa-b157-0996c0e070f2"
      },
      "source": [
        "# 아래의 코드로 데이터셋의 구성을 확인해 볼 수 있습니다. 그대로 실행해보고, 데이터의 shape을 살펴보세요.\n",
        "# X: (batch_size, window_size, feature)\n",
        "# Y: (batch_size, feature)\n",
        "for data in train_data.take(1):\n",
        "    print(f'데이터셋(X) 구성(batch_size, window_size, feature갯수): {data[0].shape}')\n",
        "    print(f'데이터셋(Y) 구성(batch_size, window_size, feature갯수): {data[1].shape}')"
      ],
      "execution_count": 37,
      "outputs": [
        {
          "output_type": "stream",
          "text": [
            "데이터셋(X) 구성(batch_size, window_size, feature갯수): (32, 20, 1)\n",
            "데이터셋(Y) 구성(batch_size, window_size, feature갯수): (32, 1)\n"
          ],
          "name": "stdout"
        }
      ]
    },
    {
      "cell_type": "markdown",
      "metadata": {
        "id": "rSmSQt-wBud1"
      },
      "source": [
        "### 문제 20. Sequential 모델을 구현합니다. "
      ]
    },
    {
      "cell_type": "code",
      "metadata": {
        "id": "mAkmGu1j0l8M",
        "colab": {
          "base_uri": "https://localhost:8080/"
        },
        "outputId": "4e26bae4-3694-4b8a-c820-0b79fd964ff7"
      },
      "source": [
        "from tensorflow.keras.models import Sequential\n",
        "from tensorflow.keras.layers import Dense, LSTM, Conv1D, Lambda\n",
        "from tensorflow.keras.losses import Huber\n",
        "from tensorflow.keras.optimizers import Adam\n",
        "from tensorflow.keras.callbacks import EarlyStopping, ModelCheckpoint\n",
        "\n",
        "\n",
        "model = Sequential([\n",
        "    # 1차원 feature map 생성합니다. filters는 32로, kernel_size는 5로 지정해주세요.\n",
        "    Conv1D(filters=32, kernel_size=5,\n",
        "           padding=\"causal\",\n",
        "           activation=\"relu\",\n",
        "           input_shape=[WINDOW_SIZE, 1]),\n",
        "    # LSTM과 Dense 레이러를 사용해주세요. 활성함수는 각각 tanh와 relu로 지정합니다.\n",
        "    LSTM(16, activation='relu'),\n",
        "    Dense(16, activation=\"relu\"),\n",
        "    Dense(1),\n",
        "])"
      ],
      "execution_count": 38,
      "outputs": [
        {
          "output_type": "stream",
          "text": [
            "WARNING:tensorflow:Layer lstm will not use cuDNN kernel since it doesn't meet the cuDNN kernel criteria. It will use generic GPU kernel as fallback when running on GPU\n"
          ],
          "name": "stdout"
        }
      ]
    },
    {
      "cell_type": "markdown",
      "metadata": {
        "id": "52H4IgnELRRt"
      },
      "source": [
        "### 문제 21. 모델을 Compile합니다. loss는 Huber 함수를 사용하고 optimizer는 Adam을 사용해주세요."
      ]
    },
    {
      "cell_type": "code",
      "metadata": {
        "id": "xShll_EX0l8T"
      },
      "source": [
        "# Sequence 학습에 비교적 좋은 퍼포먼스를 내는 Huber()를 사용합니다.\n",
        "loss = Huber()\n",
        "optimizer = Adam(0.0005)\n",
        "model.compile(loss=Huber(), optimizer=optimizer, metrics=['mse'])"
      ],
      "execution_count": 39,
      "outputs": []
    },
    {
      "cell_type": "code",
      "metadata": {
        "id": "whZcvxsKBud2"
      },
      "source": [
        "# earlystopping은 10번 epoch통안 val_loss 개선이 없다면 학습을 멈춥니다.\n",
        "earlystopping = EarlyStopping(monitor='val_loss', patience=10)\n",
        "# val_loss 기준 체크포인터도 생성합니다.\n",
        "filename = os.path.join('tmp', 'ckeckpointer.ckpt')\n",
        "checkpoint = ModelCheckpoint(filename, \n",
        "                             save_weights_only=True, \n",
        "                             save_best_only=True, \n",
        "                             monitor='val_loss', \n",
        "                             verbose=1)"
      ],
      "execution_count": 40,
      "outputs": []
    },
    {
      "cell_type": "code",
      "metadata": {
        "colab": {
          "base_uri": "https://localhost:8080/"
        },
        "id": "y9OuVTeBBud2",
        "outputId": "52b0c090-9755-447e-a2f2-dbccdf33e004"
      },
      "source": [
        "# callbacks로 앞에서 구현한 earlystopping과 checkpoint를 지정해주세요.\n",
        "history = model.fit(train_data, \n",
        "                    validation_data=(test_data), \n",
        "                    epochs=50, \n",
        "                    callbacks=[checkpoint, earlystopping])"
      ],
      "execution_count": 41,
      "outputs": [
        {
          "output_type": "stream",
          "text": [
            "Epoch 1/50\n",
            "150/150 [==============================] - 11s 40ms/step - loss: 2.1124e-04 - mse: 4.2248e-04 - val_loss: 0.0031 - val_mse: 0.0062\n",
            "\n",
            "Epoch 00001: val_loss improved from inf to 0.00308, saving model to tmp/ckeckpointer.ckpt\n",
            "Epoch 2/50\n",
            "150/150 [==============================] - 6s 38ms/step - loss: 1.9897e-05 - mse: 3.9794e-05 - val_loss: 0.0011 - val_mse: 0.0021\n",
            "\n",
            "Epoch 00002: val_loss improved from 0.00308 to 0.00106, saving model to tmp/ckeckpointer.ckpt\n",
            "Epoch 3/50\n",
            "150/150 [==============================] - 6s 38ms/step - loss: 1.2729e-05 - mse: 2.5457e-05 - val_loss: 0.0012 - val_mse: 0.0025\n",
            "\n",
            "Epoch 00003: val_loss did not improve from 0.00106\n",
            "Epoch 4/50\n",
            "150/150 [==============================] - 6s 38ms/step - loss: 1.1983e-05 - mse: 2.3966e-05 - val_loss: 9.2039e-04 - val_mse: 0.0018\n",
            "\n",
            "Epoch 00004: val_loss improved from 0.00106 to 0.00092, saving model to tmp/ckeckpointer.ckpt\n",
            "Epoch 5/50\n",
            "150/150 [==============================] - 6s 37ms/step - loss: 1.1973e-05 - mse: 2.3946e-05 - val_loss: 4.5346e-04 - val_mse: 9.0691e-04\n",
            "\n",
            "Epoch 00005: val_loss improved from 0.00092 to 0.00045, saving model to tmp/ckeckpointer.ckpt\n",
            "Epoch 6/50\n",
            "150/150 [==============================] - 6s 38ms/step - loss: 1.1615e-05 - mse: 2.3231e-05 - val_loss: 2.7298e-04 - val_mse: 5.4596e-04\n",
            "\n",
            "Epoch 00006: val_loss improved from 0.00045 to 0.00027, saving model to tmp/ckeckpointer.ckpt\n",
            "Epoch 7/50\n",
            "150/150 [==============================] - 6s 37ms/step - loss: 1.3108e-05 - mse: 2.6216e-05 - val_loss: 2.8383e-04 - val_mse: 5.6766e-04\n",
            "\n",
            "Epoch 00007: val_loss did not improve from 0.00027\n",
            "Epoch 8/50\n",
            "150/150 [==============================] - 6s 37ms/step - loss: 1.0947e-05 - mse: 2.1895e-05 - val_loss: 2.0946e-04 - val_mse: 4.1891e-04\n",
            "\n",
            "Epoch 00008: val_loss improved from 0.00027 to 0.00021, saving model to tmp/ckeckpointer.ckpt\n",
            "Epoch 9/50\n",
            "150/150 [==============================] - 6s 40ms/step - loss: 1.1156e-05 - mse: 2.2312e-05 - val_loss: 1.9573e-04 - val_mse: 3.9145e-04\n",
            "\n",
            "Epoch 00009: val_loss improved from 0.00021 to 0.00020, saving model to tmp/ckeckpointer.ckpt\n",
            "Epoch 10/50\n",
            "150/150 [==============================] - 6s 38ms/step - loss: 1.1852e-05 - mse: 2.3704e-05 - val_loss: 1.9118e-04 - val_mse: 3.8237e-04\n",
            "\n",
            "Epoch 00010: val_loss improved from 0.00020 to 0.00019, saving model to tmp/ckeckpointer.ckpt\n",
            "Epoch 11/50\n",
            "150/150 [==============================] - 6s 38ms/step - loss: 1.0916e-05 - mse: 2.1833e-05 - val_loss: 1.8647e-04 - val_mse: 3.7293e-04\n",
            "\n",
            "Epoch 00011: val_loss improved from 0.00019 to 0.00019, saving model to tmp/ckeckpointer.ckpt\n",
            "Epoch 12/50\n",
            "150/150 [==============================] - 6s 37ms/step - loss: 1.1268e-05 - mse: 2.2537e-05 - val_loss: 4.4098e-04 - val_mse: 8.8195e-04\n",
            "\n",
            "Epoch 00012: val_loss did not improve from 0.00019\n",
            "Epoch 13/50\n",
            "150/150 [==============================] - 6s 37ms/step - loss: 1.0079e-05 - mse: 2.0158e-05 - val_loss: 2.9109e-04 - val_mse: 5.8219e-04\n",
            "\n",
            "Epoch 00013: val_loss did not improve from 0.00019\n",
            "Epoch 14/50\n",
            "150/150 [==============================] - 6s 37ms/step - loss: 9.7775e-06 - mse: 1.9555e-05 - val_loss: 4.9486e-04 - val_mse: 9.8973e-04\n",
            "\n",
            "Epoch 00014: val_loss did not improve from 0.00019\n",
            "Epoch 15/50\n",
            "150/150 [==============================] - 6s 38ms/step - loss: 1.0193e-05 - mse: 2.0385e-05 - val_loss: 4.2882e-04 - val_mse: 8.5765e-04\n",
            "\n",
            "Epoch 00015: val_loss did not improve from 0.00019\n",
            "Epoch 16/50\n",
            "150/150 [==============================] - 6s 37ms/step - loss: 9.9704e-06 - mse: 1.9941e-05 - val_loss: 9.2972e-04 - val_mse: 0.0019\n",
            "\n",
            "Epoch 00016: val_loss did not improve from 0.00019\n",
            "Epoch 17/50\n",
            "150/150 [==============================] - 6s 39ms/step - loss: 9.2606e-06 - mse: 1.8521e-05 - val_loss: 9.6578e-04 - val_mse: 0.0019\n",
            "\n",
            "Epoch 00017: val_loss did not improve from 0.00019\n",
            "Epoch 18/50\n",
            "150/150 [==============================] - 6s 37ms/step - loss: 9.7258e-06 - mse: 1.9452e-05 - val_loss: 0.0011 - val_mse: 0.0021\n",
            "\n",
            "Epoch 00018: val_loss did not improve from 0.00019\n",
            "Epoch 19/50\n",
            "150/150 [==============================] - 6s 37ms/step - loss: 9.1443e-06 - mse: 1.8289e-05 - val_loss: 0.0018 - val_mse: 0.0035\n",
            "\n",
            "Epoch 00019: val_loss did not improve from 0.00019\n",
            "Epoch 20/50\n",
            "150/150 [==============================] - 6s 38ms/step - loss: 8.7203e-06 - mse: 1.7441e-05 - val_loss: 0.0016 - val_mse: 0.0032\n",
            "\n",
            "Epoch 00020: val_loss did not improve from 0.00019\n",
            "Epoch 21/50\n",
            "150/150 [==============================] - 6s 38ms/step - loss: 8.4239e-06 - mse: 1.6848e-05 - val_loss: 6.8064e-04 - val_mse: 0.0014\n",
            "\n",
            "Epoch 00021: val_loss did not improve from 0.00019\n"
          ],
          "name": "stdout"
        }
      ]
    },
    {
      "cell_type": "markdown",
      "metadata": {
        "id": "L0LQMnc-NZXo"
      },
      "source": [
        "## Step 5. 모델을 활용한 예측 및 결과 시각화"
      ]
    },
    {
      "cell_type": "markdown",
      "metadata": {
        "id": "qDTIxmbVBud3"
      },
      "source": [
        "### 문제 24. 저장한 ModelCheckpoint 를 불러옵니다."
      ]
    },
    {
      "cell_type": "code",
      "metadata": {
        "id": "RoPIDRSo32f-",
        "colab": {
          "base_uri": "https://localhost:8080/"
        },
        "outputId": "c29b59c3-75eb-47e0-a8fe-41ea17f0c623"
      },
      "source": [
        "model.load_weights(filename)"
      ],
      "execution_count": 46,
      "outputs": [
        {
          "output_type": "execute_result",
          "data": {
            "text/plain": [
              "<tensorflow.python.training.tracking.util.CheckpointLoadStatus at 0x7f3c8fbc1a90>"
            ]
          },
          "metadata": {
            "tags": []
          },
          "execution_count": 46
        }
      ]
    },
    {
      "cell_type": "markdown",
      "metadata": {
        "id": "x0-oum0bBud3"
      },
      "source": [
        "### 문제 25. `test_data`를 활용하여 예측을 수행합니다."
      ]
    },
    {
      "cell_type": "code",
      "metadata": {
        "id": "WxAxSLNL0l8Z"
      },
      "source": [
        "pred = model.predict(test_data)"
      ],
      "execution_count": 47,
      "outputs": []
    },
    {
      "cell_type": "code",
      "metadata": {
        "colab": {
          "base_uri": "https://localhost:8080/"
        },
        "id": "yMPXjSQ10l8d",
        "outputId": "968ccb88-0159-4be8-d123-9cbeb7a71bd3"
      },
      "source": [
        "pred.shape"
      ],
      "execution_count": 48,
      "outputs": [
        {
          "output_type": "execute_result",
          "data": {
            "text/plain": [
              "(1180, 1)"
            ]
          },
          "metadata": {
            "tags": []
          },
          "execution_count": 48
        }
      ]
    },
    {
      "cell_type": "markdown",
      "metadata": {
        "id": "jaWpXnQf6zMt"
      },
      "source": [
        "### 문제 26. matplotlib을 활용해 예측 데이터를 시각화해주세요."
      ]
    },
    {
      "cell_type": "markdown",
      "metadata": {
        "id": "Vq2_mc7fBud4"
      },
      "source": [
        "아래 시각화 코드중 y_test 데이터에 **[20:]**으로 슬라이싱을 한 이유는\n",
        "\n",
        "예측 데이터에서 20일치의 데이터로 21일치를 예측해야하기 때문에 test_data로 예측 시 *앞의 20일은 예측하지 않습니다.*\n",
        "\n",
        "따라서, 20번 째 index와 비교하면 더욱 정확합니다."
      ]
    },
    {
      "cell_type": "code",
      "metadata": {
        "colab": {
          "base_uri": "https://localhost:8080/",
          "height": 537
        },
        "id": "2F4QQ1O_0l8m",
        "outputId": "2af395d8-81dd-4a49-805c-dabbcb9e5ab6"
      },
      "source": [
        "# 20일치의 데이터로 21일치를 예측하므로 test_data 사용시 이전 20일은 예측하지 않습니다.\n",
        "# 따라서 y_test 데이터에 [20:]로 슬라이싱해주세요.\n",
        "plt.figure(figsize=(12, 9))\n",
        "plt.plot(np.asarray(y_test)[20:], label='actual')\n",
        "plt.plot(pred, label='prediction')\n",
        "plt.legend()\n",
        "plt.show()"
      ],
      "execution_count": 49,
      "outputs": [
        {
          "output_type": "display_data",
          "data": {
            "image/png": "[encoded data removed]",
            "text/plain": [
              "<Figure size 864x648 with 1 Axes>"
            ]
          },
          "metadata": {
            "tags": [],
            "needs_background": "light"
          }
        }
      ]
    }
  ]
}