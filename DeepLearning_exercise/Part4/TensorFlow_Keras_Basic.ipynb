{
 "cells": [],
 "metadata": {
  "kernelspec": {
   "display_name": "DL",
   "language": "python",
   "name": "python3"
  },
  "language_info": {
   "codemirror_mode": {
    "name": "ipython",
    "version": 3
   },
   "file_extension": ".py",
   "mimetype": "text/x-python",
   "name": "python",
   "nbconvert_exporter": "python",
   "pygments_lexer": "ipython3",
   "version": "3.10.6"
  },
  "orig_nbformat": 4,
  "vscode": {
   "interpreter": {
    "hash": "60d0139203b9048f6760b29fcc1cae1f975d3ed607ab404bf4727a6aedb2c178"
   }
  }
 },
 "nbformat": 4,
 "nbformat_minor": 2
}
