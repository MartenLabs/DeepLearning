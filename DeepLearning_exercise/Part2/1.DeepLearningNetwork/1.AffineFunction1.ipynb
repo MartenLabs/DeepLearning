{
 "cells": [
  {
   "attachments": {},
   "cell_type": "markdown",
   "metadata": {},
   "source": [
    "# 1-1: Affine Functions with 1 Feature"
   ]
  },
  {
   "attachments": {},
   "cell_type": "markdown",
   "metadata": {},
   "source": [
    "### Code. 1-1-1: Affine Function"
   ]
  },
  {
   "cell_type": "code",
   "execution_count": 3,
   "metadata": {},
   "outputs": [
    {
     "name": "stdout",
     "output_type": "stream",
     "text": [
      "Metal device set to: Apple M1 Pro\n",
      "(1, 1)\n",
      "\n",
      "systemMemory: 32.00 GB\n",
      "maxCacheSize: 10.67 GB\n",
      "\n",
      "tf.Tensor([[10.]], shape=(1, 1), dtype=float32)\n",
      "tf.Tensor([[12.438742]], shape=(1, 1), dtype=float32)\n",
      "[[1.2438742]] [0.]\n",
      "====== Input/Weight/Bias ======\n",
      "x_shape: (1, 1)\n",
      "[[10.]]\n",
      "\n",
      "W_shape: (1, 1)\n",
      "P[[1.2438742]]\n",
      "\n",
      "B_shape: (1,)\n",
      "P[0.]\n",
      "\n",
      "====== Outputs ======\n",
      "y(Tensorflow): (1, 1)\n",
      "[[12.438742]]\n",
      "\n",
      "y(Manual): (1, 1)\n",
      "[[12.438742]]\n",
      "\n"
     ]
    }
   ],
   "source": [
    "import tensorflow as tf\n",
    "from tensorflow.keras.layers import Dense\n",
    "\n",
    "x = tf.constant([[10.]]) # input setting(Note: input -> matrix)\n",
    "print(x.shape)\n",
    "print(x)\n",
    "dense = Dense(units=1, activation='linear') # imp. an affine function\n",
    "\n",
    "y_tf = dense(x) # forward propagation + params initialization (z = x * w + b)\n",
    "print(y_tf)\n",
    "\n",
    "W, B = dense.get_weights() # get weight, bias\n",
    "print(W, B)\n",
    "\n",
    "y_man = tf.linalg.matmul(x, W) + B # forward promagation(manual)\n",
    "# matmul : matrix multiplication\n",
    "\n",
    "# print result\n",
    "print('====== Input/Weight/Bias ======')\n",
    "print('x_shape: {}\\n{}\\n'.format(x.shape, x.numpy()))\n",
    "print('W_shape: {}\\nP{}\\n'.format(W.shape, W))\n",
    "print('B_shape: {}\\nP{}\\n'.format(B.shape, B))\n",
    "\n",
    "\n",
    "print('====== Outputs ======')\n",
    "print(\"y(Tensorflow): {}\\n{}\\n\".format(y_tf.shape, y_tf.numpy()))\n",
    "print(\"y(Manual): {}\\n{}\\n\".format(y_man.shape, y_man.numpy()))\n",
    "\n",
    "\n"
   ]
  },
  {
   "attachments": {},
   "cell_type": "markdown",
   "metadata": {},
   "source": [
    "### Code.1-1-1 : Params Initialization"
   ]
  },
  {
   "cell_type": "code",
   "execution_count": 20,
   "metadata": {},
   "outputs": [
    {
     "name": "stdout",
     "output_type": "stream",
     "text": [
      "<keras.initializers.initializers_v2.Constant object at 0x107895c60> <keras.initializers.initializers_v2.Constant object at 0x107894250>\n",
      "tf.Tensor([[120.]], shape=(1, 1), dtype=float32)\n",
      "W: (1, 1)\n",
      "[[10.]]\n",
      "B: (1,)\n",
      "[20.]\n",
      "\n"
     ]
    }
   ],
   "source": [
    "import tensorflow as tf\n",
    "from tensorflow.keras.layers import Dense\n",
    "from tensorflow.keras.initializers import Constant \n",
    "\n",
    "# weight/bias setting\n",
    "w, b = tf.constant(10.), tf.constant(20.) # 실제 텐서 값이 아님\n",
    "w_init, b_init = tf.keras.initializers.Constant(w), Constant(b) # w, b 초기화 오브젝트\n",
    "\n",
    "print(w_init, b_init)\n",
    "\n",
    "# imp. an affine function\n",
    "dense = Dense(units = 1, \n",
    "              activation='linear',\n",
    "              kernel_initializer=w_init,\n",
    "              bias_initializer=b_init)\n",
    "\n",
    "x = tf.constant([[10.]]) # z = x * w + b (10 * 10 + 20)\n",
    "y_tf = dense(x)\n",
    "print(y_tf) # 120\n",
    "\n",
    "W, B = dense.get_weights()\n",
    "# print result \n",
    "print(\"W: {}\\n{}\".format(W.shape, W))\n",
    "print(\"B: {}\\n{}\\n\".format(B.shape, B))\n"
   ]
  },
  {
   "attachments": {},
   "cell_type": "markdown",
   "metadata": {},
   "source": [
    "# 1-2: Affine Functions with N Features"
   ]
  },
  {
   "attachments": {},
   "cell_type": "markdown",
   "metadata": {},
   "source": [
    "### Code.1-2-1 : Affine Functions with N Features"
   ]
  },
  {
   "cell_type": "code",
   "execution_count": 26,
   "metadata": {},
   "outputs": [
    {
     "name": "stdout",
     "output_type": "stream",
     "text": [
      "====== Input/Weight/Bias ======\n",
      "x_shape: (1, 10)\n",
      "[[3.1179297  8.263412   6.849456   0.06709099 7.8749514  3.906511\n",
      "  2.9263055  9.921693   9.581042   5.5623317 ]]\n",
      "\n",
      "W_shape: (10, 1)\n",
      "P[[ 0.68710214]\n",
      " [-0.1210326 ]\n",
      " [-0.5607531 ]\n",
      " [-0.72845984]\n",
      " [ 0.30647546]\n",
      " [ 0.21355563]\n",
      " [ 0.66414386]\n",
      " [-0.31598148]\n",
      " [ 0.2962156 ]\n",
      " [ 0.10126787]]\n",
      "\n",
      "B_shape: (1,)\n",
      "P[0.]\n",
      "\n",
      "====== Outputs ======\n",
      "y(Tensorflow): (1, 1)\n",
      "[[2.7099597]]\n",
      "\n",
      "y(Manual): (1, 1)\n",
      "[[2.7099597]]\n",
      "\n"
     ]
    }
   ],
   "source": [
    "import tensorflow as tf\n",
    "from tensorflow.keras.layers import Dense\n",
    "from tensorflow.keras.initializers import Constant\n",
    "\n",
    "x = tf.random.uniform(shape=(1,10), minval=0, maxval=10)\n",
    "# print(x, '\\n' ,x.shape)\n",
    "\n",
    "dense = Dense(units = 1)\n",
    "\n",
    "y_tf = dense(x)\n",
    "\n",
    "W,B = dense.get_weights()\n",
    "\n",
    "y_man = tf.linalg.matmul(x, W) + B\n",
    "\n",
    "# print result\n",
    "print('====== Input/Weight/Bias ======')\n",
    "print('x_shape: {}\\n{}\\n'.format(x.shape, x.numpy()))\n",
    "print('W_shape: {}\\nP{}\\n'.format(W.shape, W))\n",
    "print('B_shape: {}\\nP{}\\n'.format(B.shape, B))\n",
    "\n",
    "\n",
    "print('====== Outputs ======')\n",
    "print(\"y(Tensorflow): {}\\n{}\\n\".format(y_tf.shape, y_tf.numpy()))\n",
    "print(\"y(Manual): {}\\n{}\\n\".format(y_man.shape, y_man.numpy()))"
   ]
  },
  {
   "cell_type": "code",
   "execution_count": null,
   "metadata": {},
   "outputs": [],
   "source": []
  }
 ],
 "metadata": {
  "kernelspec": {
   "display_name": "DL",
   "language": "python",
   "name": "python3"
  },
  "language_info": {
   "codemirror_mode": {
    "name": "ipython",
    "version": 3
   },
   "file_extension": ".py",
   "mimetype": "text/x-python",
   "name": "python",
   "nbconvert_exporter": "python",
   "pygments_lexer": "ipython3",
   "version": "3.10.6"
  },
  "orig_nbformat": 4
 },
 "nbformat": 4,
 "nbformat_minor": 2
}
