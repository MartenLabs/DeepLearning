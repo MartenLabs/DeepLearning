{
 "cells": [
  {
   "attachments": {},
   "cell_type": "markdown",
   "metadata": {},
   "source": [
    "# 6-1: Max/Avg Pooling"
   ]
  },
  {
   "attachments": {},
   "cell_type": "markdown",
   "metadata": {},
   "source": [
    "### Code.6-1-1: Max Pooling"
   ]
  },
  {
   "cell_type": "code",
   "execution_count": 5,
   "metadata": {},
   "outputs": [
    {
     "name": "stdout",
     "output_type": "stream",
     "text": [
      "x:(1, 10, 1)\n",
      "[-1.3544159   0.7045493   0.03666191  0.86918795  0.43842277 -0.53439844\n",
      " -0.07710292  1.5658046  -0.1012345  -0.2744975 ]\n",
      "pooled_max(Tensorflow): (1, 9, 1)\n",
      "[ 0.7045493   0.7045493   0.86918795  0.86918795  0.43842277 -0.07710292\n",
      "  1.5658046   1.5658046  -0.1012345 ]\n",
      "pooled_max(Manual): (1, 9, 1)\n",
      "[ 0.70454931  0.70454931  0.86918795  0.86918795  0.43842277 -0.07710292\n",
      "  1.5658046   1.5658046  -0.1012345 ]\n"
     ]
    }
   ],
   "source": [
    "import numpy as np\n",
    "import tensorflow as tf\n",
    "from tensorflow.keras.layers import MaxPooling1D\n",
    "\n",
    "Length, pooling_size, stride = 10, 2, 1\n",
    "\n",
    "                        # 데이터 갯수       열\n",
    "x = tf.random.normal(shape = (1, Length, 1))\n",
    "                                # 길이(행)\n",
    "                          \n",
    "pool_max = MaxPooling1D(pool_size = pooling_size, strides = stride)\n",
    "pooled_max = pool_max(x)\n",
    "\n",
    "print(\"x:{}\\n{}\".format(x.shape, x.numpy().flatten()))\n",
    "print(\"pooled_max(Tensorflow): {}\\n{}\".format(pooled_max.shape,\n",
    "                                              pooled_max.numpy().flatten()))\n",
    "\n",
    "x = x.numpy().flatten()\n",
    "pooled_max_man = np.zeros((Length - pooling_size + 1, ))\n",
    "\n",
    "for i in range(Length - pooling_size + 1):\n",
    "    window = x[i:i+pooling_size]\n",
    "    pooled_max_man[i] = np.max(window)\n",
    "    \n",
    "print(\"pooled_max(Manual): {}\\n{}\".format(pooled_max.shape,\n",
    "                                          pooled_max_man))"
   ]
  },
  {
   "attachments": {},
   "cell_type": "markdown",
   "metadata": {},
   "source": [
    "### Code.6-1-2: Average Pooling"
   ]
  },
  {
   "cell_type": "code",
   "execution_count": 9,
   "metadata": {},
   "outputs": [
    {
     "name": "stdout",
     "output_type": "stream",
     "text": [
      "x:(1, 10, 1)\n",
      "[-1.3544159   0.7045493   0.03666191  0.86918795  0.43842277 -0.53439844\n",
      " -0.07710292  1.5658046  -0.1012345  -0.2744975 ]\n",
      "pooled_avg(Tensorflow): (1, 9, 1)\n",
      "[-0.3249333   0.37060562  0.45292494  0.6538054  -0.04798783 -0.30575067\n",
      "  0.74435085  0.732285   -0.187866  ]\n",
      "pooled_avg(Manual): (9,)\n",
      "[-0.32493329  0.37060562  0.45292494  0.65380538 -0.04798783 -0.30575067\n",
      "  0.74435085  0.73228502 -0.187866  ]\n"
     ]
    }
   ],
   "source": [
    "import numpy as np\n",
    "import tensorflow as tf\n",
    "from tensorflow.keras.layers import AveragePooling1D\n",
    "\n",
    "Length, pool_size, stride = 10, 2, 1\n",
    "                        # 데이터 갯수     # (열)\n",
    "x = tf.random.normal(shape = (1, Length, 1))\n",
    "                                # 길이 (행)\n",
    "  \n",
    "pool_avg = AveragePooling1D(pool_size = pooling_size, strides = stride)\n",
    "pooled_avg = pool_avg(x)\n",
    "\n",
    "print(\"x:{}\\n{}\".format(x.shape, x.numpy().flatten()))\n",
    "print(\"pooled_avg(Tensorflow): {}\\n{}\".format(pooled_avg.shape,\n",
    "                                              pooled_avg.numpy().flatten()))\n",
    "\n",
    "x = x.numpy().flatten()\n",
    "pooled_avg_man = np.zeros((Length - pooling_size + 1, ))\n",
    "\n",
    "for i in range(Length - pooling_size + 1):\n",
    "    window = x[i:i+pooling_size]\n",
    "    pooled_avg_man[i] = np.mean(window)\n",
    "\n",
    "print(\"pooled_avg(Manual): {}\\n{}\".format(pooled_avg_man.shape,\n",
    "                                          pooled_avg_man))"
   ]
  },
  {
   "attachments": {},
   "cell_type": "markdown",
   "metadata": {},
   "source": [
    "# 6-2: 2D Max/Avg Pooling"
   ]
  },
  {
   "attachments": {},
   "cell_type": "markdown",
   "metadata": {},
   "source": [
    "### Code.6-2-1: 2D Max Pooling"
   ]
  },
  {
   "cell_type": "code",
   "execution_count": 11,
   "metadata": {},
   "outputs": [
    {
     "name": "stdout",
     "output_type": "stream",
     "text": [
      "x: (1, 5, 5, 1)\n",
      "[[-1.3544159   0.7045493   0.03666191  0.86918795  0.43842277]\n",
      " [-0.53439844 -0.07710292  1.5658046  -0.1012345  -0.2744975 ]\n",
      " [ 1.420466    1.2609465  -0.4364091  -1.963399   -0.06452482]\n",
      " [-1.056841    1.0019135   0.6735137   0.06987705 -1.4077919 ]\n",
      " [ 1.0278524   0.2797411  -0.01347954  1.8451811   0.9706112 ]]\n",
      "pooled_max(Tensorflow): (1, 4, 4, 1)\n",
      "[[ 0.7045493   1.5658046   1.5658046   0.86918795]\n",
      " [ 1.420466    1.5658046   1.5658046  -0.06452482]\n",
      " [ 1.420466    1.2609465   0.6735137   0.06987705]\n",
      " [ 1.0278524   1.0019135   1.8451811   1.8451811 ]]\n",
      "pooled_max(Manual): (4, 4)\n",
      "[[ 0.70454931  1.5658046   1.5658046   0.86918795]\n",
      " [ 1.42046595  1.5658046   1.5658046  -0.06452482]\n",
      " [ 1.42046595  1.26094651  0.67351371  0.06987705]\n",
      " [ 1.02785242  1.00191355  1.84518111  1.84518111]]\n"
     ]
    }
   ],
   "source": [
    "import numpy as np\n",
    "import tensorflow as tf\n",
    "from tensorflow.keras.layers import MaxPooling2D\n",
    "\n",
    "N, n_H, n_W, n_C = 1, 5, 5, 1\n",
    "\n",
    "pooling_size, stride = 2, 1\n",
    "\n",
    "x = tf.random.normal(shape = (N, n_H, n_W, n_C))\n",
    "pool_max = MaxPooling2D(pool_size = pooling_size, strides = stride)\n",
    "pooled_max = pool_max(x)\n",
    "\n",
    "print(\"x: {}\\n{}\".format(x.shape, x.numpy().squeeze()))\n",
    "print(\"pooled_max(Tensorflow): {}\\n{}\".format(pooled_max.shape,\n",
    "                                              pooled_max.numpy().squeeze()))\n",
    "\n",
    "x = x.numpy().squeeze()\n",
    "pooled_max_man = np.zeros(shape = (n_H - pooling_size + 1, n_W - pooling_size + 1))\n",
    "\n",
    "for i in range(n_H - pooling_size + 1):\n",
    "    for j in range(n_W - pooling_size + 1):\n",
    "        window = x[i:i+pooling_size, j:j+pooling_size]\n",
    "        pooled_max_man[i, j] = np.max(window)\n",
    "print(\"pooled_max(Manual): {}\\n{}\".format(pooled_max_man.shape,\n",
    "                                          pooled_max_man))\n",
    "\n"
   ]
  },
  {
   "attachments": {},
   "cell_type": "markdown",
   "metadata": {},
   "source": [
    "### Code.6-2-2: 2D Average Pooling"
   ]
  },
  {
   "cell_type": "code",
   "execution_count": 13,
   "metadata": {},
   "outputs": [
    {
     "name": "stdout",
     "output_type": "stream",
     "text": [
      "x: (1, 5, 5, 1)\n",
      "[[-1.3544159   0.7045493   0.03666191  0.86918795  0.43842277]\n",
      " [-0.53439844 -0.07710292  1.5658046  -0.1012345  -0.2744975 ]\n",
      " [ 1.420466    1.2609465  -0.4364091  -1.963399   -0.06452482]\n",
      " [-1.056841    1.0019135   0.6735137   0.06987705 -1.4077919 ]\n",
      " [ 1.0278524   0.2797411  -0.01347954  1.8451811   0.9706112 ]]\n",
      "pooled_max(Tensorflow): (1, 4, 4, 1)\n",
      "[[-0.31534198  0.55747825  0.592605    0.2329697 ]\n",
      " [ 0.51747775  0.5783098  -0.23380953 -0.600914  ]\n",
      " [ 0.6566212   0.6249912  -0.41410437 -0.84145963]\n",
      " [ 0.3131665   0.48542216  0.6437731   0.36946937]]\n",
      "pooled_max(Manual): (4, 4)\n",
      "[[-0.31534198  0.55747825  0.59260499  0.2329697 ]\n",
      " [ 0.51747775  0.57830977 -0.23380953 -0.600914  ]\n",
      " [ 0.65662122  0.62499118 -0.41410437 -0.84145963]\n",
      " [ 0.3131665   0.48542216  0.64377308  0.36946937]]\n"
     ]
    }
   ],
   "source": [
    "import numpy as np\n",
    "import tensorflow as tf\n",
    "from tensorflow.keras.layers import AveragePooling2D\n",
    "\n",
    "N, n_H, n_W, n_C = 1, 5, 5, 1\n",
    "\n",
    "pooling_size, stride = 2, 1\n",
    "\n",
    "x = tf.random.normal(shape = (N, n_H, n_W, n_C))\n",
    "pool_avg = AveragePooling2D(pool_size = pooling_size, strides = stride)\n",
    "pooled_avg = pool_avg(x)\n",
    "\n",
    "print(\"x: {}\\n{}\".format(x.shape, x.numpy().squeeze()))\n",
    "print(\"pooled_max(Tensorflow): {}\\n{}\".format(pooled_avg.shape,\n",
    "                                              pooled_avg.numpy().squeeze()))\n",
    "\n",
    "x = x.numpy().squeeze()\n",
    "pooled_avg_man = np.zeros(shape = (n_H - pooling_size + 1, n_W - pooling_size + 1))\n",
    "\n",
    "for i in range(n_H - pooling_size + 1):\n",
    "    for j in range(n_W - pooling_size + 1):\n",
    "        window = x[i:i+pooling_size, j:j+pooling_size]\n",
    "        pooled_avg_man[i,j] = np.mean(window)\n",
    "        \n",
    "print(\"pooled_max(Manual): {}\\n{}\".format(pooled_avg_man.shape,\n",
    "                                          pooled_avg_man))\n",
    "\n",
    "    \n"
   ]
  },
  {
   "attachments": {},
   "cell_type": "markdown",
   "metadata": {},
   "source": [
    "# 6-3: 3D Max/Avg Pooling"
   ]
  },
  {
   "attachments": {},
   "cell_type": "markdown",
   "metadata": {},
   "source": [
    "### Code.6-3-1: 3D Max Pooling"
   ]
  },
  {
   "cell_type": "code",
   "execution_count": 16,
   "metadata": {},
   "outputs": [
    {
     "name": "stdout",
     "output_type": "stream",
     "text": [
      "x: (1, 5, 5, 3)\n",
      "[[[-1.3544159  -1.056841   -0.87579006 -0.29925638  0.3314997 ]\n",
      "  [ 0.86918795  0.06987705  0.842157   -1.0130817   0.593032  ]\n",
      "  [-0.07710292  0.2797411  -0.6039788   0.46988976 -1.0939722 ]\n",
      "  [-0.2744975   0.9706112   0.29037958  0.60545963 -0.16822565]\n",
      "  [-0.4364091  -0.29738778  0.01063002  0.47690514  0.35877225]]\n",
      "\n",
      " [[ 0.7045493   1.0019135  -0.08856997 -0.36523244 -0.5445253 ]\n",
      "  [ 0.43842277 -1.4077919  -0.06378508  0.28291693 -0.63509274]\n",
      "  [ 1.5658046  -0.01347954 -0.17669262  0.37944326 -0.46014464]\n",
      "  [ 1.420466   -1.0242516  -0.2960446   0.19181171 -0.43908644]\n",
      "  [-1.963399   -1.3240397   1.5165399  -0.7812124  -1.9095895 ]]\n",
      "\n",
      " [[ 0.03666191  0.6735137   0.6921164   0.61883324  1.5222509 ]\n",
      "  [-0.53439844  1.0278524   0.9280078   1.2132235   0.3703566 ]\n",
      "  [-0.1012345   1.8451811   0.04221032 -0.66640246  1.5420506 ]\n",
      "  [ 1.2609465  -0.6544423  -0.21134192  0.80458266 -0.41292417]\n",
      "  [-0.06452482  0.28785658  0.27305746 -0.996891   -0.20947677]]]\n",
      "pooled_max(Tensorflow): (1, 2, 2, 3)\n",
      "[[[0.86918795 0.9706112 ]\n",
      "  [0.842157   0.60545963]]\n",
      "\n",
      " [[1.0019135  1.5658046 ]\n",
      "  [0.28291693 0.37944326]]\n",
      "\n",
      " [[1.0278524  1.8451811 ]\n",
      "  [1.2132235  0.80458266]]]\n",
      "pooled_max(Manual): (2, 2, 3)\n",
      "[[[0.86918795 0.27974111]\n",
      "  [0.84215701 0.46988976]]\n",
      "\n",
      " [[1.00191355 1.5658046 ]\n",
      "  [0.28291693 0.37944326]]\n",
      "\n",
      " [[1.02785242 1.84518111]\n",
      "  [1.21322346 0.04221032]]]\n"
     ]
    }
   ],
   "source": [
    "import math\n",
    "import numpy as np\n",
    "import tensorflow as tf\n",
    "from tensorflow.keras.layers import MaxPooling2D\n",
    "\n",
    "N, n_H, n_W, n_C = 1, 5, 5, 3\n",
    "pooling_size, stride = 2, 2\n",
    "\n",
    "x = tf.random.normal(shape = (N, n_H, n_W, n_C))\n",
    "print(\"x: {}\\n{}\".format(x.shape, np.transpose(x.numpy().squeeze()), (2, 0, 1)))\n",
    "\n",
    "pool_max = MaxPooling2D(pool_size = pooling_size, strides = stride)\n",
    "pooled_max = pool_max(x)\n",
    "\n",
    "pooled_max_t = np.transpose(pooled_max.numpy().squeeze(), (2, 0, 1))\n",
    "print(\"pooled_max(Tensorflow): {}\\n{}\".format(pooled_max.shape,\n",
    "                                              pooled_max_t))\n",
    "\n",
    "# [[[0.86918795 0.9706112 ]         R\n",
    "#   [0.842157   0.60545963]]\n",
    "\n",
    "#  [[1.0019135  1.5658046 ]         G\n",
    "#   [0.28291693 0.37944326]]\n",
    "\n",
    "#  [[1.0278524  1.8451811 ]         B\n",
    "#   [1.2132235  0.80458266]]]\n",
    "\n",
    "\n",
    "x = x.numpy().squeeze()\n",
    "n_H_ = math.floor((n_H - pooling_size) / stride + 1) # floor 함수는 실수를 입력하면내림하여 정수를 반환하는 함수\n",
    "n_W_ = math.floor((n_W - pooling_size) / stride + 1)\n",
    "pooled_max_man = np.zeros(shape = (n_H_, n_W_, n_C))\n",
    "\n",
    "for c in range(n_C):\n",
    "    c_image = x[:, :, c]\n",
    "    h_ = 0     # start      stop               steps\n",
    "    for h in range(0, n_H - pooling_size + 1, stride):\n",
    "        w_ = 0\n",
    "        for w in range(0, n_W - pooling_size + 1, stride):\n",
    "            window = c_image[h:h+pooling_size, w:w_+pooling_size]\n",
    "            pooled_max_man[h_, w_, c] = np.max(window)\n",
    "            \n",
    "            w_ += 1\n",
    "        h_ += 1\n",
    "\n",
    "pooled_max_t = np.transpose(pooled_max_man, (2, 0, 1))\n",
    "print(\"pooled_max(Manual): {}\\n{}\".format(pooled_max_man.shape,\n",
    "                                          pooled_max_t))\n",
    "\n",
    "\n",
    "            \n"
   ]
  },
  {
   "attachments": {},
   "cell_type": "markdown",
   "metadata": {},
   "source": [
    "# 6-4: Padding"
   ]
  },
  {
   "attachments": {},
   "cell_type": "markdown",
   "metadata": {},
   "source": [
    "### Code.6-4-1: Zero Padding 2D Layer"
   ]
  },
  {
   "cell_type": "code",
   "execution_count": 21,
   "metadata": {},
   "outputs": [
    {
     "name": "stdout",
     "output_type": "stream",
     "text": [
      "(1, 3, 3, 3)\n",
      "[[[-1.3544159   0.86918795 -0.07710292]\n",
      "  [-0.2744975  -0.4364091  -1.056841  ]\n",
      "  [ 0.06987705  0.2797411   0.9706112 ]]\n",
      "\n",
      " [[ 0.7045493   0.43842277  1.5658046 ]\n",
      "  [ 1.420466   -1.963399    1.0019135 ]\n",
      "  [-1.4077919  -0.01347954 -1.0242516 ]]\n",
      "\n",
      " [[ 0.03666191 -0.53439844 -0.1012345 ]\n",
      "  [ 1.2609465  -0.06452482  0.6735137 ]\n",
      "  [ 1.0278524   1.8451811  -0.6544423 ]]]\n",
      "(1, 5, 5, 3)\n",
      "[[[ 0.          0.          0.          0.          0.        ]\n",
      "  [ 0.         -1.3544159   0.86918795 -0.07710292  0.        ]\n",
      "  [ 0.         -0.2744975  -0.4364091  -1.056841    0.        ]\n",
      "  [ 0.          0.06987705  0.2797411   0.9706112   0.        ]\n",
      "  [ 0.          0.          0.          0.          0.        ]]\n",
      "\n",
      " [[ 0.          0.          0.          0.          0.        ]\n",
      "  [ 0.          0.7045493   0.43842277  1.5658046   0.        ]\n",
      "  [ 0.          1.420466   -1.963399    1.0019135   0.        ]\n",
      "  [ 0.         -1.4077919  -0.01347954 -1.0242516   0.        ]\n",
      "  [ 0.          0.          0.          0.          0.        ]]\n",
      "\n",
      " [[ 0.          0.          0.          0.          0.        ]\n",
      "  [ 0.          0.03666191 -0.53439844 -0.1012345   0.        ]\n",
      "  [ 0.          1.2609465  -0.06452482  0.6735137   0.        ]\n",
      "  [ 0.          1.0278524   1.8451811  -0.6544423   0.        ]\n",
      "  [ 0.          0.          0.          0.          0.        ]]]\n"
     ]
    }
   ],
   "source": [
    "import numpy as np\n",
    "import tensorflow as tf\n",
    "from tensorflow.keras.layers import ZeroPadding2D\n",
    "\n",
    "images = tf.random.normal(shape = (1, 3, 3, 3))\n",
    "print(images.shape)\n",
    "print(np.transpose(images.numpy().squeeze(), (2, 0, 1)))\n",
    "\n",
    "# [[[-1.3544159   0.86918795 -0.07710292]       R\n",
    "#   [-0.2744975  -0.4364091  -1.056841  ]\n",
    "#   [ 0.06987705  0.2797411   0.9706112 ]]\n",
    "\n",
    "#  [[ 0.7045493   0.43842277  1.5658046 ]       G\n",
    "#   [ 1.420466   -1.963399    1.0019135 ]\n",
    "#   [-1.4077919  -0.01347954 -1.0242516 ]]\n",
    "\n",
    "#  [[ 0.03666191 -0.53439844 -0.1012345 ]       B\n",
    "#   [ 1.2609465  -0.06452482  0.6735137 ]\n",
    "#   [ 1.0278524   1.8451811  -0.6544423 ]]]\n",
    "\n",
    "\n",
    "zero_padding = ZeroPadding2D(padding = 1)\n",
    "y = zero_padding(images)\n",
    "print(y.shape)\n",
    "print(np.transpose(y.numpy().squeeze(), (2, 0 ,1)))\n",
    "\n",
    "# [[[ 0.          0.          0.          0.          0.        ]       \n",
    "#   [ 0.         -1.3544159   0.86918795 -0.07710292  0.        ]       R\n",
    "#   [ 0.         -0.2744975  -0.4364091  -1.056841    0.        ]\n",
    "#   [ 0.          0.06987705  0.2797411   0.9706112   0.        ]\n",
    "#   [ 0.          0.          0.          0.          0.        ]]\n",
    "\n",
    "#  [[ 0.          0.          0.          0.          0.        ]\n",
    "#   [ 0.          0.7045493   0.43842277  1.5658046   0.        ]       G\n",
    "#   [ 0.          1.420466   -1.963399    1.0019135   0.        ]\n",
    "#   [ 0.         -1.4077919  -0.01347954 -1.0242516   0.        ]\n",
    "#   [ 0.          0.          0.          0.          0.        ]]\n",
    "\n",
    "#  [[ 0.          0.          0.          0.          0.        ]\n",
    "#   [ 0.          0.03666191 -0.53439844 -0.1012345   0.        ]       B\n",
    "#   [ 0.          1.2609465  -0.06452482  0.6735137   0.        ]\n",
    "#   [ 0.          1.0278524   1.8451811  -0.6544423   0.        ]\n",
    "#   [ 0.          0.          0.          0.          0.        ]]]\n",
    "\n"
   ]
  },
  {
   "attachments": {},
   "cell_type": "markdown",
   "metadata": {},
   "source": [
    "### Code.6-4-2: Zero Padding with Conv2D Layers"
   ]
  },
  {
   "cell_type": "code",
   "execution_count": 22,
   "metadata": {},
   "outputs": [
    {
     "name": "stdout",
     "output_type": "stream",
     "text": [
      "(1, 28, 28, 1)\n"
     ]
    }
   ],
   "source": [
    "import tensorflow as tf\n",
    "from tensorflow.keras.layers import Conv2D\n",
    "\n",
    "images = tf.random.normal(shape = (1, 28, 28, 3))\n",
    "\n",
    "# conv layer 에서는 same 또는 valid padding을 주로 사용\n",
    "# same padding 은 윈도우가 움직일 때 코너 케이스를 계산해줘 사이즈가 줄어들지 않도록 패딩을 자동으로 해준다.\n",
    "# (1, 28, 28, 3) -> (1, 30, 30, 3)\n",
    "conv = Conv2D(filters = 1, kernel_size = 3, padding = 'same') \n",
    "y = conv(images)\n",
    "print(y.shape) # (1, 28, 28, 1)"
   ]
  },
  {
   "attachments": {},
   "cell_type": "markdown",
   "metadata": {},
   "source": [
    "# 6-5: Strides"
   ]
  },
  {
   "attachments": {},
   "cell_type": "markdown",
   "metadata": {},
   "source": [
    "### Code.6-5-1: Strides in Conv2D Layers"
   ]
  },
  {
   "cell_type": "code",
   "execution_count": 23,
   "metadata": {},
   "outputs": [
    {
     "name": "stdout",
     "output_type": "stream",
     "text": [
      "(1, 28, 28, 3)\n",
      "(1, 13, 13, 1)\n"
     ]
    }
   ],
   "source": [
    "import tensorflow as tf\n",
    "from tensorflow.keras.layers import Conv2D\n",
    "\n",
    "images = tf.random.normal(shape = (1, 28, 28, 3))\n",
    "conv = Conv2D(filters = 1, kernel_size = 3, padding = 'valid', strides = 2)\n",
    "y = conv(images)\n",
    "\n",
    "print(images.shape)\n",
    "print(y.shape)\n"
   ]
  },
  {
   "attachments": {},
   "cell_type": "markdown",
   "metadata": {},
   "source": [
    "### Code.6-5-2: Strides in Pooling Layers"
   ]
  },
  {
   "cell_type": "code",
   "execution_count": 26,
   "metadata": {},
   "outputs": [
    {
     "name": "stdout",
     "output_type": "stream",
     "text": [
      "(1, 28, 28, 3)\n",
      "(1, 13, 13, 3)\n"
     ]
    }
   ],
   "source": [
    "import tensorflow as tf\n",
    "from tensorflow.keras.layers import MaxPooling2D\n",
    "\n",
    "images = tf.random.normal(shape = (1, 28, 28, 3))\n",
    "conv = MaxPooling2D(pool_size = 3, strides = 2, padding = 'valid')\n",
    "y = conv(images)\n",
    "\n",
    "print(images.shape)\n",
    "print(y.shape) \n"
   ]
  },
  {
   "cell_type": "code",
   "execution_count": null,
   "metadata": {},
   "outputs": [],
   "source": []
  }
 ],
 "metadata": {
  "kernelspec": {
   "display_name": "DL",
   "language": "python",
   "name": "python3"
  },
  "language_info": {
   "codemirror_mode": {
    "name": "ipython",
    "version": 3
   },
   "file_extension": ".py",
   "mimetype": "text/x-python",
   "name": "python",
   "nbconvert_exporter": "python",
   "pygments_lexer": "ipython3",
   "version": "3.10.6"
  },
  "orig_nbformat": 4
 },
 "nbformat": 4,
 "nbformat_minor": 2
}
