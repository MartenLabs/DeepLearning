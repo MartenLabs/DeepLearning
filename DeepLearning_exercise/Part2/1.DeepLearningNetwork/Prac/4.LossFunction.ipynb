{
 "cells": [
  {
   "attachments": {},
   "cell_type": "markdown",
   "metadata": {},
   "source": [
    "0차원 스칼라\n",
    "1차원 벡터\n",
    "2차원 배열(행렬)\n",
    "3차원 텐서 \n",
    "\n",
    "를 각각 만들고 출력값을 확인하시오"
   ]
  },
  {
   "cell_type": "code",
   "execution_count": 1,
   "metadata": {},
   "outputs": [
    {
     "name": "stdout",
     "output_type": "stream",
     "text": [
      "Metal device set to: ()\n",
      "(3,)\n",
      "(2, 3)\n",
      "(2, 2, 3)\n",
      "Apple M1 Pro\n",
      "\n",
      "systemMemory: 32.00 GB\n",
      "maxCacheSize: 10.67 GB\n",
      "\n"
     ]
    }
   ],
   "source": [
    "import tensorflow as tf\n",
    "\n",
    "\"\"\" 0차원 스칼라 \"\"\"\n",
    "scalar = tf.constant(10.)\n",
    "print(scalar.shape)\n",
    "\n",
    "\"\"\" 1차원 벡터 \"\"\"\n",
    "vector = tf.constant([10 ,20, 30])\n",
    "print(vector.shape)\n",
    "\n",
    "\"\"\" 2차원 행렬 \"\"\" \n",
    "matrix = tf.constant([[10 ,20, 30], [10 ,20, 30]])\n",
    "print(matrix.shape)\n",
    "\n",
    "\"\"\" 3차원 텐서 \"\"\"\n",
    "tensor = tf.constant([[[10 ,20 ,30], [10, 20, 30]], [[10, 20, 30], [10, 20, 30]]])\n",
    "print(tensor.shape)"
   ]
  },
  {
   "attachments": {},
   "cell_type": "markdown",
   "metadata": {},
   "source": [
    "1차원 가변 Vector\n",
    "\n",
    "2차원 가변 배열(행렬)\n",
    "\n",
    "3차원 가면 텐서\n",
    "\n",
    "를 각각 만들고 데이터를 각각 추가한 뒤 출력값을 확인하시오"
   ]
  },
  {
   "cell_type": "code",
   "execution_count": 5,
   "metadata": {},
   "outputs": [
    {
     "name": "stdout",
     "output_type": "stream",
     "text": [
      "tf.Tensor([10. 20. 30.], shape=(3,), dtype=float32)\n",
      "tf.Tensor(\n",
      "[[10. 20. 30.]\n",
      " [10. 20. 30.]\n",
      " [10. 20. 30.]], shape=(3, 3), dtype=float32)\n",
      "tf.Tensor(\n",
      "[[[10. 20.]\n",
      "  [10. 20.]]\n",
      "\n",
      " [[10. 20.]\n",
      "  [10. 20.]]], shape=(2, 2, 2), dtype=float32)\n"
     ]
    }
   ],
   "source": [
    "import tensorflow as tf \n",
    "\n",
    "\"\"\" 1차원 가변 벡터 \"\"\"\n",
    "empty_vector = tf.zeros(shape = (0,))\n",
    "new_vecotr = tf.constant([10. ,20 ,30])\n",
    "concat_data = tf.concat([empty_vector, new_vecotr], axis = 0)\n",
    "print(concat_data)\n",
    "\n",
    "\"\"\" matrix \"\"\"\n",
    "empty_matrix = tf.zeros(shape = (0, 3))\n",
    "new_matrix = tf.constant([[10. ,20 ,30], [10, 20, 30], [10, 20, 30]])\n",
    "concat_data = tf.concat([empty_matrix, new_matrix], axis = 0)\n",
    "print(concat_data)\n",
    "\n",
    "\"\"\" tensor \"\"\"\n",
    "empty_tensor = tf.zeros(shape = (0 ,2 ,2))\n",
    "new_tensor = tf.constant([[[10., 20], [10, 20]], [[10 ,20], [10, 20]]])\n",
    "concat_data = tf.concat([empty_tensor, new_tensor], axis = 0)\n",
    "print(concat_data)\n",
    "\n"
   ]
  },
  {
   "attachments": {},
   "cell_type": "markdown",
   "metadata": {},
   "source": [
    "### Dataset for Regression\n",
    "\n",
    "8, 5 짜리 normal distribution을 따르고 평균이 0이고 표준편차가 1인 x\n",
    "\n",
    "1, 2, 3, 4, 5를 가지며 float32인 t_weights\n",
    "\n",
    "10을 가지며 float32인 t_bias \n",
    "\n",
    "를 affine function연산 수행 후 shape을 확인하시오"
   ]
  },
  {
   "cell_type": "code",
   "execution_count": 11,
   "metadata": {},
   "outputs": [
    {
     "name": "stdout",
     "output_type": "stream",
     "text": [
      "(8,)\n"
     ]
    }
   ],
   "source": [
    "import tensorflow as tf \n",
    "\n",
    "N, n_feature = 8, 5\n",
    "\n",
    "t_weights = tf.constant([1, 2, 3, 4, 5], dtype = tf.float32)\n",
    "t_bias = tf.constant([10], dtype = tf.float32)\n",
    "x = tf.random.normal(shape = (8, 5), mean = 0, stddev = 1)\n",
    "\n",
    "y = tf.reduce_sum(t_weights * x, axis = 1) + t_bias\n",
    "print(y.shape)\n"
   ]
  },
  {
   "attachments": {},
   "cell_type": "markdown",
   "metadata": {},
   "source": [
    "### Dataset for Binary Classification\n",
    "\n",
    "8, 5 짜리 normal distribution을 따르고 평균이 0이고 표준편차가 1인 x\n",
    "\n",
    "1, 2, 3, 4, 5를 가지며 float32인 t_weights\n",
    "\n",
    "10을 가지며 float32인 t_bias \n",
    "\n",
    "를 affine function연산 수행 후 5 이상인 수치에 대해서는 1 그 밖은 0으로 출력하도록 하고 값을 확인하시오"
   ]
  },
  {
   "cell_type": "code",
   "execution_count": 14,
   "metadata": {},
   "outputs": [
    {
     "name": "stdout",
     "output_type": "stream",
     "text": [
      "tf.Tensor([ True  True False  True  True False  True  True], shape=(8,), dtype=bool)\n",
      "tf.Tensor([1 1 0 1 1 0 1 1], shape=(8,), dtype=int32)\n"
     ]
    }
   ],
   "source": [
    "import tensorflow as tf \n",
    "\n",
    "N, n_feature = 8, 5\n",
    "\n",
    "t_weights = tf.constant([1, 2, 3, 4 ,5], dtype = tf.float32)\n",
    "t_bias = tf.constant([10], dtype = tf.float32)\n",
    "\n",
    "x = tf.random.normal(shape = (N, n_feature), mean = 0, stddev = 1)\n",
    "\n",
    "y = tf.reduce_sum(t_weights * x, axis = 1) + t_bias\n",
    "\n",
    "print(y > 5)\n",
    "y = tf.cast(y > 5, dtype = tf.int32)\n",
    "print(y)\n"
   ]
  },
  {
   "attachments": {},
   "cell_type": "markdown",
   "metadata": {},
   "source": [
    "### Dataset for Multi-class Classification\n",
    "\n",
    "3class 분류 dataset을 생성하시오 \n",
    "\n",
    "8개의 데이터는 2개의 특징을 가지고 있다.\n",
    "\n",
    "\n"
   ]
  },
  {
   "cell_type": "code",
   "execution_count": 22,
   "metadata": {},
   "outputs": [
    {
     "name": "stdout",
     "output_type": "stream",
     "text": [
      "(8,)\n",
      "(8,)\n",
      "(8,)\n",
      "(8,)\n",
      "(8,)\n",
      "(8,)\n"
     ]
    },
    {
     "data": {
      "image/png": "[encoded data removed]",
      "text/plain": [
       "<Figure size 500x500 with 1 Axes>"
      ]
     },
     "metadata": {},
     "output_type": "display_data"
    }
   ],
   "source": [
    "import tensorflow as tf \n",
    "import matplotlib.pyplot as plt\n",
    "\n",
    "tf.random.set_seed(3)\n",
    "\n",
    "N, n_feature = 8, 2\n",
    "n_class = 3\n",
    "\n",
    "X = tf.zeros(shape = (0, n_feature))\n",
    "Y = tf.zeros(shape = (0,), dtype = tf.int32)\n",
    "\n",
    "fig, ax = plt.subplots(figsize = (5, 5))\n",
    "for class_idx in range(n_class):\n",
    "    center = tf.random.uniform(minval = -15, maxval = 15, shape = (2, ))\n",
    "\n",
    "    x1 = center[0] + tf.random.normal(shape = (N, 1))\n",
    "    x2 = center[1] + tf.random.normal(shape = (N, 1))\n",
    "    \n",
    "    x = tf.concat((x1, x2), axis = 1)\n",
    "    \n",
    "    y = class_idx * tf.ones(shape = (N, ), dtype = tf.int32)\n",
    "    \n",
    "    print(x[:, 0].shape)\n",
    "    print(x[:, 1].shape)\n",
    "    ax.scatter(x[:,0].numpy(), x[:,1].numpy(), alpha = 0.3)\n",
    "    \n",
    "    X = tf.concat((X, x), axis = 0)\n",
    "    Y = tf.concat((Y, y), axis = 0)\n",
    "\n",
    "\n"
   ]
  },
  {
   "attachments": {},
   "cell_type": "markdown",
   "metadata": {},
   "source": [
    "### Dataset for Multi-class Classification with One-hot Encoding\n",
    "\n",
    "3class 분류 dataset을 생성하시오 \n",
    "\n",
    "8개의 데이터는 2개의 특징을 가지고 있다."
   ]
  },
  {
   "cell_type": "code",
   "execution_count": 14,
   "metadata": {},
   "outputs": [
    {
     "name": "stdout",
     "output_type": "stream",
     "text": [
      "[[ -9.32379      0.63441634]\n",
      " [-10.284907     2.379104  ]\n",
      " [ -9.124892     3.1632388 ]\n",
      " [-10.155995     5.1037564 ]\n",
      " [-12.013144     2.3951974 ]\n",
      " [-10.723062     0.83566296]\n",
      " [-10.489759     0.7615824 ]\n",
      " [-10.951565     4.0525527 ]\n",
      " [  5.536338    -5.62978   ]\n",
      " [  5.76781     -4.842551  ]\n",
      " [  4.2800665   -4.4587307 ]\n",
      " [  4.4007945   -4.3808784 ]\n",
      " [  4.3090057   -4.109671  ]\n",
      " [  3.299302    -5.164282  ]\n",
      " [  2.1642792   -4.8752728 ]\n",
      " [  5.027039    -8.509354  ]\n",
      " [-15.617774   -11.937093  ]\n",
      " [-14.294315   -11.4917145 ]\n",
      " [-12.543969   -13.106331  ]\n",
      " [-12.981747   -11.833797  ]\n",
      " [-13.088761   -11.444979  ]\n",
      " [-13.387175   -11.164747  ]\n",
      " [-14.235947   -10.6895    ]\n",
      " [-12.998525   -11.369796  ]]\n",
      "[[1 0 0]\n",
      " [1 0 0]\n",
      " [1 0 0]\n",
      " [1 0 0]\n",
      " [1 0 0]\n",
      " [1 0 0]\n",
      " [1 0 0]\n",
      " [1 0 0]\n",
      " [0 1 0]\n",
      " [0 1 0]\n",
      " [0 1 0]\n",
      " [0 1 0]\n",
      " [0 1 0]\n",
      " [0 1 0]\n",
      " [0 1 0]\n",
      " [0 1 0]\n",
      " [0 0 1]\n",
      " [0 0 1]\n",
      " [0 0 1]\n",
      " [0 0 1]\n",
      " [0 0 1]\n",
      " [0 0 1]\n",
      " [0 0 1]\n",
      " [0 0 1]]\n"
     ]
    },
    {
     "data": {
      "image/png": "[encoded data removed]",
      "text/plain": [
       "<Figure size 500x500 with 1 Axes>"
      ]
     },
     "metadata": {},
     "output_type": "display_data"
    }
   ],
   "source": []
  },
  {
   "attachments": {},
   "cell_type": "markdown",
   "metadata": {},
   "source": [
    "### Dataset Object\n",
    "\n",
    "100, 5 짜리 normal distribution을 따르고 평균이 0이고 표준편차가 1인 x\n",
    "\n",
    "1, 2, 3, 4, 5를 가지며 float32인 t_weights\n",
    "\n",
    "10을 가지며 float32인 t_bias \n",
    "\n",
    "affine function연산 수행 \n",
    "\n",
    "조건 \n",
    "\n",
    "배치 = 32\n",
    "\n",
    "데이터 셋을 생성\n",
    "\n",
    "suffle 수행\n",
    "\n",
    "\n"
   ]
  },
  {
   "cell_type": "code",
   "execution_count": 23,
   "metadata": {},
   "outputs": [
    {
     "name": "stdout",
     "output_type": "stream",
     "text": [
      "(32, 5) (32,)\n",
      "(4, 5) (4,)\n",
      "(32, 5) (32,)\n",
      "(32, 5) (32,)\n"
     ]
    }
   ],
   "source": []
  },
  {
   "attachments": {},
   "cell_type": "markdown",
   "metadata": {},
   "source": [
    "### MSE Calculation\n",
    "\n",
    "batch size 가 32인 예측값과 라벨을 각각 만들고 \n",
    "\n",
    "이 값들에 대해 tensorflow 제공 MSE를 사용하여 차이를 확인해 보고 MSE를 직접 구현해서 차이가 있는지 확인하시오"
   ]
  },
  {
   "cell_type": "code",
   "execution_count": 31,
   "metadata": {},
   "outputs": [
    {
     "name": "stdout",
     "output_type": "stream",
     "text": [
      "tf.Tensor(1.2769399, shape=(), dtype=float32) tf.Tensor(1.2769399, shape=(), dtype=float32)\n"
     ]
    }
   ],
   "source": []
  },
  {
   "attachments": {},
   "cell_type": "markdown",
   "metadata": {},
   "source": [
    "### MSE with Model/Dataset\n",
    "\n",
    "100개의 데이터 5개의 특징 \n",
    "\n",
    "32 배치\n",
    "\n",
    "데이터셋화\n",
    "\n",
    "뉴런 1개 인 linear 모델을 통과시킨 후 \n",
    "\n",
    "y값과 prediction 값의 loss를 계산하시오"
   ]
  },
  {
   "cell_type": "code",
   "execution_count": 45,
   "metadata": {},
   "outputs": [
    {
     "name": "stdout",
     "output_type": "stream",
     "text": [
      "2.0344756\n",
      "3.0350947\n",
      "2.384056\n",
      "2.3896272\n"
     ]
    }
   ],
   "source": []
  },
  {
   "attachments": {},
   "cell_type": "markdown",
   "metadata": {},
   "source": [
    "### Binary Cross Entropy Calculation\n",
    "\n",
    "batch_size = 4\n",
    "\n",
    "n_class = 2\n",
    "\n",
    "인 데이터를 Binary Cross Entropy loss function에 넣어 값을 확인해 보고 \n",
    "\n",
    "Binary Cross Entropy를 직접 구현하여 둘의 차이가 있는지 확인하시오 \n"
   ]
  },
  {
   "cell_type": "code",
   "execution_count": 19,
   "metadata": {},
   "outputs": [
    {
     "name": "stdout",
     "output_type": "stream",
     "text": [
      "loss_tf:  0.82151735\n",
      "loss_man:  0.8215176\n"
     ]
    }
   ],
   "source": []
  },
  {
   "cell_type": "code",
   "execution_count": 75,
   "metadata": {},
   "outputs": [
    {
     "name": "stdout",
     "output_type": "stream",
     "text": [
      "BCE(TF) 1.4945767\n",
      "BCE(man) 1.4945774\n"
     ]
    }
   ],
   "source": []
  },
  {
   "attachments": {},
   "cell_type": "markdown",
   "metadata": {},
   "source": [
    "### BCE with Model/Dataset\n",
    "\n",
    "5개의 feature를 가진 100개의 데이터 \n",
    "\n",
    "batch = 30\n",
    "\n",
    "weight = 1, 2, 3 ,4 ,5\n",
    "\n",
    "bias = 10\n",
    "\n",
    "인 데이터와 모델을 dataset으로 만들고 이를 뉴럴 1개인 모델에 통과시켜 BCE loss를 확인하시오"
   ]
  },
  {
   "cell_type": "code",
   "execution_count": 38,
   "metadata": {},
   "outputs": [
    {
     "name": "stdout",
     "output_type": "stream",
     "text": [
      "8.040405\n",
      "9.139044\n",
      "7.1689477\n",
      "6.4429727\n"
     ]
    }
   ],
   "source": []
  },
  {
   "attachments": {},
   "cell_type": "markdown",
   "metadata": {},
   "source": [
    "### Sparse Categorical Cross Entropy \n",
    "\n",
    "one-hot 인코딩이 되어있지 않을 떄 \n",
    "\n",
    "배치 사이즈 = 16\n",
    "\n",
    "클래스 = 5\n",
    "\n"
   ]
  },
  {
   "cell_type": "code",
   "execution_count": 7,
   "metadata": {},
   "outputs": [
    {
     "name": "stdout",
     "output_type": "stream",
     "text": [
      "tf.Tensor(1.5893974, shape=(), dtype=float32)\n",
      "tf.Tensor(1.5893974, shape=(), dtype=float32)\n"
     ]
    }
   ],
   "source": []
  },
  {
   "cell_type": "code",
   "execution_count": null,
   "metadata": {},
   "outputs": [],
   "source": []
  }
 ],
 "metadata": {
  "kernelspec": {
   "display_name": "DL",
   "language": "python",
   "name": "python3"
  },
  "language_info": {
   "codemirror_mode": {
    "name": "ipython",
    "version": 3
   },
   "file_extension": ".py",
   "mimetype": "text/x-python",
   "name": "python",
   "nbconvert_exporter": "python",
   "pygments_lexer": "ipython3",
   "version": "3.10.6"
  },
  "orig_nbformat": 4
 },
 "nbformat": 4,
 "nbformat_minor": 2
}
