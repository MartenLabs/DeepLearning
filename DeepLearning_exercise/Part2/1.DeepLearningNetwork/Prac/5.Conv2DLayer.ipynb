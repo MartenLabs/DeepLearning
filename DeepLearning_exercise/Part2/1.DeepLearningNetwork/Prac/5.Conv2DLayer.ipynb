{
 "cells": [
  {
   "attachments": {},
   "cell_type": "markdown",
   "metadata": {},
   "source": [
    "# 5-1: Conv Layers"
   ]
  },
  {
   "attachments": {},
   "cell_type": "markdown",
   "metadata": {},
   "source": [
    "### Code.5-1-1: Shapes of Conv Layers"
   ]
  },
  {
   "cell_type": "code",
   "execution_count": 3,
   "metadata": {},
   "outputs": [
    {
     "name": "stdout",
     "output_type": "stream",
     "text": [
      "(1, 28, 28, 3)\n",
      "(3, 3, 3, 10)\n",
      "(10,)\n",
      "(1, 26, 26, 10)\n"
     ]
    }
   ],
   "source": [
    "import tensorflow as tf\n",
    "from tensorflow.keras.layers import Conv2D\n",
    "\n",
    "N, n_H, n_W, n_C = 1, 28, 28, 3\n",
    "n_filter = 10\n",
    "f_size = 3\n",
    "\n",
    "images = tf.random.uniform(minval = 0, maxval = 1,\n",
    "                           shape = ((N, n_H, n_W, n_C)))\n",
    "\n",
    "conv = Conv2D(filters = n_filter, kernel_size = f_size)\n",
    "\n",
    "y = conv(images)\n",
    "\n",
    "W, B = conv.get_weights()\n",
    "\n",
    "print(images.shape)  # (1, 28, 28, 1) image 갯수, image 높이, image 넓이, image channel\n",
    "print(W.shape)       # (3, 3, 3, 10)  filter 높이, filter 넓이, filter channel, filter number\n",
    "print(B.shape)       # (10, )         bias vector(filter number)\n",
    "\n",
    "# (n_H - f_size + 1, n_W - f_size + 1)\n",
    "print(y.shape)       # (1, 26, 26, 10) image 갯수, image 높이, image 넓이, filter number"
   ]
  },
  {
   "attachments": {},
   "cell_type": "markdown",
   "metadata": {},
   "source": [
    "### Code.5-1-2: Correlation Calculation"
   ]
  },
  {
   "cell_type": "code",
   "execution_count": 18,
   "metadata": {},
   "outputs": [
    {
     "name": "stdout",
     "output_type": "stream",
     "text": [
      "y(tensorflow):\n",
      " [[0.5807772  0.80894494 0.8066216 ]\n",
      " [0.6032288  0.35610676 0.31117508]\n",
      " [0.7110289  0.11009558 0.6034144 ]]\n",
      "Y(Manual):\n",
      " [[0.58077717 0.80894494 0.80662167]\n",
      " [0.60322887 0.35610676 0.31117505]\n",
      " [0.71102881 0.11009555 0.6034143 ]]\n"
     ]
    }
   ],
   "source": [
    "import numpy as np\n",
    "import tensorflow as tf\n",
    "from tensorflow.keras.layers import Conv2D\n",
    "\n",
    "N, n_H, n_W, n_C = 1, 5, 5, 3\n",
    "n_filter = 1\n",
    "f_size = 3\n",
    "\n",
    "images = tf.random.uniform(minval = 0, maxval = 1,\n",
    "                           shape = ((N, n_H, n_W, n_C)))\n",
    "\n",
    "conv = Conv2D(filters = n_filter, kernel_size = f_size)\n",
    "\n",
    "y_tf = conv(images)\n",
    "# print(\"y(tensorflow):\\n\", y_tf.numpy())\n",
    "# print(y_tf.shape)\n",
    "print(\"y(tensorflow):\\n\", y_tf.numpy().squeeze())\n",
    "# print(y_tf.numpy().squeeze().shape)\n",
    "W, B = conv.get_weights()\n",
    "\n",
    "images = images.numpy().squeeze()\n",
    "W = W.squeeze()\n",
    "\n",
    "# print(images.shape)\n",
    "# print(W.shape)\n",
    "# print(B.shape)\n",
    "\n",
    "y_man = np.zeros(shape = (n_H - f_size + 1, n_W - f_size + 1))\n",
    "for i in range(n_H - f_size + 1):\n",
    "    for j in range(n_W - f_size + 1):\n",
    "        window = images[i:i+f_size, j:j+f_size, :]\n",
    "        y_man[i, j] = np.sum(window * W) + B\n",
    "        \n",
    "print(\"Y(Manual):\\n\", y_man)\n",
    "\n"
   ]
  },
  {
   "attachments": {},
   "cell_type": "markdown",
   "metadata": {},
   "source": [
    "# Code.5-2: Conv Layer with Filters"
   ]
  },
  {
   "attachments": {},
   "cell_type": "markdown",
   "metadata": {},
   "source": [
    "### Code.5-2-1: Shapes with Filters"
   ]
  },
  {
   "cell_type": "code",
   "execution_count": 4,
   "metadata": {},
   "outputs": [
    {
     "name": "stdout",
     "output_type": "stream",
     "text": [
      "Input Image: (32, 28, 28, 3)\n",
      "W/B: (3, 3, 3, 5) / (5,)\n",
      "Output Image: (32, 26, 26, 5)\n"
     ]
    }
   ],
   "source": [
    "import tensorflow as tf \n",
    "from tensorflow.keras.layers import Conv2D\n",
    "\n",
    "N, n_H, n_W, n_C = 32, 28, 28, 3\n",
    "n_filter = 5\n",
    "k_size = 3\n",
    "\n",
    "images = tf.random.uniform(minval = 0, maxval = 1,\n",
    "                           shape = ((N, n_H, n_W, n_C)))\n",
    "\n",
    "conv = Conv2D(filters = n_filter, kernel_size = k_size)\n",
    "\n",
    "Y = conv(images)\n",
    "\n",
    "W, B = conv.get_weights()\n",
    "\n",
    "print(\"Input Image: {}\".format(images.shape))    \n",
    "print(\"W/B: {} / {}\".format(W.shape, B.shape))\n",
    "print(\"Output Image: {}\".format(Y.shape))\n",
    "\n",
    "# W/B: (3, 3, 3, 5) / (5,)  filter 높이, filter 넓이, filter channel, filter number"
   ]
  },
  {
   "attachments": {},
   "cell_type": "markdown",
   "metadata": {},
   "source": [
    "### Code.5-2-2: Computations with Filters"
   ]
  },
  {
   "cell_type": "code",
   "execution_count": 20,
   "metadata": {},
   "outputs": [
    {
     "name": "stdout",
     "output_type": "stream",
     "text": [
      "[[[-0.21673033 -0.1711257  -0.9745084 ]\n",
      "  [-0.2369171  -0.20497946 -0.12059712]]\n",
      "\n",
      " [[-0.01200436 -0.2204327  -0.7035195 ]\n",
      "  [-0.08853148 -0.32026818 -0.59839356]]] \n",
      "\n",
      "\n",
      "Y(Tensorflow): \n",
      " [[[-0.21673033 -0.2369171 ]\n",
      "  [-0.01200436 -0.08853148]]\n",
      "\n",
      " [[-0.1711257  -0.20497946]\n",
      "  [-0.2204327  -0.32026818]]\n",
      "\n",
      " [[-0.9745084  -0.12059712]\n",
      "  [-0.7035195  -0.59839356]]] (3, 2, 2)\n",
      "\n",
      " Y(Manual): \n",
      " [[[-0.21673036 -0.23691714]\n",
      "  [-0.01200438 -0.08853132]]\n",
      "\n",
      " [[-0.17112568 -0.20497946]\n",
      "  [-0.22043265 -0.32026821]]\n",
      "\n",
      " [[-0.97450829 -0.1205971 ]\n",
      "  [-0.70351934 -0.59839362]]]\n"
     ]
    }
   ],
   "source": [
    "import numpy as np\n",
    "import tensorflow as tf\n",
    "from tensorflow.keras.layers import Conv2D\n",
    "\n",
    "N, n_H, n_W, n_C = 1, 5, 5, 3\n",
    "\n",
    "n_filter = 3\n",
    "k_size = 4\n",
    "\n",
    "images = tf.random.uniform(minval = 0, maxval = 1,\n",
    "                           shape = ((N, n_H, n_W, n_C)))\n",
    "\n",
    "# Forward Propagation (Tensorflow)\n",
    "conv = Conv2D(filters = n_filter, kernel_size = k_size)\n",
    "Y = conv(images)\n",
    "\n",
    "print(Y.numpy().squeeze(), \"\\n\\n\")\n",
    "# print(Y.shape)\n",
    "#      1번 filter   2번 filter  3번 filter\n",
    "# [[[-0.92890024 -0.16372378 -0.5843524 ]\n",
    "#   [-0.21948192  0.22116992 -1.2751502 ]]\n",
    "\n",
    "#  [[-0.99914974 -0.04246708 -1.1287332 ]\n",
    "#   [-0.7139644  -0.41169074 -0.72633725]]] \n",
    "\n",
    "\n",
    "# 값이 1인 차원 제거 (1, 2, 2, 3) -> (2, 2, 3) -> (3, 2, 2)\n",
    "Y = np.transpose(Y.numpy().squeeze(), (2, 0, 1))\n",
    "print(\"Y(Tensorflow): \\n\", Y, Y.shape)\n",
    "\n",
    "# [[[-0.92890024 -0.21948192]       1번 filter\n",
    "#   [-0.99914974 -0.7139644 ]]\n",
    "\n",
    "#  [[-0.16372378  0.22116992]       2번 filter\n",
    "#   [-0.04246708 -0.41169074]]\n",
    "\n",
    "#  [[-0.5843524  -1.2751502 ]       3번 filter\n",
    "#   [-1.1287332  -0.72633725]]]\n",
    "\n",
    "W, B = conv.get_weights()\n",
    "\n",
    "\n",
    "\n",
    "# Forward Propagation(Manual)\n",
    "images = images.numpy().squeeze()\n",
    "\n",
    "Y_man = np.zeros(shape = (n_H - k_size + 1, n_W - k_size + 1, n_filter))\n",
    "\n",
    "for c in range(n_filter):\n",
    "   c_W = W[:, :, :, c]  # c번째 필터 데이터 가져오기\n",
    "   c_b = B[c]           # c번째 Bias 값 가져오기\n",
    "   \n",
    "   for h in range(n_H - k_size + 1):\n",
    "      for w in range(n_W - k_size + 1):\n",
    "         window = images[h: h + k_size, w: w + k_size :]\n",
    "         conv = np.sum(window * c_W) + c_b\n",
    "         \n",
    "         Y_man[h, w, c] = conv\n",
    "print(\"\\n Y(Manual): \\n\", np.transpose(Y_man, (2, 0, 1)))\n",
    "\n"
   ]
  },
  {
   "attachments": {},
   "cell_type": "markdown",
   "metadata": {},
   "source": [
    "### np.Transpose"
   ]
  },
  {
   "cell_type": "code",
   "execution_count": 24,
   "metadata": {},
   "outputs": [
    {
     "name": "stdout",
     "output_type": "stream",
     "text": [
      "[[1 3 7]\n",
      " [9 5 0]]\n",
      "[[3 6 8]\n",
      " [6 9 0]]\n",
      "[[3 2 2]\n",
      " [7 9 0]]\n",
      "[[1 3 2]\n",
      " [0 4 1]]\n",
      "\n",
      "\n",
      " (4, 2, 3)\n",
      "[[1 3 7]\n",
      " [9 5 0]]\n",
      "[[3 6 8]\n",
      " [6 9 0]]\n",
      "[[3 2 2]\n",
      " [7 9 0]]\n",
      "[[1 3 2]\n",
      " [0 4 1]]\n"
     ]
    }
   ],
   "source": [
    "import numpy as np\n",
    "\n",
    "images = np.random.randint(low = 0, high = 10, size = (2, 3, 4))\n",
    "                                                    #  0, 1, 2 번째 차원\n",
    "for c in range(4):\n",
    "    print(images[:, :, c])\n",
    "                            # 2번째 차원을 0번째 차원으로 변환\n",
    "images = np.transpose(images, (2, 0, 1))\n",
    "                                # 0번째 차원을 1번째로 변환\n",
    "                                     # 1번째 차원을 2번째로 변환\n",
    "                                     \n",
    "print('\\n\\n', images.shape)\n",
    "\n",
    "for c in range(4):\n",
    "    print(images[c, :, :])"
   ]
  },
  {
   "attachments": {},
   "cell_type": "markdown",
   "metadata": {},
   "source": [
    "# 5-3: Conv Layers with Activation Functions"
   ]
  },
  {
   "cell_type": "code",
   "execution_count": 34,
   "metadata": {},
   "outputs": [
    {
     "name": "stdout",
     "output_type": "stream",
     "text": [
      "(3, 2, 2)\n",
      "Y(Tensorflow): \n",
      " [[[0.5713987  0.4382515 ]\n",
      "  [0.6265547  0.5739384 ]]\n",
      "\n",
      " [[0.53470564 0.424392  ]\n",
      "  [0.45841697 0.51780957]]\n",
      "\n",
      " [[0.3835066  0.47062007]\n",
      "  [0.41262174 0.4268586 ]]]\n",
      "(5, 5, 3)\n",
      "\n",
      "Y(Manual): \n",
      " [[[0.57139862 0.43825151]\n",
      "  [0.62655476 0.57393845]]\n",
      "\n",
      " [[0.53470565 0.42439197]\n",
      "  [0.45841698 0.51780957]]\n",
      "\n",
      " [[0.38350657 0.47062005]\n",
      "  [0.41262169 0.42685857]]]\n"
     ]
    }
   ],
   "source": [
    "import numpy as np\n",
    "import tensorflow as tf\n",
    "from tensorflow.keras.layers import Conv2D\n",
    "\n",
    "N, n_H, n_W, n_C = 1, 5, 5, 3\n",
    "n_filter = 3\n",
    "k_size = 4\n",
    "\n",
    "images = tf.random.uniform(minval = 0, maxval = 1,\n",
    "                           shape = ((N, n_H, n_W, n_C)))\n",
    "\n",
    "# Forward Propagation(Tensorflow)\n",
    "conv = Conv2D(filters = n_filter, kernel_size = k_size, activation = 'sigmoid')\n",
    "Y = conv(images)\n",
    "Y = np.transpose(Y.numpy().squeeze(), (2, 0, 1))\n",
    "print(Y.shape)\n",
    "print(\"Y(Tensorflow): \\n\", Y)\n",
    "W, B = conv.get_weights()\n",
    "\n",
    "# Forward Propagation(Manual)\n",
    "images = images.numpy().squeeze()\n",
    "print(images.shape)\n",
    "Y_man = np.zeros(shape = (n_H - k_size + 1, n_W - k_size + 1, n_filter)) # 2, 2, 3\n",
    "\n",
    "for c in range(n_filter):\n",
    "    c_W = W[:, :, :, c ]  # filter 높이, filter 넓이, filter channel, filter 갯수\n",
    "    c_b = B[c]\n",
    "    \n",
    "    for h in range(n_H - k_size + 1):\n",
    "        for w in range(n_W - k_size + 1):\n",
    "            window = images[h:h + k_size, w:w+k_size, :]\n",
    "            conv = np.sum(window * c_W) + c_b\n",
    "            conv = 1 / (1 + np.exp(-conv))\n",
    "\n",
    "            Y_man[h, w, c] = conv\n",
    "print(\"\\nY(Manual): \\n\", np.transpose(Y_man, (2, 0, 1)))\n",
    "    \n",
    "\n",
    "\n",
    "\n",
    "\n"
   ]
  },
  {
   "attachments": {},
   "cell_type": "markdown",
   "metadata": {},
   "source": [
    "# 5-4: Models with Conv Layers"
   ]
  },
  {
   "attachments": {},
   "cell_type": "markdown",
   "metadata": {},
   "source": [
    "### Code.5-4-1: Models"
   ]
  },
  {
   "cell_type": "code",
   "execution_count": 3,
   "metadata": {},
   "outputs": [
    {
     "name": "stdout",
     "output_type": "stream",
     "text": [
      "Input: (32, 28, 28, 3)\n",
      "Output: (32, 22, 22, 30)\n",
      "Weights: (3, 3, 3, 10), Biases: (10,)\n",
      "Weights: (3, 3, 10, 20), Biases: (20,)\n",
      "Weights: (3, 3, 20, 30), Biases: (30,)\n",
      "=============================\n",
      "Shape: (3, 3, 3, 10)\n",
      "Shape: (10,)\n",
      "Shape: (3, 3, 10, 20)\n",
      "Shape: (20,)\n",
      "Shape: (3, 3, 20, 30)\n",
      "Shape: (30,)\n"
     ]
    }
   ],
   "source": [
    "import tensorflow as tf\n",
    "from tensorflow.keras.models import Sequential\n",
    "from tensorflow.keras.layers import Conv2D\n",
    "\n",
    "n_neurons = [10, 20, 30] # filter 갯수\n",
    "\n",
    "model = Sequential()\n",
    "model.add(Conv2D(filters = n_neurons[0], kernel_size = 3, activation = 'relu'))\n",
    "model.add(Conv2D(filters = n_neurons[1], kernel_size = 3, activation = 'relu'))\n",
    "model.add(Conv2D(filters = n_neurons[2], kernel_size = 3, activation = 'relu'))\n",
    "\n",
    "x = tf.random.normal(shape = (32, 28, 28, 3))\n",
    "predictions = model(x)\n",
    "\n",
    "print(\"Input: {}\".format(x.shape))\n",
    "print(\"Output: {}\".format(predictions.shape))\n",
    "\n",
    "for layer in model.layers:\n",
    "    W, B = layer.get_weights()\n",
    "    print(\"Weights: {}, Biases: {}\".format(W.shape, B.shape))\n",
    "    \n",
    "print(\"=============================\")\n",
    "trainable_variables = model.trainable_variables\n",
    "\n",
    "for train_var in trainable_variables:\n",
    "    print(\"Shape: {}\".format(train_var.shape) )"
   ]
  },
  {
   "attachments": {},
   "cell_type": "markdown",
   "metadata": {},
   "source": [
    "### Code.5-4-2: Models with Model sub-classing"
   ]
  },
  {
   "cell_type": "code",
   "execution_count": 5,
   "metadata": {},
   "outputs": [
    {
     "name": "stdout",
     "output_type": "stream",
     "text": [
      "Input  (32, 28, 28, 3)\n",
      "\n",
      "===== Conv Layers =====\n",
      "\n",
      "W/B: (3, 3, 3, 10)/(10,)\n",
      "X: (32, 26, 26, 10)\n",
      "\n",
      "W/B: (3, 3, 10, 20)/(20,)\n",
      "X: (32, 24, 24, 20)\n",
      "\n",
      "W/B: (3, 3, 20, 30)/(30,)\n",
      "X: (32, 22, 22, 30)\n",
      "\n",
      "Input: (32, 28, 28, 3)\n",
      "Output: (32, 22, 22, 30)\n",
      "Weights: (3, 3, 3, 10), Biases: (10,)\n",
      "Weights: (3, 3, 10, 20), Biases: (20,)\n",
      "Weights: (3, 3, 20, 30), Biases: (30,)\n",
      "=========================\n",
      "Shape: (3, 3, 3, 10)\n",
      "Shape: (10,)\n",
      "Shape: (3, 3, 10, 20)\n",
      "Shape: (20,)\n",
      "Shape: (3, 3, 20, 30)\n",
      "Shape: (30,)\n"
     ]
    }
   ],
   "source": [
    "import tensorflow as tf\n",
    "from tensorflow.keras.models import Model\n",
    "from tensorflow.keras.layers import Conv2D\n",
    "\n",
    "n_neurons = [10, 20, 30]\n",
    "\n",
    "class TestModel(Model):\n",
    "    def __init__(self):\n",
    "        super(TestModel, self).__init__()\n",
    "        global n_neurons\n",
    "        \n",
    "        self.conv_layers = []\n",
    "        for n_neurons in n_neurons:\n",
    "            self.conv_layers.append(Conv2D(filters = n_neurons, kernel_size = 3, activation = 'relu'))\n",
    "            \n",
    "    def __call__(self, x):\n",
    "        print(\"Input \", x.shape)\n",
    "        \n",
    "        print(\"\\n===== Conv Layers =====\\n\")\n",
    "        \n",
    "        for conv_layer in self.conv_layers:\n",
    "            x = conv_layer(x)\n",
    "            W, B = conv_layer.get_weights()\n",
    "            print(\"W/B: {}/{}\".format(W.shape, B.shape))\n",
    "            print(\"X: {}\\n\".format(x.shape))\n",
    "            \n",
    "        return x\n",
    "    \n",
    "model = TestModel()\n",
    "x = tf.random.normal(shape = (32, 28, 28, 3))\n",
    "predictions =  model(x)\n",
    "\n",
    "print(\"Input: {}\".format(x.shape))\n",
    "print(\"Output: {}\".format(predictions.shape))\n",
    "\n",
    "for layer in model.layers:\n",
    "    W, B = layer.get_weights()\n",
    "    print(\"Weights: {}, Biases: {}\".format(W.shape, B.shape))\n",
    "    \n",
    "print(\"=========================\")\n",
    "trainable_variables = model.trainable_variables\n",
    "for train_var in trainable_variables:\n",
    "    print(\"Shape: {}\".format(train_var.shape))\n",
    "    "
   ]
  },
  {
   "cell_type": "code",
   "execution_count": 6,
   "metadata": {},
   "outputs": [],
   "source": [
    "import tensorflow as tf\n",
    "from tensorflow.keras.layers import Conv2D\n",
    "from tensorflow.keras.models import Model\n",
    "\n",
    "n_neurons = [10, 20, 30]\n",
    "\n",
    "class TestModel(Model):\n",
    "    def __init__(self):\n",
    "        super(TestModel, self).__init__()\n",
    "        global n_neurons\n",
    "        \n",
    "        self.conv1 = Conv2D(filters = n_neurons[0], kernel_size = 3, activation = 'relu')\n",
    "        self.conv2 = Conv2D(filters = n_neurons[1], kernel_size = 3, activation = 'relu')\n",
    "        self.conv3 = Conv2D(filters = n_neurons[2], kernel_size = 3, activation = 'relu')\n",
    "        \n",
    "        \n",
    "    def __call__(self, x):\n",
    "        x = self.conv1(x)\n",
    "        x = self.conv2(x)\n",
    "        x = self.conv3(x)\n",
    "        \n",
    "        return x"
   ]
  },
  {
   "cell_type": "code",
   "execution_count": null,
   "metadata": {},
   "outputs": [],
   "source": []
  }
 ],
 "metadata": {
  "kernelspec": {
   "display_name": "DL",
   "language": "python",
   "name": "python3"
  },
  "language_info": {
   "codemirror_mode": {
    "name": "ipython",
    "version": 3
   },
   "file_extension": ".py",
   "mimetype": "text/x-python",
   "name": "python",
   "nbconvert_exporter": "python",
   "pygments_lexer": "ipython3",
   "version": "3.10.6"
  },
  "orig_nbformat": 4
 },
 "nbformat": 4,
 "nbformat_minor": 2
}
