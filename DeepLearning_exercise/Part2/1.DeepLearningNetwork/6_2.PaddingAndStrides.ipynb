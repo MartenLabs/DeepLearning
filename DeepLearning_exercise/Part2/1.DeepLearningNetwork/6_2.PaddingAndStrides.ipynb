{
 "cells": [
  {
   "attachments": {},
   "cell_type": "markdown",
   "metadata": {},
   "source": [
    "# 6-3: 3D Max/Avg Pooling"
   ]
  },
  {
   "attachments": {},
   "cell_type": "markdown",
   "metadata": {},
   "source": [
    "### Code.6-3-1: 3D Max Pooling"
   ]
  },
  {
   "cell_type": "code",
   "execution_count": 4,
   "metadata": {},
   "outputs": [
    {
     "name": "stdout",
     "output_type": "stream",
     "text": [
      "pooled_max(Tensorflow: (1, 2, 2, 3)\n",
      "[[[0.86918795 0.9706112 ]\n",
      "  [0.842157   0.60545963]]\n",
      "\n",
      " [[1.0019135  1.5658046 ]\n",
      "  [0.28291693 0.37944326]]\n",
      "\n",
      " [[1.0278524  1.8451811 ]\n",
      "  [1.2132235  0.80458266]]])\n",
      "Pooled_max(Manual): (2, 2, 3)\n",
      "[[[0.86918795 0.97061121]\n",
      "  [0.84215701 0.60545963]]\n",
      "\n",
      " [[1.00191355 1.5658046 ]\n",
      "  [0.28291693 0.37944326]]\n",
      "\n",
      " [[1.02785242 1.84518111]\n",
      "  [1.21322346 0.80458266]]]\n"
     ]
    }
   ],
   "source": [
    "import math\n",
    "import numpy as np\n",
    "import tensorflow as tf\n",
    "from tensorflow.keras.layers import MaxPooling2D\n",
    "\n",
    "N, n_H, n_W, n_C = 1, 5, 5, 3\n",
    "f, s = 2, 2\n",
    "\n",
    "x = tf.random.normal(shape = (N, n_H, n_W, n_C))\n",
    "# print(\"x: {}\\n{}\".format(x.shape, np.transpose(x.numpy().squeeze(), (2, 0, 1))))\n",
    "\n",
    "pool_max = MaxPooling2D(pool_size = f, strides = s)\n",
    "pooled_max = pool_max(x)\n",
    "\n",
    "pooled_max_t = np.transpose(pooled_max.numpy().squeeze(), (2, 0, 1))\n",
    "print(\"pooled_max(Tensorflow: {}\\n{})\".format(pooled_max.shape,\n",
    "                                              pooled_max_t))\n",
    "\n",
    "# [[[0.86918795 0.9706112 ]     R\n",
    "#   [0.842157   0.60545963]]\n",
    "\n",
    "#  [[1.0019135  1.5658046 ]     G \n",
    "#   [0.28291693 0.37944326]]\n",
    "\n",
    "#  [[1.0278524  1.8451811 ]     B\n",
    "#   [1.2132235  0.80458266]]])\n",
    "\n",
    "#### \n",
    "x = x.numpy().squeeze()\n",
    "n_H_ = math.floor((n_H - f) / s + 1)    # floor 함수는 실수를 입력하면내림하여 정수를 반환하는 함수\n",
    "n_W_ = math.floor((n_W - f) / s + 1)\n",
    "pooled_max_man = np.zeros(shape = (n_H_, n_W_, n_C))\n",
    "\n",
    "for c in range(n_C):\n",
    "    c_image = x[:, :, c]\n",
    "\n",
    "    h_ = 0\n",
    "    for h in range(0, n_H - f + 1, s):\n",
    "        w_ = 0\n",
    "        for w in range(0, n_W - f + 1, s):\n",
    "            window = c_image[h:h+f, w:w+f]\n",
    "            pooled_max_man[h_, w_, c] = np.max(window)\n",
    "\n",
    "            w_ += 1\n",
    "        h_ += 1\n",
    "\n",
    "pooled_max_t = np.transpose(pooled_max_man, (2, 0, 1))\n",
    "print(\"Pooled_max(Manual): {}\\n{}\".format(pooled_max_man.shape,\n",
    "                                          pooled_max_t))\n",
    "\n",
    "\n",
    "\n",
    "\n"
   ]
  },
  {
   "attachments": {},
   "cell_type": "markdown",
   "metadata": {},
   "source": [
    "# 6-4: Padding"
   ]
  },
  {
   "attachments": {},
   "cell_type": "markdown",
   "metadata": {},
   "source": [
    "### Code.6-4-1: ZeroPadding2D Layer"
   ]
  },
  {
   "cell_type": "code",
   "execution_count": 6,
   "metadata": {},
   "outputs": [
    {
     "name": "stdout",
     "output_type": "stream",
     "text": [
      "(1, 3, 3, 3)\n",
      "[[[-1.3544159   0.86918795 -0.07710292]\n",
      "  [-0.2744975  -0.4364091  -1.056841  ]\n",
      "  [ 0.06987705  0.2797411   0.9706112 ]]\n",
      "\n",
      " [[ 0.7045493   0.43842277  1.5658046 ]\n",
      "  [ 1.420466   -1.963399    1.0019135 ]\n",
      "  [-1.4077919  -0.01347954 -1.0242516 ]]\n",
      "\n",
      " [[ 0.03666191 -0.53439844 -0.1012345 ]\n",
      "  [ 1.2609465  -0.06452482  0.6735137 ]\n",
      "  [ 1.0278524   1.8451811  -0.6544423 ]]]\n",
      "(1, 5, 5, 3)\n",
      "[[[ 0.          0.          0.          0.          0.        ]\n",
      "  [ 0.         -1.3544159   0.86918795 -0.07710292  0.        ]\n",
      "  [ 0.         -0.2744975  -0.4364091  -1.056841    0.        ]\n",
      "  [ 0.          0.06987705  0.2797411   0.9706112   0.        ]\n",
      "  [ 0.          0.          0.          0.          0.        ]]\n",
      "\n",
      " [[ 0.          0.          0.          0.          0.        ]\n",
      "  [ 0.          0.7045493   0.43842277  1.5658046   0.        ]\n",
      "  [ 0.          1.420466   -1.963399    1.0019135   0.        ]\n",
      "  [ 0.         -1.4077919  -0.01347954 -1.0242516   0.        ]\n",
      "  [ 0.          0.          0.          0.          0.        ]]\n",
      "\n",
      " [[ 0.          0.          0.          0.          0.        ]\n",
      "  [ 0.          0.03666191 -0.53439844 -0.1012345   0.        ]\n",
      "  [ 0.          1.2609465  -0.06452482  0.6735137   0.        ]\n",
      "  [ 0.          1.0278524   1.8451811  -0.6544423   0.        ]\n",
      "  [ 0.          0.          0.          0.          0.        ]]]\n"
     ]
    }
   ],
   "source": [
    "import numpy as np\n",
    "import tensorflow as tf\n",
    "from tensorflow.keras.layers import ZeroPadding2D\n",
    "\n",
    "images = tf.random.normal(shape = (1, 3, 3, 3))\n",
    "print(images.shape)\n",
    "print(np.transpose(images.numpy().squeeze(), (2, 0, 1)))\n",
    "\n",
    "# [[[-1.3544159   0.86918795 -0.07710292]       R\n",
    "#   [-0.2744975  -0.4364091  -1.056841  ]\n",
    "#   [ 0.06987705  0.2797411   0.9706112 ]]\n",
    "\n",
    "#  [[ 0.7045493   0.43842277  1.5658046 ]       G\n",
    "#   [ 1.420466   -1.963399    1.0019135 ]\n",
    "#   [-1.4077919  -0.01347954 -1.0242516 ]]\n",
    "\n",
    "#  [[ 0.03666191 -0.53439844 -0.1012345 ]       B\n",
    "#   [ 1.2609465  -0.06452482  0.6735137 ]\n",
    "#   [ 1.0278524   1.8451811  -0.6544423 ]]]\n",
    "\n",
    "\n",
    "\n",
    "\n",
    "zero_padding = ZeroPadding2D(padding = 1)\n",
    "y = zero_padding(images)\n",
    "print(y.shape)\n",
    "print(np.transpose(y.numpy().squeeze(), (2, 0 ,1)))\n",
    "\n",
    "# [[[ 0.          0.          0.          0.          0.        ]       \n",
    "#   [ 0.         -1.3544159   0.86918795 -0.07710292  0.        ]       R\n",
    "#   [ 0.         -0.2744975  -0.4364091  -1.056841    0.        ]\n",
    "#   [ 0.          0.06987705  0.2797411   0.9706112   0.        ]\n",
    "#   [ 0.          0.          0.          0.          0.        ]]\n",
    "\n",
    "#  [[ 0.          0.          0.          0.          0.        ]\n",
    "#   [ 0.          0.7045493   0.43842277  1.5658046   0.        ]       G\n",
    "#   [ 0.          1.420466   -1.963399    1.0019135   0.        ]\n",
    "#   [ 0.         -1.4077919  -0.01347954 -1.0242516   0.        ]\n",
    "#   [ 0.          0.          0.          0.          0.        ]]\n",
    "\n",
    "#  [[ 0.          0.          0.          0.          0.        ]\n",
    "#   [ 0.          0.03666191 -0.53439844 -0.1012345   0.        ]       B\n",
    "#   [ 0.          1.2609465  -0.06452482  0.6735137   0.        ]\n",
    "#   [ 0.          1.0278524   1.8451811  -0.6544423   0.        ]\n",
    "#   [ 0.          0.          0.          0.          0.        ]]]"
   ]
  },
  {
   "attachments": {},
   "cell_type": "markdown",
   "metadata": {},
   "source": [
    "### Code.6-4-2: Zero Padding with Conv2D Layers"
   ]
  },
  {
   "cell_type": "code",
   "execution_count": 7,
   "metadata": {},
   "outputs": [
    {
     "name": "stdout",
     "output_type": "stream",
     "text": [
      "(1, 28, 28, 1)\n"
     ]
    }
   ],
   "source": [
    "import tensorflow as tf\n",
    "from tensorflow.keras.layers import Conv2D\n",
    "\n",
    "images = tf.random.normal(shape = (1, 28, 28, 3))\n",
    "\n",
    "# conv layer 에서는 same 또는 valid padding 을 주로 사용 \n",
    "# same padding 은 윈도우가 움직일 때 코너 케이스를 계산해줘서 사이즈가 줄어들지 않도록 패딩을 자동으로 해준다.\n",
    "conv = Conv2D(filters = 1, kernel_size = 3, padding = 'same') \n",
    "y = conv(images)\n",
    "print(y.shape) "
   ]
  },
  {
   "attachments": {},
   "cell_type": "markdown",
   "metadata": {},
   "source": [
    "# 6-5: Strides"
   ]
  },
  {
   "attachments": {},
   "cell_type": "markdown",
   "metadata": {},
   "source": [
    "### Code.6-5-1: Strides in Conv2D Layers"
   ]
  },
  {
   "cell_type": "code",
   "execution_count": 8,
   "metadata": {},
   "outputs": [
    {
     "name": "stdout",
     "output_type": "stream",
     "text": [
      "(1, 28, 28, 3)\n",
      "(1, 13, 13, 1)\n"
     ]
    }
   ],
   "source": [
    "import tensorflow as tf\n",
    "from tensorflow.keras.layers import Conv2D\n",
    "\n",
    "images = tf.random.normal(shape = (1, 28, 28, 3))\n",
    "conv = Conv2D(filters = 1, kernel_size = 3, padding = 'valid', strides = 2)\n",
    "y = conv(images)\n",
    "\n",
    "print(images.shape)\n",
    "print(y.shape)"
   ]
  },
  {
   "attachments": {},
   "cell_type": "markdown",
   "metadata": {},
   "source": [
    "### Code.6-5-2: Strides in Pooling Layers"
   ]
  },
  {
   "cell_type": "code",
   "execution_count": 9,
   "metadata": {},
   "outputs": [
    {
     "name": "stdout",
     "output_type": "stream",
     "text": [
      "(1, 28, 28, 3)\n",
      "(1, 13, 13, 3)\n"
     ]
    }
   ],
   "source": [
    "import tensorflow as tf\n",
    "from tensorflow.keras.layers import MaxPooling2D\n",
    "\n",
    "images = tf.random.normal(shape = (1, 28, 28, 3))\n",
    "conv = MaxPooling2D(pool_size = 3, strides = 2)\n",
    "y = conv(images)\n",
    "\n",
    "print(images.shape)\n",
    "print(y.shape)"
   ]
  },
  {
   "cell_type": "code",
   "execution_count": null,
   "metadata": {},
   "outputs": [],
   "source": []
  }
 ],
 "metadata": {
  "kernelspec": {
   "display_name": "DL",
   "language": "python",
   "name": "python3"
  },
  "language_info": {
   "codemirror_mode": {
    "name": "ipython",
    "version": 3
   },
   "file_extension": ".py",
   "mimetype": "text/x-python",
   "name": "python",
   "nbconvert_exporter": "python",
   "pygments_lexer": "ipython3",
   "version": "3.10.6"
  },
  "orig_nbformat": 4
 },
 "nbformat": 4,
 "nbformat_minor": 2
}
