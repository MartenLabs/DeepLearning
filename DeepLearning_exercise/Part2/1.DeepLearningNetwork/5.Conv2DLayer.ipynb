{
 "cells": [
  {
   "attachments": {},
   "cell_type": "markdown",
   "metadata": {},
   "source": [
    "# 5-1: Conv Layers"
   ]
  },
  {
   "attachments": {},
   "cell_type": "markdown",
   "metadata": {},
   "source": [
    "### Code.5-1-1: Shapes of Conv Layers"
   ]
  },
  {
   "cell_type": "code",
   "execution_count": 2,
   "metadata": {},
   "outputs": [
    {
     "name": "stdout",
     "output_type": "stream",
     "text": [
      "(1, 28, 28, 3)\n",
      "(3, 3, 3, 10)\n",
      "(10,)\n",
      "(1, 26, 26, 10)\n"
     ]
    }
   ],
   "source": [
    "import tensorflow as tf \n",
    "from tensorflow.keras.layers import Conv2D\n",
    "\n",
    "N, n_H, n_W, n_C = 1, 28, 28, 3\n",
    "n_filter = 10    # filter number\n",
    "f_size = 3       # filter size \n",
    "\n",
    "images = tf.random.uniform(minval = 0, maxval=1, \n",
    "                           shape = ((N, n_H, n_W, n_C)))\n",
    "\n",
    "conv = Conv2D(filters = n_filter, kernel_size = f_size)\n",
    "\n",
    "y = conv(images)\n",
    "\n",
    "W, B = conv.get_weights()\n",
    "\n",
    "print(images.shape) # (1, 28, 28, 3)  image 갯수, image 높이, image 넓이, image channel\n",
    "print(W.shape)      # (3, 3, 3, 10)   filter 높이, filter 넓이, filter channel, filter number\n",
    "print(B.shape)      # (10,)           bias vector (filter number)\n",
    "\n",
    "# n_H - f_size + 1, n_W - f_size + 1\n",
    "print(y.shape)      # (1, 26, 26, 10) image 갯수, image 높이, image 넓이, filter number"
   ]
  },
  {
   "attachments": {},
   "cell_type": "markdown",
   "metadata": {},
   "source": [
    "### Code.5-1-2: Correlation Calculation"
   ]
  },
  {
   "cell_type": "code",
   "execution_count": 20,
   "metadata": {},
   "outputs": [
    {
     "name": "stdout",
     "output_type": "stream",
     "text": [
      "y(tensorflow):\n",
      " [[-0.21994977 -1.2494121  -1.2107842 ]\n",
      " [-1.3574984  -1.0456573  -0.7627469 ]\n",
      " [-0.36140314 -0.9816696  -0.9732243 ]]\n",
      "Y(manual):\n",
      " [[-0.21994974 -1.24941206 -1.21078432]\n",
      " [-1.35749829 -1.0456574  -0.76274681]\n",
      " [-0.36140314 -0.9816696  -0.97322422]]\n"
     ]
    }
   ],
   "source": [
    "import numpy as np\n",
    "import tensorflow as tf\n",
    "from tensorflow.keras.layers import Conv2D\n",
    "\n",
    "N, n_H, n_W, n_C = 1, 5, 5, 3\n",
    "n_filter = 1    # filter number\n",
    "f_size = 3       # filter size \n",
    "\n",
    "images = tf.random.uniform(minval = 0, maxval=1, \n",
    "                           shape = ((N, n_H, n_W, n_C)))\n",
    "\n",
    "conv = Conv2D(filters = n_filter, kernel_size = f_size)\n",
    "\n",
    "y_tf = conv(images)                             # squeeze\n",
    "print(\"y(tensorflow):\\n\", y_tf.numpy().squeeze()) # 이미지 갯수, 채널을 없애고 이미지 크기만을 출력\n",
    "W, B = conv.get_weights()\n",
    "\n",
    "images = images.numpy().squeeze()\n",
    "W = W.squeeze()\n",
    "# print(images.shape)\n",
    "# print(W.shape)\n",
    "# print(B.shape)\n",
    "\n",
    "y_man = np.zeros(shape = (n_H - f_size + 1, n_W - f_size + 1))\n",
    "for i in range(n_H - f_size + 1):\n",
    "    for j in range(n_W - f_size + 1):\n",
    "        window = images[i:i+f_size, j:j+f_size, :]\n",
    "        y_man[i, j] = np.sum(window * W) + B\n",
    "\n",
    "print(\"Y(manual):\\n\", y_man)\n"
   ]
  },
  {
   "attachments": {},
   "cell_type": "markdown",
   "metadata": {},
   "source": [
    "# Code.5-2: Conv Layer with Filters"
   ]
  },
  {
   "attachments": {},
   "cell_type": "markdown",
   "metadata": {},
   "source": [
    "### Code.5-2-1: Shapes with Filters"
   ]
  },
  {
   "cell_type": "code",
   "execution_count": 24,
   "metadata": {},
   "outputs": [
    {
     "name": "stdout",
     "output_type": "stream",
     "text": [
      "Input Image: (32, 28, 28, 3)\n",
      "W/B: (3, 3, 3, 5) / (5,)\n",
      "Output Image: (32, 26, 26, 5)\n"
     ]
    }
   ],
   "source": [
    "import tensorflow as tf\n",
    "from tensorflow.keras.layers import Conv2D\n",
    "\n",
    "N, n_H, n_W, n_C = 32, 28, 28, 3\n",
    "n_filter = 5\n",
    "k_size = 3      # kernel size\n",
    "\n",
    "images = tf.random.uniform(minval = 0, maxval = 1,\n",
    "                           shape = (N, n_H, n_W, n_C))\n",
    "\n",
    "conv = Conv2D(filters = n_filter, kernel_size = k_size)\n",
    "\n",
    "Y = conv(images)\n",
    "\n",
    "W, B = conv.get_weights()\n",
    "\n",
    "print(\"Input Image: {}\".format(images.shape))\n",
    "print(\"W/B: {} / {}\".format(W.shape, B.shape))\n",
    "print(\"Output Image: {}\".format(Y.shape))\n",
    "\n",
    "# Input Image: (32, 28, 28, 3)      image갯수, 이미지 높이, 이미지 넓이, 채널 수\n",
    "# W/B: (3, 3, 3, 5) / (5,)          filter 높이, filter 넓이, filter channel, filter number\n",
    "# Output Image: (32, 26, 26, 5)     image갯수, 이미지 높이, 이미지 넓이, filter number\n",
    "\n"
   ]
  },
  {
   "attachments": {},
   "cell_type": "markdown",
   "metadata": {},
   "source": [
    "### Code.5-2-2: Computations with Filters"
   ]
  },
  {
   "cell_type": "code",
   "execution_count": 59,
   "metadata": {},
   "outputs": [
    {
     "name": "stdout",
     "output_type": "stream",
     "text": [
      "Y(Tensorflow): \n",
      " [[[ 0.6156004   0.657022  ]\n",
      "  [ 0.70373636  0.81284726]]\n",
      "\n",
      " [[ 0.6973136  -0.00518596]\n",
      "  [ 0.29950017  0.83726317]]\n",
      "\n",
      " [[-1.2518162  -1.0487965 ]\n",
      "  [-1.0345153  -0.52161324]]]\n",
      "\n",
      "Y(Manual): \n",
      " [[[ 0.61560035  0.657022  ]\n",
      "  [ 0.70373631  0.8128469 ]]\n",
      "\n",
      " [[ 0.69731367 -0.00518593]\n",
      "  [ 0.2995002   0.83726323]]\n",
      "\n",
      " [[-1.25181627 -1.04879653]\n",
      "  [-1.03451526 -0.52161324]]]\n"
     ]
    }
   ],
   "source": [
    "import numpy as np\n",
    "import tensorflow as tf\n",
    "from tensorflow.keras.layers import Conv2D\n",
    "\n",
    "N, n_H, n_W, n_C = 1, 5, 5, 3\n",
    "n_filter = 3\n",
    "k_size = 4\n",
    "\n",
    "\n",
    "images = tf.random.uniform(minval = 0, maxval = 1,\n",
    "                           shape = (N, n_H, n_W, n_C))\n",
    "\n",
    "# Forward Propagation(Tensorflow)\n",
    "conv = Conv2D(filters = n_filter, kernel_size = k_size)\n",
    "Y = conv(images)\n",
    "# print(Y.numpy())\n",
    "# print(Y.shape) #(1, 2, 2, 3) 3 -> R, G, B\n",
    "#           R           G           B\n",
    "# [[[[-0.60188156  0.9526543  -0.46114743]\n",
    "#    [ 0.02425398  0.3703008   0.02022844]]\n",
    "\n",
    "#   [[ 0.00590422  0.5366116  -0.18528454]\n",
    "#    [-0.33464622  0.42195326 -0.5980505 ]]]]\n",
    "# 보기 쉽게 변환\n",
    "Y = np.transpose(Y.numpy().squeeze(), (2, 0, 1))\n",
    "print(\"Y(Tensorflow): \\n\", Y)\n",
    "#  [[[-0.60188156  0.02425398]      R\n",
    "#   [ 0.00590422 -0.33464622]]\n",
    "\n",
    "#  [[ 0.9526543   0.3703008 ]       G\n",
    "#   [ 0.5366116   0.42195326]]\n",
    "\n",
    "#  [[-0.46114743  0.02022844]       B\n",
    "#   [-0.18528454 -0.5980505 ]]]\n",
    "\n",
    "W, B = conv.get_weights()\n",
    "\n",
    "\n",
    "\n",
    "# Forward Propagation(Manual)\n",
    "images = images.numpy().squeeze()\n",
    "\n",
    "Y_man = np.zeros(shape=(n_H - k_size + 1, n_W - k_size + 1, n_filter))\n",
    "for c in range(n_filter):\n",
    "    c_W = W[:, :, :, c] # c번째 필터 데이터 가져오기\n",
    "    c_b = B[c]          # c번째 Bias 값 가져오기\n",
    "\n",
    "    for h in range(n_H - k_size + 1):\n",
    "        for w in range(n_W - k_size + 1):\n",
    "            window = images[h:h + k_size, w:w + k_size, :]\n",
    "            conv = np.sum(window * c_W) + c_b\n",
    "\n",
    "            Y_man[h, w, c] = conv\n",
    "print(\"\\nY(Manual): \\n\", np.transpose(Y_man, (2, 0, 1)))\n"
   ]
  },
  {
   "cell_type": "code",
   "execution_count": 42,
   "metadata": {},
   "outputs": [
    {
     "name": "stdout",
     "output_type": "stream",
     "text": [
      "[[4 0 1]\n",
      " [5 4 3]]\n",
      "[[2 1 8]\n",
      " [7 0 3]]\n",
      "[[5 9 4]\n",
      " [4 5 7]]\n",
      "[[7 2 9]\n",
      " [3 4 9]]\n",
      "\n",
      "\n",
      " (4, 2, 3)\n",
      "[[4 0 1]\n",
      " [5 4 3]]\n",
      "[[2 1 8]\n",
      " [7 0 3]]\n",
      "[[5 9 4]\n",
      " [4 5 7]]\n",
      "[[7 2 9]\n",
      " [3 4 9]]\n"
     ]
    }
   ],
   "source": [
    "import numpy as np\n",
    "\n",
    "images = np.random.randint(low = 0, high = 10, size = (2, 3 ,4))\n",
    "for c in range(4):                                   # 0  1  2  번째 차원     \n",
    "    print(images[:, :, c])\n",
    "                          # 2번째 차원을 0번쨰로 이동\n",
    "images = np.transpose(images, (2, 0, 1))\n",
    "                             # 0번째 차원을 1번쨰로 \n",
    "                                  # 1번쨰 차원을 2번쨰로\n",
    "\n",
    "print('\\n\\n',images.shape)\n",
    "\n",
    "for c in range(4):\n",
    "    print(images[c, :, :])"
   ]
  },
  {
   "attachments": {},
   "cell_type": "markdown",
   "metadata": {},
   "source": [
    "# 5-3: Conv Layers with Activation Functions"
   ]
  },
  {
   "cell_type": "code",
   "execution_count": 62,
   "metadata": {},
   "outputs": [
    {
     "name": "stdout",
     "output_type": "stream",
     "text": [
      "Y(Tensorflow): \n",
      " [[[0.38668457 0.5238226 ]\n",
      "  [0.38520205 0.38785785]]\n",
      "\n",
      " [[0.46648622 0.3810928 ]\n",
      "  [0.3796222  0.34227487]]\n",
      "\n",
      " [[0.36707437 0.5922849 ]\n",
      "  [0.55133057 0.33311564]]]\n",
      "\n",
      "Y(Manual): \n",
      " [[[0.3866846  0.5238226 ]\n",
      "  [0.38520195 0.38785786]]\n",
      "\n",
      " [[0.46648617 0.38109272]\n",
      "  [0.37962219 0.34227485]]\n",
      "\n",
      " [[0.3670744  0.5922849 ]\n",
      "  [0.5513305  0.33311567]]]\n"
     ]
    }
   ],
   "source": [
    "import numpy as np\n",
    "import tensorflow as tf\n",
    "from tensorflow.keras.layers import Conv2D\n",
    "\n",
    "N, n_H, n_W, n_C = 1, 5, 5, 3\n",
    "n_filter = 3\n",
    "k_size = 4\n",
    "\n",
    "\n",
    "images = tf.random.uniform(minval = 0, maxval = 1,\n",
    "                           shape = (N, n_H, n_W, n_C))\n",
    "\n",
    "# Forward Propagation(Tensorflow)\n",
    "conv = Conv2D(filters = n_filter, kernel_size = k_size, activation = 'sigmoid')\n",
    "Y = conv(images)\n",
    "Y = np.transpose(Y.numpy().squeeze(), (2, 0, 1))\n",
    "print(\"Y(Tensorflow): \\n\", Y)\n",
    "\n",
    "W, B = conv.get_weights()\n",
    "\n",
    "\n",
    "\n",
    "# Forward Propagation(Manual)\n",
    "images = images.numpy().squeeze()\n",
    "\n",
    "Y_man = np.zeros(shape=(n_H - k_size + 1, n_W - k_size + 1, n_filter))\n",
    "for c in range(n_filter):\n",
    "    c_W = W[:, :, :, c]\n",
    "    c_b = B[c]\n",
    "\n",
    "    for h in range(n_H - k_size + 1):\n",
    "        for w in range(n_W - k_size + 1):\n",
    "            window = images[h:h + k_size, w:w + k_size, :]\n",
    "            conv = np.sum(window * c_W) + c_b\n",
    "            conv = 1 / (1 + np.exp(-conv))\n",
    "\n",
    "            Y_man[h, w, c] = conv\n",
    "print(\"\\nY(Manual): \\n\", np.transpose(Y_man, (2, 0, 1)))\n"
   ]
  },
  {
   "attachments": {},
   "cell_type": "markdown",
   "metadata": {},
   "source": [
    "# 5-4: Models with Conv Layers"
   ]
  },
  {
   "attachments": {},
   "cell_type": "markdown",
   "metadata": {},
   "source": [
    "### Code.5-4-1: Models"
   ]
  },
  {
   "cell_type": "code",
   "execution_count": 68,
   "metadata": {},
   "outputs": [
    {
     "name": "stdout",
     "output_type": "stream",
     "text": [
      "Input: (32, 28, 28, 3)\n",
      "Output: (32, 22, 22, 30)\n",
      "Weights: (3, 3, 3, 10), Biases: (10,)\n",
      "Weights: (3, 3, 10, 20), Biases: (20,)\n",
      "Weights: (3, 3, 20, 30), Biases: (30,)\n",
      "============================\n",
      "Shape: (3, 3, 3, 10)\n",
      "Shape: (10,)\n",
      "Shape: (3, 3, 10, 20)\n",
      "Shape: (20,)\n",
      "Shape: (3, 3, 20, 30)\n",
      "Shape: (30,)\n"
     ]
    }
   ],
   "source": [
    "import tensorflow as tf\n",
    "from tensorflow.keras.models import Sequential\n",
    "from tensorflow.keras.layers import Conv2D\n",
    "            \n",
    "n_neurons = [10, 20, 30] # filter 갯수\n",
    "\n",
    "model = Sequential()\n",
    "model.add(Conv2D(filters=n_neurons[0], kernel_size=3, activation = 'relu'))\n",
    "model.add(Conv2D(filters=n_neurons[1], kernel_size=3, activation = 'relu'))\n",
    "model.add(Conv2D(filters=n_neurons[2], kernel_size=3, activation = 'relu'))\n",
    "\n",
    "x = tf.random.normal(shape = (32, 28, 28, 3))\n",
    "predictions = model(x)\n",
    "\n",
    "print(\"Input: {}\".format(x.shape))\n",
    "print(\"Output: {}\".format(predictions.shape))\n",
    "\n",
    "for layer in model.layers:\n",
    "    W, B = layer.get_weights()\n",
    "    print(\"Weights: {}, Biases: {}\".format(W.shape, B.shape))\n",
    "    \n",
    "print(\"============================\")\n",
    "trainable_variables = model.trainable_variables\n",
    "for train_var in trainable_variables:\n",
    "    print(\"Shape: {}\".format(train_var.shape))"
   ]
  },
  {
   "attachments": {},
   "cell_type": "markdown",
   "metadata": {},
   "source": [
    "### Code.5-4-2: Models with Model sub-classing"
   ]
  },
  {
   "cell_type": "code",
   "execution_count": 1,
   "metadata": {},
   "outputs": [
    {
     "name": "stdout",
     "output_type": "stream",
     "text": [
      "Metal device set to: Apple M1 Pro\n",
      "\n",
      "systemMemory: 32.00 GB\n",
      "maxCacheSize: 10.67 GB\n",
      "\n",
      "Input  (32, 28, 28, 3)\n",
      "\n",
      "===== Conv Layers =====\n",
      "\n",
      "W/B: (3, 3, 3, 10)/(10,)\n",
      "X: (32, 26, 26, 10)\n",
      "\n",
      "W/B: (3, 3, 10, 20)/(20,)\n",
      "X: (32, 24, 24, 20)\n",
      "\n",
      "W/B: (3, 3, 20, 30)/(30,)\n",
      "X: (32, 22, 22, 30)\n",
      "\n",
      "Input: (32, 28, 28, 3)\n",
      "Output: (32, 22, 22, 30)\n",
      "Weights: (3, 3, 3, 10), Biases: (10,)\n",
      "Weights: (3, 3, 10, 20), Biases: (20,)\n",
      "Weights: (3, 3, 20, 30), Biases: (30,)\n",
      "============================\n",
      "Shape: (3, 3, 3, 10)\n",
      "Shape: (10,)\n",
      "Shape: (3, 3, 10, 20)\n",
      "Shape: (20,)\n",
      "Shape: (3, 3, 20, 30)\n",
      "Shape: (30,)\n"
     ]
    }
   ],
   "source": [
    "import tensorflow as tf\n",
    "from tensorflow.keras.models import Model\n",
    "from tensorflow.keras.layers import Conv2D\n",
    "\n",
    "n_neurons = [10, 20, 30]\n",
    "\n",
    "class TestModel(Model):\n",
    "    def __init__(self):\n",
    "        super(TestModel, self).__init__()\n",
    "        global n_neurons\n",
    "\n",
    "        self.conv_layers = []\n",
    "        for n_neuron in n_neurons:\n",
    "            self.conv_layers.append(Conv2D(filters = n_neuron, kernel_size = 3, activation = 'relu'))\n",
    "\n",
    "    def __call__(self, x):\n",
    "        print(\"Input \", x.shape)\n",
    "\n",
    "        print(\"\\n===== Conv Layers =====\\n\")\n",
    "\n",
    "        for conv_layer in self.conv_layers:\n",
    "            x = conv_layer(x)\n",
    "            W, B = conv_layer.get_weights()\n",
    "            print(\"W/B: {}/{}\".format(W.shape, B.shape))\n",
    "            print(\"X: {}\\n\".format(x.shape))\n",
    "        return x\n",
    "    \n",
    "model = TestModel()\n",
    "x = tf.random.normal(shape = (32, 28, 28, 3))\n",
    "predictions = model(x)\n",
    "\n",
    "\n",
    "print(\"Input: {}\".format(x.shape))\n",
    "print(\"Output: {}\".format(predictions.shape))\n",
    "\n",
    "for layer in model.layers:\n",
    "    W, B = layer.get_weights()\n",
    "    print(\"Weights: {}, Biases: {}\".format(W.shape, B.shape))\n",
    "    \n",
    "print(\"============================\")\n",
    "trainable_variables = model.trainable_variables\n",
    "for train_var in trainable_variables:\n",
    "    print(\"Shape: {}\".format(train_var.shape))\n",
    "\n",
    "\n",
    "\n",
    "\n",
    "class TestModel(Model):\n",
    "    def __init__(self):\n",
    "        super(TestModel, self).__init__()\n",
    "        global n_neurons\n",
    "\n",
    "        self.conv1 = Conv2D(filters = n_neurons[0], kernel_size = 3, activation = 'relu')\n",
    "        self.conv2 = Conv2D(filters = n_neurons[1], kernel_size = 3, activation = 'relu')\n",
    "        self.conv3 = Conv2D(filters = n_neurons[2], kernel_size = 3, activation = 'relu')\n",
    "\n",
    "    def __call__(self, x):\n",
    "        x = self.conv1(x)\n",
    "        x = self.conv2(x)\n",
    "        x = self.conv3(x)\n",
    "\n",
    "        return x"
   ]
  },
  {
   "cell_type": "code",
   "execution_count": null,
   "metadata": {},
   "outputs": [],
   "source": []
  }
 ],
 "metadata": {
  "kernelspec": {
   "display_name": "DL",
   "language": "python",
   "name": "python3"
  },
  "language_info": {
   "codemirror_mode": {
    "name": "ipython",
    "version": 3
   },
   "file_extension": ".py",
   "mimetype": "text/x-python",
   "name": "python",
   "nbconvert_exporter": "python",
   "pygments_lexer": "ipython3",
   "version": "3.10.6"
  },
  "orig_nbformat": 4
 },
 "nbformat": 4,
 "nbformat_minor": 2
}
