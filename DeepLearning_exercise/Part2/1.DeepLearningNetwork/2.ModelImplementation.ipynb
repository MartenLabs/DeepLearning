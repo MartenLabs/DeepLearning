{
 "cells": [
  {
   "attachments": {},
   "cell_type": "markdown",
   "metadata": {},
   "source": [
    "\n",
    "# 2-3: Model Implementation\n"
   ]
  },
  {
   "attachments": {},
   "cell_type": "markdown",
   "metadata": {},
   "source": [
    "### Code.2-3-1: Model Implementation with Sequential Method"
   ]
  },
  {
   "cell_type": "code",
   "execution_count": 1,
   "metadata": {},
   "outputs": [
    {
     "name": "stdout",
     "output_type": "stream",
     "text": [
      "Metal device set to: Apple M1 Pro\n",
      "\n",
      "systemMemory: 32.00 GB\n",
      "maxCacheSize: 10.67 GB\n",
      "\n"
     ]
    },
    {
     "name": "stderr",
     "output_type": "stream",
     "text": [
      "2023-04-04 13:51:18.975392: I tensorflow/core/common_runtime/pluggable_device/pluggable_device_factory.cc:306] Could not identify NUMA node of platform GPU ID 0, defaulting to 0. Your kernel may not have been built with NUMA support.\n",
      "2023-04-04 13:51:18.975606: I tensorflow/core/common_runtime/pluggable_device/pluggable_device_factory.cc:272] Created TensorFlow device (/job:localhost/replica:0/task:0/device:GPU:0 with 0 MB memory) -> physical PluggableDevice (device: 0, name: METAL, pci bus id: <undefined>)\n"
     ]
    }
   ],
   "source": [
    "import tensorflow as tf\n",
    "from tensorflow.keras.layers import Dense\n",
    "from tensorflow.keras.models import Sequential\n",
    "\n",
    "# n_neurons = [3, 4, 5, 6]\n",
    "# model = Sequential()\n",
    "# for n_neuron in n_neurons:\n",
    "#     model.add(Dense(units=n_neuron, activation='sigmoid'))\n",
    "\n",
    "model = Sequential()\n",
    "model.add(Dense(units=10, activation='sigmoid'))\n",
    "model.add(Dense(units=20, activation='sigmoid'))"
   ]
  },
  {
   "attachments": {},
   "cell_type": "markdown",
   "metadata": {},
   "source": [
    "### Code.2-3-2: Model Implementation with Model-subclassing"
   ]
  },
  {
   "cell_type": "code",
   "execution_count": 3,
   "metadata": {},
   "outputs": [
    {
     "name": "stdout",
     "output_type": "stream",
     "text": [
      "<keras.layers.core.dense.Dense object at 0x1100a3c40>\n",
      "<keras.layers.core.dense.Dense object at 0x1100a30d0>\n"
     ]
    }
   ],
   "source": [
    "from tensorflow.keras.layers import Dense\n",
    "from tensorflow.keras.models import Model\n",
    "\n",
    "class TestModel(Model):\n",
    "    def __init__(self):\n",
    "        super(TestModel, self).__init__() # 상속받은 Model의 생성자 초기화\n",
    "        self.dense1 = Dense(units=10, activation='sigmoid')\n",
    "        self.dense2 = Dense(units=20, activation='sigmoid')\n",
    "\n",
    "\n",
    "model = TestModel()\n",
    "print(model.dense1)\n",
    "print(model.dense2)"
   ]
  },
  {
   "attachments": {},
   "cell_type": "markdown",
   "metadata": {},
   "source": [
    "### Code.2-3-3: Forward Propagation of Models"
   ]
  },
  {
   "cell_type": "code",
   "execution_count": 1,
   "metadata": {},
   "outputs": [
    {
     "name": "stdout",
     "output_type": "stream",
     "text": [
      "Metal device set to: Apple M1 Pro\n",
      "\n",
      "systemMemory: 32.00 GB\n",
      "maxCacheSize: 10.67 GB\n",
      "\n",
      "[[0.5664419  0.4263407  0.5756243  0.53627604 0.5452438  0.47550488\n",
      "  0.48503885 0.5420491  0.59437513 0.5015087  0.6017162  0.5798419\n",
      "  0.4236615  0.4442487  0.48432636 0.59376174 0.4862863  0.41513163\n",
      "  0.49703276 0.5562115 ]\n",
      " [0.56278163 0.44480067 0.6297969  0.37587768 0.5573632  0.47592208\n",
      "  0.51537    0.5801021  0.6230333  0.5473897  0.6157168  0.6236208\n",
      "  0.376106   0.49252507 0.48070213 0.5614386  0.43887198 0.31567544\n",
      "  0.45221782 0.5647742 ]\n",
      " [0.6036882  0.56259274 0.61316174 0.4698122  0.6575583  0.61008537\n",
      "  0.40437302 0.46671394 0.70114434 0.48271334 0.56290114 0.69118154\n",
      "  0.33301425 0.4678437  0.51426405 0.6897185  0.5274944  0.32196537\n",
      "  0.5481368  0.60375834]\n",
      " [0.60820925 0.47493458 0.6478523  0.52078414 0.6434757  0.5012235\n",
      "  0.4216247  0.49637684 0.63983834 0.51171345 0.58124316 0.64800984\n",
      "  0.3767568  0.4621231  0.50051606 0.60069364 0.4607615  0.3799443\n",
      "  0.4770853  0.5914927 ]]\n"
     ]
    }
   ],
   "source": [
    "import tensorflow as tf\n",
    "from tensorflow.keras.layers import Dense\n",
    "from tensorflow.keras.models import Sequential\n",
    "from tensorflow.keras.models import Model\n",
    "\n",
    "\n",
    "X = tf.random.normal(shape=(4, 10))\n",
    "\n",
    "# Sequential method\n",
    "model = Sequential()\n",
    "model.add(Dense(units=10, activation = 'sigmoid'))\n",
    "model.add(Dense(units=20, activation = 'sigmoid'))\n",
    "\n",
    "Y = model(X)\n",
    "print(Y.numpy())\n",
    "###########################################################################\n",
    "\n",
    "# Model-subclassing\n",
    "class TestModel(Model):\n",
    "    def __init__(self):\n",
    "        super(TestModel, self).__init__()\n",
    "\n",
    "        self.dense1 = Dense(units=10, activation='sigmoid')\n",
    "        self.dense2 = Dense(units=20, activation='sigmoid')\n",
    "\n",
    "    def __call__(self, x):\n",
    "        x = self.dense1(x)\n",
    "        x = self.dense2(x)\n",
    "        return x\n",
    "\n",
    "model = TestModel()\n",
    "Y = model(X)\n",
    "\n"
   ]
  },
  {
   "cell_type": "code",
   "execution_count": 5,
   "metadata": {},
   "outputs": [
    {
     "name": "stdout",
     "output_type": "stream",
     "text": [
      "tf.Tensor([[0.6380072  0.45434126 0.4861408  0.47083578 0.372931  ]], shape=(1, 5), dtype=float32)\n"
     ]
    }
   ],
   "source": [
    "class TestModel(Model):\n",
    "    def __init__(self, n_neurons):\n",
    "        super(TestModel, self).__init__()\n",
    "        \n",
    "        self.n_neurons = n_neurons\n",
    "        self.dense_layers = list()\n",
    "\n",
    "        for n_neuron in self.n_neurons:\n",
    "            self.dense_layers.append(Dense(units=n_neuron, activation='sigmoid'))\n",
    "        \n",
    "    def __call__(self, x):\n",
    "        for dense in self.dense_layers:\n",
    "            x = dense(x)\n",
    "        return x\n",
    "\n",
    "n_neurons = [3, 4, 5]\n",
    "model = TestModel(n_neurons)\n",
    "\n",
    "x = tf.random.normal(shape = (1, 10))\n",
    "y = model(x)\n",
    "print(y)\n"
   ]
  },
  {
   "attachments": {},
   "cell_type": "markdown",
   "metadata": {},
   "source": [
    "### Code.2-3-4: Layers in Models"
   ]
  },
  {
   "cell_type": "code",
   "execution_count": 6,
   "metadata": {},
   "outputs": [
    {
     "name": "stdout",
     "output_type": "stream",
     "text": [
      "<class 'list'>\n",
      "[<keras.layers.core.dense.Dense object at 0x1100efbe0>, <keras.layers.core.dense.Dense object at 0x1100efc70>]\n",
      "<keras.layers.core.dense.Dense object at 0x1100efbe0>\n",
      "(10, 10) (10,)\n",
      "(10, 20) (20,)\n",
      "<class 'list'>\n",
      "4\n",
      "(10, 10)\n",
      "(10,)\n",
      "(10, 20)\n",
      "(20,)\n"
     ]
    }
   ],
   "source": [
    "import tensorflow as tf \n",
    "from tensorflow.keras.layers import Dense\n",
    "from tensorflow.keras.models import Sequential\n",
    "\n",
    "X = tf.random.normal(shape=(4, 10))\n",
    "\n",
    "model = Sequential()\n",
    "model.add(Dense(units=10, activation = 'sigmoid'))\n",
    "model.add(Dense(units=20, activation = 'sigmoid')) \n",
    "\n",
    "Y = model(X)\n",
    "\n",
    "print(type(model.layers))\n",
    "print(model.layers)\n",
    "\n",
    "dense1 = model.layers[0]\n",
    "print(dense1)\n",
    "\n",
    "# for tmp in dir(dense1):\n",
    "    # print(tmp)\n",
    "\n",
    "for layer in model.layers:\n",
    "    w, b = layer.get_weights()\n",
    "    print(w.shape, b.shape)\n",
    "\n",
    "print(type(model.trainable_variables)) # Weight와 Bias 및 기타 학습 대상이 되는 var들이 들어있음\n",
    "print(len(model.trainable_variables))\n",
    "\n",
    "for train_var in model.trainable_variables:\n",
    "    print(train_var.shape)\n",
    "\n"
   ]
  },
  {
   "cell_type": "code",
   "execution_count": null,
   "metadata": {},
   "outputs": [],
   "source": []
  }
 ],
 "metadata": {
  "kernelspec": {
   "display_name": "DL",
   "language": "python",
   "name": "python3"
  },
  "language_info": {
   "codemirror_mode": {
    "name": "ipython",
    "version": 3
   },
   "file_extension": ".py",
   "mimetype": "text/x-python",
   "name": "python",
   "nbconvert_exporter": "python",
   "pygments_lexer": "ipython3",
   "version": "3.10.6"
  },
  "orig_nbformat": 4
 },
 "nbformat": 4,
 "nbformat_minor": 2
}
