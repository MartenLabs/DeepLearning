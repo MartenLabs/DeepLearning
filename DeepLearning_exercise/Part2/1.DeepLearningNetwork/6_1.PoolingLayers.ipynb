{
 "cells": [
  {
   "attachments": {},
   "cell_type": "markdown",
   "metadata": {},
   "source": [
    "# 6-1: Max/Avg Pooling"
   ]
  },
  {
   "attachments": {},
   "cell_type": "markdown",
   "metadata": {},
   "source": [
    "### Code.6-1-1: Max Pooling"
   ]
  },
  {
   "cell_type": "code",
   "execution_count": 9,
   "metadata": {},
   "outputs": [
    {
     "name": "stdout",
     "output_type": "stream",
     "text": [
      "x:(1, 10, 1)\n",
      "[-1.3544159   0.7045493   0.03666191  0.86918795  0.43842277 -0.53439844\n",
      " -0.07710292  1.5658046  -0.1012345  -0.2744975 ]\n",
      "pooled_max(Tensorflow): (1, 9, 1)\n",
      "[ 0.7045493   0.7045493   0.86918795  0.86918795  0.43842277 -0.07710292\n",
      "  1.5658046   1.5658046  -0.1012345 ]\n",
      "pooled_max(Manual): (1, 9, 1)\n",
      "[ 0.70454931  0.70454931  0.86918795  0.86918795  0.43842277 -0.07710292\n",
      "  1.5658046   1.5658046  -0.1012345 ]\n"
     ]
    }
   ],
   "source": [
    "import numpy as np\n",
    "import tensorflow as tf\n",
    "from tensorflow.keras.layers import MaxPooling1D\n",
    "\n",
    "Length, pooling_size, stride = 10, 2, 1\n",
    "                        # 데이터 갯수     # 열\n",
    "x = tf.random.normal(shape = (1, Length, 1))\n",
    "                                 # 길이(행))\n",
    "pool_max = MaxPooling1D(pool_size = pooling_size, strides = stride)\n",
    "pooled_max = pool_max(x)\n",
    "\n",
    "print(\"x:{}\\n{}\".format(x.shape, x.numpy().flatten()))\n",
    "print(\"pooled_max(Tensorflow): {}\\n{}\".format(pooled_max.shape,\n",
    "                                              pooled_max.numpy().flatten()))\n",
    "\n",
    "\n",
    "x = x.numpy().flatten()\n",
    "pooled_max_man = np.zeros((Length - pooling_size + 1, ))\n",
    "\n",
    "for i in range(Length - pooling_size + 1):\n",
    "    window = x[i:i+pooling_size]\n",
    "    pooled_max_man[i] = np.max(window)\n",
    "\n",
    "print(\"pooled_max(Manual): {}\\n{}\".format(pooled_max.shape,\n",
    "                                              pooled_max_man))\n",
    "\n"
   ]
  },
  {
   "attachments": {},
   "cell_type": "markdown",
   "metadata": {},
   "source": [
    "### Code.6-1-2: Average Pooling"
   ]
  },
  {
   "cell_type": "code",
   "execution_count": 17,
   "metadata": {},
   "outputs": [
    {
     "name": "stdout",
     "output_type": "stream",
     "text": [
      "tf.Tensor(\n",
      "[[[-1.3544159 ]\n",
      "  [ 0.7045493 ]\n",
      "  [ 0.03666191]\n",
      "  [ 0.86918795]\n",
      "  [ 0.43842277]\n",
      "  [-0.53439844]\n",
      "  [-0.07710292]\n",
      "  [ 1.5658046 ]\n",
      "  [-0.1012345 ]\n",
      "  [-0.2744975 ]]], shape=(1, 10, 1), dtype=float32)\n",
      "x:(1, 10, 1)\n",
      "[-1.3544159   0.7045493   0.03666191  0.86918795  0.43842277 -0.53439844\n",
      " -0.07710292  1.5658046  -0.1012345  -0.2744975 ]\n",
      "pooled_avg(Tensorflow): (1, 9, 1)\n",
      "[-0.3249333   0.37060562  0.45292494  0.6538054  -0.04798783 -0.30575067\n",
      "  0.74435085  0.732285   -0.187866  ]\n",
      "pooled_avg(Manual): (9,)\n",
      "[-0.32493329  0.37060562  0.45292494  0.65380538 -0.04798783 -0.30575067\n",
      "  0.74435085  0.73228502 -0.187866  ]\n"
     ]
    }
   ],
   "source": [
    "import numpy as np\n",
    "import tensorflow as tf\n",
    "from tensorflow.keras.layers import AveragePooling1D\n",
    "\n",
    "Length, pooling_size, stride = 10, 2, 1\n",
    "                        # 데이터 갯수     #(열) \n",
    "x = tf.random.normal(shape = (1, Length, 1))   \n",
    "                                 # 길이(행)\n",
    "\n",
    "pool_avg = AveragePooling1D(pool_size = pooling_size, strides = stride)\n",
    "pooled_avg = pool_avg(x)\n",
    "\n",
    "print(\"x:{}\\n{}\".format(x.shape, x.numpy().flatten()))\n",
    "print(\"pooled_avg(Tensorflow): {}\\n{}\".format(pooled_avg.shape,\n",
    "                                              pooled_avg.numpy().flatten()))\n",
    "\n",
    "\n",
    "x = x.numpy().flatten()\n",
    "pooled_avg_man = np.zeros((Length - pooling_size + 1, ))\n",
    "\n",
    "for i in range(Length - pooling_size + 1):\n",
    "    window = x[i:i+pooling_size]\n",
    "    pooled_avg_man[i] = np.mean(window)\n",
    "\n",
    "print(\"pooled_avg(Manual): {}\\n{}\".format(pooled_avg_man.shape,\n",
    "                                              pooled_avg_man))\n",
    "\n"
   ]
  },
  {
   "attachments": {},
   "cell_type": "markdown",
   "metadata": {},
   "source": [
    "# 6-2: 2D Max/Avg Pooling"
   ]
  },
  {
   "attachments": {},
   "cell_type": "markdown",
   "metadata": {},
   "source": [
    "### Code.6-2-1: 2D Max Pooling"
   ]
  },
  {
   "cell_type": "code",
   "execution_count": 26,
   "metadata": {},
   "outputs": [
    {
     "name": "stdout",
     "output_type": "stream",
     "text": [
      "x: (1, 5, 5, 1)\n",
      "[[-1.3544159   0.7045493   0.03666191  0.86918795  0.43842277]\n",
      " [-0.53439844 -0.07710292  1.5658046  -0.1012345  -0.2744975 ]\n",
      " [ 1.420466    1.2609465  -0.4364091  -1.963399   -0.06452482]\n",
      " [-1.056841    1.0019135   0.6735137   0.06987705 -1.4077919 ]\n",
      " [ 1.0278524   0.2797411  -0.01347954  1.8451811   0.9706112 ]]\n",
      "pooled_max(Tensorflow): (1, 4, 4, 1)\n",
      "[[ 0.7045493   1.5658046   1.5658046   0.86918795]\n",
      " [ 1.420466    1.5658046   1.5658046  -0.06452482]\n",
      " [ 1.420466    1.2609465   0.6735137   0.06987705]\n",
      " [ 1.0278524   1.0019135   1.8451811   1.8451811 ]]\n",
      "pooled_max(Manual): (4, 4)\n",
      "[[ 0.70454931  1.5658046   1.5658046   0.86918795]\n",
      " [ 1.42046595  1.5658046   1.5658046  -0.06452482]\n",
      " [ 1.42046595  1.26094651  0.67351371  0.06987705]\n",
      " [ 1.02785242  1.00191355  1.84518111  1.84518111]]\n"
     ]
    }
   ],
   "source": [
    "import numpy as np\n",
    "import tensorflow as tf\n",
    "from tensorflow.keras.layers import MaxPooling2D\n",
    "\n",
    "N, n_H, n_W, n_C = 1, 5, 5, 1\n",
    "\n",
    "pooling_size, stride = 2, 1\n",
    "\n",
    "x = tf.random.normal(shape = (N, n_H, n_W, n_C))\n",
    "pool_max = MaxPooling2D(pool_size = pooling_size, strides = stride)\n",
    "pooled_max = pool_max(x)\n",
    "\n",
    "print(\"x: {}\\n{}\".format(x.shape, x.numpy().squeeze()))\n",
    "print(\"pooled_max(Tensorflow): {}\\n{}\".format(pooled_max.shape,\n",
    "                                              pooled_max.numpy().squeeze()))\n",
    "\n",
    "x = x.numpy().squeeze()\n",
    "pooled_max_man = np.zeros(shape = (n_H - pooling_size + 1, n_W - pooling_size + 1))\n",
    "\n",
    "for i in range(n_H - pooling_size + 1):\n",
    "    for j in range(n_W - pooling_size + 1):\n",
    "        window = x[i:i+pooling_size, j:j+pooling_size]\n",
    "        pooled_max_man[i, j] = np.max(window)\n",
    "\n",
    "print(\"pooled_max(Manual): {}\\n{}\".format(pooled_max_man.shape,\n",
    "                                              pooled_max_man))"
   ]
  },
  {
   "attachments": {},
   "cell_type": "markdown",
   "metadata": {},
   "source": [
    "### Code.6-2-2: 2D Average Pooling"
   ]
  },
  {
   "cell_type": "code",
   "execution_count": 27,
   "metadata": {},
   "outputs": [
    {
     "name": "stdout",
     "output_type": "stream",
     "text": [
      "x: (1, 5, 5, 1)\n",
      "[[-1.3544159   0.7045493   0.03666191  0.86918795  0.43842277]\n",
      " [-0.53439844 -0.07710292  1.5658046  -0.1012345  -0.2744975 ]\n",
      " [ 1.420466    1.2609465  -0.4364091  -1.963399   -0.06452482]\n",
      " [-1.056841    1.0019135   0.6735137   0.06987705 -1.4077919 ]\n",
      " [ 1.0278524   0.2797411  -0.01347954  1.8451811   0.9706112 ]]\n",
      "pooled_max(Tensorflow): (1, 4, 4, 1)\n",
      "[[-0.31534198  0.55747825  0.592605    0.2329697 ]\n",
      " [ 0.51747775  0.5783098  -0.23380953 -0.600914  ]\n",
      " [ 0.6566212   0.6249912  -0.41410437 -0.84145963]\n",
      " [ 0.3131665   0.48542216  0.6437731   0.36946937]]\n",
      "pooled_max(Manual): (4, 4)\n",
      "[[-0.31534198  0.55747825  0.59260499  0.2329697 ]\n",
      " [ 0.51747775  0.57830977 -0.23380953 -0.600914  ]\n",
      " [ 0.65662122  0.62499118 -0.41410437 -0.84145963]\n",
      " [ 0.3131665   0.48542216  0.64377308  0.36946937]]\n"
     ]
    }
   ],
   "source": [
    "import numpy as np\n",
    "import tensorflow as tf\n",
    "from tensorflow.keras.layers import AveragePooling2D\n",
    "\n",
    "N, n_H, n_W, n_C = 1, 5, 5, 1\n",
    "\n",
    "pooling_size, stride = 2, 1\n",
    "\n",
    "x = tf.random.normal(shape = (N, n_H, n_W, n_C))\n",
    "pool_avg = AveragePooling2D(pool_size = pooling_size, strides = stride)\n",
    "pooled_avg = pool_avg(x)\n",
    "\n",
    "print(\"x: {}\\n{}\".format(x.shape, x.numpy().squeeze()))\n",
    "print(\"pooled_max(Tensorflow): {}\\n{}\".format(pooled_avg.shape,\n",
    "                                              pooled_avg.numpy().squeeze()))\n",
    "\n",
    "x = x.numpy().squeeze()\n",
    "pooled_avg_man = np.zeros(shape = (n_H - pooling_size + 1, n_W - pooling_size + 1))\n",
    "\n",
    "for i in range(n_H - pooling_size + 1):\n",
    "    for j in range(n_W - pooling_size + 1):\n",
    "        window = x[i:i+pooling_size, j:j+pooling_size]\n",
    "        pooled_avg_man[i, j] = np.mean(window)\n",
    "\n",
    "print(\"pooled_max(Manual): {}\\n{}\".format(pooled_avg_man.shape,\n",
    "                                              pooled_avg_man))"
   ]
  },
  {
   "cell_type": "code",
   "execution_count": null,
   "metadata": {},
   "outputs": [],
   "source": []
  }
 ],
 "metadata": {
  "kernelspec": {
   "display_name": "DL",
   "language": "python",
   "name": "python3"
  },
  "language_info": {
   "codemirror_mode": {
    "name": "ipython",
    "version": 3
   },
   "file_extension": ".py",
   "mimetype": "text/x-python",
   "name": "python",
   "nbconvert_exporter": "python",
   "pygments_lexer": "ipython3",
   "version": "3.10.6"
  },
  "orig_nbformat": 4
 },
 "nbformat": 4,
 "nbformat_minor": 2
}
