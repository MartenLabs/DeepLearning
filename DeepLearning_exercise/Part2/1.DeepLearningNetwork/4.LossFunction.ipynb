{
 "cells": [
  {
   "attachments": {},
   "cell_type": "markdown",
   "metadata": {},
   "source": [
    "# 4-1: Datasets"
   ]
  },
  {
   "attachments": {},
   "cell_type": "markdown",
   "metadata": {},
   "source": [
    "### Code.4-1-1: Dataset for Regression"
   ]
  },
  {
   "cell_type": "code",
   "execution_count": 11,
   "metadata": {},
   "outputs": [
    {
     "name": "stdout",
     "output_type": "stream",
     "text": [
      "tf.Tensor(\n",
      "[[-1.3544159   0.7045493   0.03666191  0.86918795  0.43842277]\n",
      " [-0.53439844 -0.07710292  1.5658046  -0.1012345  -0.2744975 ]\n",
      " [ 1.420466    1.2609465  -0.4364091  -1.963399   -0.06452482]\n",
      " [-1.056841    1.0019135   0.6735137   0.06987705 -1.4077919 ]\n",
      " [ 1.0278524   0.2797411  -0.01347954  1.8451811   0.9706112 ]\n",
      " [-1.0242516  -0.6544423  -0.29738778 -1.3240397   0.28785658]\n",
      " [-0.87579006 -0.08856997  0.6921164   0.842157   -0.06378508]\n",
      " [ 0.9280078  -0.6039788  -0.17669262  0.04221032  0.29037958]], shape=(8, 5), dtype=float32)\n",
      "(8,)\n"
     ]
    }
   ],
   "source": [
    "import tensorflow as tf\n",
    "from tensorflow.keras.layers import Dense\n",
    "\n",
    "N, n_feature = 8, 5\n",
    "t_weights = tf.constant([1, 2, 3, 4, 5], dtype=tf.float32)\n",
    "t_bias = tf.constant([10], dtype=tf.float32)\n",
    "                    # 평균      #표준편차(standard deviation)\n",
    "x = tf.random.normal(mean = 0, stddev=1, shape=(N, n_feature))\n",
    "\n",
    "y = tf.reduce_sum(t_weights * x, axis=1) + t_bias\n",
    "print(x)\n",
    "print(y.shape)\n",
    "\n",
    "\n",
    "\n"
   ]
  },
  {
   "attachments": {},
   "cell_type": "markdown",
   "metadata": {},
   "source": [
    "### Code.4-1-2: Dataset for Binary Classification"
   ]
  },
  {
   "cell_type": "code",
   "execution_count": 13,
   "metadata": {},
   "outputs": [
    {
     "name": "stdout",
     "output_type": "stream",
     "text": [
      "tf.Tensor([ True  True False  True  True False  True  True], shape=(8,), dtype=bool)\n",
      "tf.Tensor([1 1 0 1 1 0 1 1], shape=(8,), dtype=int32)\n"
     ]
    }
   ],
   "source": [
    "import tensorflow as tf\n",
    "\n",
    "N, n_feature = 8, 5\n",
    "t_weights = tf.constant([1, 2, 3, 4, 5], dtype=tf.float32)\n",
    "t_bias = tf.constant([10], dtype=tf.float32)\n",
    "                    # 평균      #표준편차(standard deviation)\n",
    "x = tf.random.normal(mean = 0, stddev=1, shape=(N, n_feature))\n",
    "\n",
    "y = tf.reduce_sum(t_weights * x, axis=1) + t_bias\n",
    "\n",
    "print(y > 5)\n",
    "y = tf.cast(y > 5, tf.int32)\n",
    "print(y)"
   ]
  },
  {
   "attachments": {},
   "cell_type": "markdown",
   "metadata": {},
   "source": [
    "### Code.4-1-3: Dataset for Multi-class Classification"
   ]
  },
  {
   "cell_type": "code",
   "execution_count": 27,
   "metadata": {},
   "outputs": [
    {
     "name": "stdout",
     "output_type": "stream",
     "text": [
      "(8, 2) (8,)\n",
      "(16, 2) (16,)\n",
      "(24, 2) (24,)\n",
      "X(shape/dtype/data): (24, 2) \\ <dtype: 'float32'>\n",
      "[[ -9.32379      0.63441634]\n",
      " [-10.284907     2.379104  ]\n",
      " [ -9.124892     3.1632388 ]\n",
      " [-10.155995     5.1037564 ]\n",
      " [-12.013144     2.3951974 ]\n",
      " [-10.723062     0.83566296]\n",
      " [-10.489759     0.7615824 ]\n",
      " [-10.951565     4.0525527 ]\n",
      " [  5.536338    -5.62978   ]\n",
      " [  5.76781     -4.842551  ]\n",
      " [  4.2800665   -4.4587307 ]\n",
      " [  4.4007945   -4.3808784 ]\n",
      " [  4.3090057   -4.109671  ]\n",
      " [  3.299302    -5.164282  ]\n",
      " [  2.1642792   -4.8752728 ]\n",
      " [  5.027039    -8.509354  ]\n",
      " [-15.617774   -11.937093  ]\n",
      " [-14.294315   -11.4917145 ]\n",
      " [-12.543969   -13.106331  ]\n",
      " [-12.981747   -11.833797  ]\n",
      " [-13.088761   -11.444979  ]\n",
      " [-13.387175   -11.164747  ]\n",
      " [-14.235947   -10.6895    ]\n",
      " [-12.998525   -11.369796  ]]\n",
      "\n",
      "Y(shape/dtype/data): (24,) \\ <dtype: 'int32'>\n",
      "[0 0 0 0 0 0 0 0 1 1 1 1 1 1 1 1 2 2 2 2 2 2 2 2]\n",
      "\n"
     ]
    },
    {
     "data": {
      "image/png": "[encoded data removed]",
      "text/plain": [
       "<Figure size 500x500 with 1 Axes>"
      ]
     },
     "metadata": {},
     "output_type": "display_data"
    }
   ],
   "source": [
    "import tensorflow as tf\n",
    "import matplotlib.pyplot as plt\n",
    "\n",
    "plt.style.use('seaborn-v0_8')\n",
    "tf.random.set_seed(3)\n",
    "\n",
    "N, n_feature = 8, 2\n",
    "n_class = 3\n",
    "\n",
    "X = tf.zeros(shape = (0, n_feature))\n",
    "Y = tf.zeros(shape=(0, ), dtype=tf.int32)\n",
    "\n",
    "# print(x)\n",
    "# print(y)\n",
    "fig, ax = plt.subplots(figsize=(5, 5))\n",
    "for class_idx in range(n_class):\n",
    "    center = tf.random.uniform(minval=-15, maxval=15, shape=(2, ))\n",
    "    # print(center)\n",
    "    # ax.scatter(center[0], center[1])\n",
    "    x1 = center[0] + tf.random.normal(shape = (N, 1))\n",
    "    x2 = center[1] + tf.random.normal(shape = (N, 1))\n",
    "\n",
    "    # ax.scatter(x1.numpy(), x2.numpy())\n",
    "    x = tf.concat((x1, x2), axis = 1)\n",
    "    y = class_idx * tf.ones(shape = (N, ), dtype=tf.int32)\n",
    "    # print(x.shape, y.shape)\n",
    "\n",
    "    ax.scatter(x[:, 0].numpy(), x[:, 1].numpy(), alpha=0.3)\n",
    "\n",
    "    X = tf.concat((X, x), axis = 0)\n",
    "    Y = tf.concat((Y, y), axis = 0)\n",
    "    print(X.shape, Y.shape)\n",
    "\n",
    "print(\"X(shape/dtype/data): {} \\ {}\\n{}\\n\".format(X.shape, X.dtype, X.numpy()))\n",
    "print(\"Y(shape/dtype/data): {} \\ {}\\n{}\\n\".format(Y.shape, Y.dtype, Y.numpy()))\n",
    "\n"
   ]
  },
  {
   "attachments": {},
   "cell_type": "markdown",
   "metadata": {},
   "source": [
    "### Code.4-1-4: Dataset for Multi-class Classification with One-hot Encoding"
   ]
  },
  {
   "cell_type": "code",
   "execution_count": 28,
   "metadata": {},
   "outputs": [
    {
     "name": "stdout",
     "output_type": "stream",
     "text": [
      "(8, 2) (8,)\n",
      "(16, 2) (16,)\n",
      "(24, 2) (24,)\n",
      "X(shape/dtype/data): (24, 2) \\ <dtype: 'float32'>\n",
      "[[ -9.32379      0.63441634]\n",
      " [-10.284907     2.379104  ]\n",
      " [ -9.124892     3.1632388 ]\n",
      " [-10.155995     5.1037564 ]\n",
      " [-12.013144     2.3951974 ]\n",
      " [-10.723062     0.83566296]\n",
      " [-10.489759     0.7615824 ]\n",
      " [-10.951565     4.0525527 ]\n",
      " [  5.536338    -5.62978   ]\n",
      " [  5.76781     -4.842551  ]\n",
      " [  4.2800665   -4.4587307 ]\n",
      " [  4.4007945   -4.3808784 ]\n",
      " [  4.3090057   -4.109671  ]\n",
      " [  3.299302    -5.164282  ]\n",
      " [  2.1642792   -4.8752728 ]\n",
      " [  5.027039    -8.509354  ]\n",
      " [-15.617774   -11.937093  ]\n",
      " [-14.294315   -11.4917145 ]\n",
      " [-12.543969   -13.106331  ]\n",
      " [-12.981747   -11.833797  ]\n",
      " [-13.088761   -11.444979  ]\n",
      " [-13.387175   -11.164747  ]\n",
      " [-14.235947   -10.6895    ]\n",
      " [-12.998525   -11.369796  ]]\n",
      "\n",
      "Y(shape/dtype/data): (24, 3) \\ <dtype: 'int32'>\n",
      "[[1 0 0]\n",
      " [1 0 0]\n",
      " [1 0 0]\n",
      " [1 0 0]\n",
      " [1 0 0]\n",
      " [1 0 0]\n",
      " [1 0 0]\n",
      " [1 0 0]\n",
      " [0 1 0]\n",
      " [0 1 0]\n",
      " [0 1 0]\n",
      " [0 1 0]\n",
      " [0 1 0]\n",
      " [0 1 0]\n",
      " [0 1 0]\n",
      " [0 1 0]\n",
      " [0 0 1]\n",
      " [0 0 1]\n",
      " [0 0 1]\n",
      " [0 0 1]\n",
      " [0 0 1]\n",
      " [0 0 1]\n",
      " [0 0 1]\n",
      " [0 0 1]]\n",
      "\n"
     ]
    },
    {
     "data": {
      "image/png": "[encoded data removed]",
      "text/plain": [
       "<Figure size 500x500 with 1 Axes>"
      ]
     },
     "metadata": {},
     "output_type": "display_data"
    }
   ],
   "source": [
    "import tensorflow as tf\n",
    "import matplotlib.pyplot as plt\n",
    "\n",
    "plt.style.use('seaborn-v0_8')\n",
    "tf.random.set_seed(3)\n",
    "\n",
    "N, n_feature = 8, 2\n",
    "n_class = 3\n",
    "\n",
    "X = tf.zeros(shape = (0, n_feature))\n",
    "Y = tf.zeros(shape=(0, ), dtype=tf.int32)\n",
    "\n",
    "# print(x)\n",
    "# print(y)\n",
    "fig, ax = plt.subplots(figsize=(5, 5))\n",
    "for class_idx in range(n_class):\n",
    "    center = tf.random.uniform(minval=-15, maxval=15, shape=(2, ))\n",
    "    # print(center)\n",
    "    # ax.scatter(center[0], center[1])\n",
    "    x1 = center[0] + tf.random.normal(shape = (N, 1))\n",
    "    x2 = center[1] + tf.random.normal(shape = (N, 1))\n",
    "\n",
    "    # ax.scatter(x1.numpy(), x2.numpy())\n",
    "    x = tf.concat((x1, x2), axis = 1)\n",
    "    y = class_idx * tf.ones(shape = (N, ), dtype=tf.int32)\n",
    "    # print(x.shape, y.shape)\n",
    "\n",
    "    ax.scatter(x[:, 0].numpy(), x[:, 1].numpy(), alpha=0.3)\n",
    "\n",
    "    X = tf.concat((X, x), axis = 0)\n",
    "    Y = tf.concat((Y, y), axis = 0)\n",
    "    print(X.shape, Y.shape)\n",
    "\n",
    "Y = tf.one_hot(Y, depth=n_class, dtype = tf.int32)\n",
    "\n",
    "print(\"X(shape/dtype/data): {} \\ {}\\n{}\\n\".format(X.shape, X.dtype, X.numpy()))\n",
    "print(\"Y(shape/dtype/data): {} \\ {}\\n{}\\n\".format(Y.shape, Y.dtype, Y.numpy()))\n",
    "\n"
   ]
  },
  {
   "attachments": {},
   "cell_type": "markdown",
   "metadata": {},
   "source": [
    "### Code.4-1-5: Dataset Objects"
   ]
  },
  {
   "cell_type": "code",
   "execution_count": 1,
   "metadata": {},
   "outputs": [
    {
     "name": "stdout",
     "output_type": "stream",
     "text": [
      "Metal device set to: Apple M1 Pro\n",
      "\n",
      "systemMemory: 32.00 GB\n",
      "maxCacheSize: 10.67 GB\n",
      "\n",
      "(32, 5) (32,)\n",
      "(32, 5) (32,)\n",
      "(32, 5) (32,)\n",
      "(4, 5) (4,)\n"
     ]
    }
   ],
   "source": [
    "import tensorflow as tf\n",
    "\n",
    "N, n_feature = 100, 5\n",
    "batch_size = 32   # 32개씩 꺼내오겠다 (3번 뽑아옴)\n",
    "\n",
    "t_weights = tf.constant([1, 2, 3, 4, 5], dtype=tf.float32)\n",
    "t_bias = tf.constant([10], dtype=tf.float32)\n",
    "                    # 평균      #표준편차(standard deviation)\n",
    "x = tf.random.normal(mean = 0, stddev=1, shape=(N, n_feature))\n",
    "y = tf.reduce_sum(t_weights * x, axis=1) + t_bias\n",
    "\n",
    "# print(N // batch_size)\n",
    "dataset = tf.data.Dataset.from_tensor_slices((x, y))\n",
    "dataset = dataset.batch(batch_size).shuffle(100)\n",
    "\n",
    "for x, y in dataset:\n",
    "    print(x.shape, y.shape)"
   ]
  },
  {
   "attachments": {},
   "cell_type": "markdown",
   "metadata": {},
   "source": [
    "# 4-2: Mean Squared Error"
   ]
  },
  {
   "attachments": {},
   "cell_type": "markdown",
   "metadata": {},
   "source": [
    "### Code.4-2-1: MSE Calculation"
   ]
  },
  {
   "cell_type": "code",
   "execution_count": 1,
   "metadata": {},
   "outputs": [
    {
     "name": "stdout",
     "output_type": "stream",
     "text": [
      "Metal device set to: Apple M1 Pro\n",
      "\n",
      "systemMemory: 32.00 GB\n",
      "maxCacheSize: 10.67 GB\n",
      "\n",
      "tensorflow:  1.8424861\n",
      "manual:  1.842486\n"
     ]
    }
   ],
   "source": [
    "import tensorflow as tf\n",
    "from tensorflow.keras.losses import MeanSquaredError\n",
    "\n",
    "loss_object = MeanSquaredError()\n",
    "\n",
    "batch_size = 32\n",
    "predictions = tf.random.normal(shape = (batch_size, 1))\n",
    "labels = tf.random.normal(shape = (batch_size, 1))\n",
    "\n",
    "mse = loss_object(labels, predictions)\n",
    "\n",
    "mse_man = tf.reduce_mean(tf.math.pow(labels - predictions, 2))\n",
    "\n",
    "\n",
    "print(\"tensorflow: \",mse.numpy())\n",
    "print(\"manual: \",mse_man.numpy())"
   ]
  },
  {
   "attachments": {},
   "cell_type": "markdown",
   "metadata": {},
   "source": [
    "### Code.4-2-2: MSE with Model/Dataset"
   ]
  },
  {
   "cell_type": "code",
   "execution_count": 37,
   "metadata": {},
   "outputs": [
    {
     "name": "stdout",
     "output_type": "stream",
     "text": [
      "1.9162796\n",
      "2.0284445\n",
      "1.4620087\n",
      "3.274282\n"
     ]
    }
   ],
   "source": [
    "import tensorflow as tf\n",
    "from tensorflow.keras.layers import Dense\n",
    "from tensorflow.keras.losses import mean_squared_error\n",
    "\n",
    "N, n_feature = 100, 5\n",
    "batch_size = 32\n",
    "\n",
    "x = tf.random.normal(shape = (N, n_feature))\n",
    "y = tf.random.normal(shape = (N, 1))\n",
    "\n",
    "dataset = tf.data.Dataset.from_tensor_slices((x, y))\n",
    "dataset = dataset.batch(batch_size)\n",
    "\n",
    "model = Dense(units = 1, activation = 'linear')\n",
    "loss_object = MeanSquaredError()\n",
    "\n",
    "for x, y in dataset:\n",
    "    predictions = model(x)\n",
    "    loss = loss_object(y, predictions)\n",
    "    print(loss.numpy())\n",
    "\n",
    "\n",
    "\n"
   ]
  },
  {
   "attachments": {},
   "cell_type": "markdown",
   "metadata": {},
   "source": [
    "# 4-3: Binary Cross Entropy"
   ]
  },
  {
   "attachments": {},
   "cell_type": "markdown",
   "metadata": {},
   "source": [
    "### Code.4-3-1: BCE Calculation"
   ]
  },
  {
   "cell_type": "code",
   "execution_count": 43,
   "metadata": {},
   "outputs": [
    {
     "name": "stdout",
     "output_type": "stream",
     "text": [
      "BCE(TF) 1.0963141\n",
      "BCE(man) 1.0963145\n"
     ]
    }
   ],
   "source": [
    "import tensorflow as tf\n",
    "from tensorflow.keras.losses import BinaryCrossentropy\n",
    "\n",
    "batch_size = 4\n",
    "n_class = 2\n",
    "\n",
    "predictions = tf.random.uniform(shape = (batch_size, 1),\n",
    "                                minval=0, maxval=1,\n",
    "                                dtype=tf.float32)\n",
    "\n",
    "labels = tf.random.uniform(shape = (batch_size, 1),\n",
    "                           minval=0, maxval = n_class,\n",
    "                           dtype=tf.int32)\n",
    "\n",
    "loss_object = BinaryCrossentropy()\n",
    "loss_tf = loss_object(labels, predictions)\n",
    "\n",
    "\n",
    "\n",
    "labels = tf.cast(labels, tf.float32) # 형변환(int -> float)\n",
    "bce_man = -(labels * tf.math.log(predictions) + (1 - labels) * tf.math.log(1 - predictions))\n",
    "bce_man = tf.reduce_mean(bce_man)\n",
    "\n",
    "\n",
    "print(\"BCE(TF)\", loss_tf.numpy())\n",
    "print(\"BCE(man)\", bce_man.numpy())\n"
   ]
  },
  {
   "attachments": {},
   "cell_type": "markdown",
   "metadata": {},
   "source": [
    "### Code.4-3-2: BCE with Model/Dataset"
   ]
  },
  {
   "cell_type": "code",
   "execution_count": 45,
   "metadata": {},
   "outputs": [
    {
     "name": "stdout",
     "output_type": "stream",
     "text": [
      "1.1656042\n",
      "1.0103164\n",
      "1.2560824\n",
      "0.8845162\n"
     ]
    }
   ],
   "source": [
    "import tensorflow as tf\n",
    "from tensorflow.keras.layers import Dense\n",
    "from tensorflow.keras.losses import BinaryCrossentropy\n",
    "\n",
    "N, n_feature = 100, 5\n",
    "batch_size = 30\n",
    "t_weights = tf.constant([1, 2, 3, 4, 5], dtype=tf.float32)\n",
    "t_bias = tf.constant([10], dtype = tf.float32)\n",
    "\n",
    "X = tf.random.normal(mean = 0, stddev = 1, shape = (N, n_feature))\n",
    "Y = tf.reduce_sum(t_weights * X, axis = 1) + t_bias\n",
    "Y = tf.cast(Y > 5, tf.int32)\n",
    "\n",
    "dataset = tf.data.Dataset.from_tensor_slices((X, Y))\n",
    "dataset = dataset.batch(batch_size)\n",
    "\n",
    "model = Dense(units = 1, activation = 'sigmoid')\n",
    "loss_object = BinaryCrossentropy()\n",
    "\n",
    "for x, y in dataset:\n",
    "    predictions = model(x)\n",
    "    loss = loss_object(y, predictions)\n",
    "    print(loss.numpy())\n"
   ]
  },
  {
   "attachments": {},
   "cell_type": "markdown",
   "metadata": {},
   "source": [
    "# 4-4: Sparse Categorical Cross Entropy (one-hot encoding이 안되있을 때)"
   ]
  },
  {
   "attachments": {},
   "cell_type": "markdown",
   "metadata": {},
   "source": [
    "### Code.4-4-1: SCCE Calculation"
   ]
  },
  {
   "cell_type": "code",
   "execution_count": 10,
   "metadata": {},
   "outputs": [
    {
     "name": "stdout",
     "output_type": "stream",
     "text": [
      "predictions tf.Tensor(\n",
      "[[0.31179297 0.8263413  0.6849456  0.0067091  0.78749514]\n",
      " [0.3906511  0.29263055 0.99216926 0.95810425 0.55623317]\n",
      " [0.16466296 0.13445711 0.13229859 0.5348098  0.57090175]\n",
      " [0.50970507 0.48252344 0.15580535 0.3703227  0.49210668]\n",
      " [0.567016   0.2077086  0.18223882 0.99883735 0.36950588]\n",
      " [0.37927854 0.7723117  0.68211746 0.39932835 0.7840713 ]\n",
      " [0.67880154 0.73395896 0.5520444  0.10948515 0.6487982 ]\n",
      " [0.9890779  0.8203654  0.70470357 0.9578625  0.02297425]\n",
      " [0.93598676 0.6513264  0.31663585 0.00111556 0.9212191 ]\n",
      " [0.3822806  0.77246034 0.91514194 0.5751133  0.793342  ]\n",
      " [0.4289763  0.19118965 0.7452506  0.41762006 0.8173511 ]\n",
      " [0.20117116 0.6457157  0.16484237 0.4484123  0.6057888 ]\n",
      " [0.816115   0.4129653  0.2632984  0.19087589 0.7631861 ]\n",
      " [0.8340243  0.49447727 0.6866319  0.300259   0.26729417]\n",
      " [0.83389175 0.62988555 0.15143108 0.47044265 0.69402504]\n",
      " [0.9605911  0.93813527 0.5299927  0.21156156 0.3940668 ]], shape=(16, 5), dtype=float32)\n",
      "pred_sum: tf.Tensor(\n",
      "[[2.617284 ]\n",
      " [3.1897883]\n",
      " [1.5371302]\n",
      " [2.0104632]\n",
      " [2.3253067]\n",
      " [3.0171075]\n",
      " [2.7230883]\n",
      " [3.4949837]\n",
      " [2.8262837]\n",
      " [3.4383383]\n",
      " [2.6003876]\n",
      " [2.0659304]\n",
      " [2.4464407]\n",
      " [2.5826867]\n",
      " [2.779676 ]\n",
      " [3.0343475]], shape=(16, 1), dtype=float32)\n",
      "predictions tf.Tensor(\n",
      "[[1.19128443e-01 3.15724730e-01 2.61700898e-01 2.56338203e-03\n",
      "  3.00882578e-01]\n",
      " [1.22469291e-01 9.17398036e-02 3.11045498e-01 3.00366104e-01\n",
      "  1.74379334e-01]\n",
      " [1.07123621e-01 8.74728188e-02 8.60685632e-02 3.47927451e-01\n",
      "  3.71407539e-01]\n",
      " [2.53526181e-01 2.40006104e-01 7.74972364e-02 1.84197694e-01\n",
      "  2.44772777e-01]\n",
      " [2.43845686e-01 8.93252492e-02 7.83719495e-02 4.29550797e-01\n",
      "  1.58906296e-01]\n",
      " [1.25709325e-01 2.55977511e-01 2.26083249e-01 1.32354692e-01\n",
      "  2.59875178e-01]\n",
      " [2.49276355e-01 2.69531816e-01 2.02727318e-01 4.02062424e-02\n",
      "  2.38258243e-01]\n",
      " [2.82999307e-01 2.34726548e-01 2.01632857e-01 2.74067789e-01\n",
      "  6.57349359e-03]\n",
      " [3.31172258e-01 2.30453312e-01 1.12032577e-01 3.94709321e-04\n",
      "  3.25947136e-01]\n",
      " [1.11181788e-01 2.24660948e-01 2.66158193e-01 1.67264894e-01\n",
      "  2.30734125e-01]\n",
      " [1.64966285e-01 7.35235214e-02 2.86592126e-01 1.60599157e-01\n",
      "  3.14318955e-01]\n",
      " [9.73755792e-02 3.12554449e-01 7.97908604e-02 2.17051029e-01\n",
      "  2.93228090e-01]\n",
      " [3.33592802e-01 1.68802500e-01 1.07625090e-01 7.80218765e-02\n",
      "  3.11957747e-01]\n",
      " [3.22928965e-01 1.91458479e-01 2.65859544e-01 1.16258390e-01\n",
      "  1.03494614e-01]\n",
      " [2.99996018e-01 2.26603955e-01 5.44779636e-02 1.69243708e-01\n",
      "  2.49678403e-01]\n",
      " [3.16572517e-01 3.09172004e-01 1.74664468e-01 6.97222576e-02\n",
      "  1.29868716e-01]], shape=(16, 5), dtype=float32)\n",
      "tf.Tensor(\n",
      "[1.         1.         1.         1.         1.         0.99999994\n",
      " 1.         1.         1.         0.9999999  1.         1.\n",
      " 1.         1.         1.         0.99999994], shape=(16,), dtype=float32)\n",
      "tf.Tensor(4, shape=(), dtype=int32) tf.Tensor([0.11912844 0.31572473 0.2617009  0.00256338 0.30088258], shape=(5,), dtype=float32)\n",
      "tf.Tensor(3, shape=(), dtype=int32) tf.Tensor([0.12246929 0.0917398  0.3110455  0.3003661  0.17437933], shape=(5,), dtype=float32)\n",
      "tf.Tensor(1, shape=(), dtype=int32) tf.Tensor([0.10712362 0.08747282 0.08606856 0.34792745 0.37140754], shape=(5,), dtype=float32)\n",
      "tf.Tensor(4, shape=(), dtype=int32) tf.Tensor([0.25352618 0.2400061  0.07749724 0.1841977  0.24477278], shape=(5,), dtype=float32)\n",
      "tf.Tensor(3, shape=(), dtype=int32) tf.Tensor([0.24384569 0.08932525 0.07837195 0.4295508  0.1589063 ], shape=(5,), dtype=float32)\n",
      "tf.Tensor(0, shape=(), dtype=int32) tf.Tensor([0.12570933 0.2559775  0.22608325 0.13235469 0.25987518], shape=(5,), dtype=float32)\n",
      "tf.Tensor(3, shape=(), dtype=int32) tf.Tensor([0.24927635 0.26953182 0.20272732 0.04020624 0.23825824], shape=(5,), dtype=float32)\n",
      "tf.Tensor(1, shape=(), dtype=int32) tf.Tensor([0.2829993  0.23472655 0.20163286 0.2740678  0.00657349], shape=(5,), dtype=float32)\n",
      "tf.Tensor(2, shape=(), dtype=int32) tf.Tensor([0.33117226 0.23045331 0.11203258 0.00039471 0.32594714], shape=(5,), dtype=float32)\n",
      "tf.Tensor(1, shape=(), dtype=int32) tf.Tensor([0.11118179 0.22466095 0.2661582  0.1672649  0.23073412], shape=(5,), dtype=float32)\n",
      "tf.Tensor(0, shape=(), dtype=int32) tf.Tensor([0.16496629 0.07352352 0.28659213 0.16059916 0.31431895], shape=(5,), dtype=float32)\n",
      "tf.Tensor(3, shape=(), dtype=int32) tf.Tensor([0.09737558 0.31255445 0.07979086 0.21705103 0.2932281 ], shape=(5,), dtype=float32)\n",
      "tf.Tensor(2, shape=(), dtype=int32) tf.Tensor([0.3335928  0.1688025  0.10762509 0.07802188 0.31195775], shape=(5,), dtype=float32)\n",
      "tf.Tensor(4, shape=(), dtype=int32) tf.Tensor([0.32292897 0.19145848 0.26585954 0.11625839 0.10349461], shape=(5,), dtype=float32)\n",
      "tf.Tensor(1, shape=(), dtype=int32) tf.Tensor([0.29999602 0.22660396 0.05447796 0.16924371 0.2496784 ], shape=(5,), dtype=float32)\n",
      "tf.Tensor(0, shape=(), dtype=int32) tf.Tensor([0.31657252 0.309172   0.17466447 0.06972226 0.12986872], shape=(5,), dtype=float32)\n",
      "loss:  tf.Tensor(1.7483351, shape=(), dtype=float32)\n",
      "ce:  1.7483351\n"
     ]
    }
   ],
   "source": [
    "import tensorflow as tf\n",
    "from tensorflow.keras.losses import SparseCategoricalCrossentropy\n",
    "\n",
    "batch_size, n_class = 16, 5\n",
    "\n",
    "predictions = tf.random.uniform(shape = (batch_size, n_class),\n",
    "                               minval = 0, maxval = 1,\n",
    "                               dtype= tf.float32)\n",
    "\n",
    "\n",
    "# predictions 만들기 : 각 행의 합은 1이 되도록 만들기\n",
    "pred_sum = tf.reshape(tf.reduce_sum(predictions, axis=1), (-1, 1)) # 각 행의 합을 구해서 행벡터로 만들어준다 \n",
    "                                                                   # 그래야 브로드캐스팅으로 나누어줄 수 있다\n",
    "                                                                   # -1은 뒤에 열을 1로 하고 나머지를 다 행으로 보낸다는 의미 (반대도 가능)\n",
    "print('predictions', predictions)\n",
    "print('pred_sum:', pred_sum)\n",
    "predictions = predictions / pred_sum\n",
    "print('predictions', predictions)\n",
    "print(tf.reduce_sum(predictions, axis = 1))\n",
    "labels = tf.random.uniform(shape = (batch_size, ), \n",
    "                           minval = 0, maxval = n_class,\n",
    "                           dtype = tf.int32)\n",
    "\n",
    "loss_object = SparseCategoricalCrossentropy()\n",
    "loss = loss_object(labels, predictions)\n",
    "\n",
    "\n",
    "ce = 0\n",
    "for label, predictions in zip(labels, predictions):\n",
    "    print(label, predictions) # label이 2라면 predictions의 2번쨰(0부터시작) 만 log씌워줌\n",
    "    ce += -tf.math.log(predictions[label])\n",
    "ce /= batch_size # 평균 구하기\n",
    "\n",
    "print('loss: ', loss)\n",
    "print('ce: ',ce.numpy())\n",
    "\n",
    "\n",
    "\n",
    "\n"
   ]
  },
  {
   "attachments": {},
   "cell_type": "markdown",
   "metadata": {},
   "source": [
    "### Code.4-4-2: SCCE with Model/Dataset"
   ]
  },
  {
   "cell_type": "code",
   "execution_count": 57,
   "metadata": {},
   "outputs": [
    {
     "name": "stdout",
     "output_type": "stream",
     "text": [
      "6.919054\n",
      "6.9084244\n",
      "6.9752197\n",
      "6.963108\n",
      "7.0011344\n",
      "6.7684\n",
      "1.7745079\n",
      "0.015845848\n",
      "0.016819619\n",
      "0.018563502\n",
      "0.019058693\n",
      "0.017822433\n",
      "1.4839346\n",
      "2.7507403\n",
      "2.693381\n",
      "2.7481303\n",
      "2.8880394\n",
      "2.9558477\n",
      "2.6291914\n",
      "1.7070818\n",
      "1.7937827\n",
      "1.7676578\n",
      "1.7088763\n",
      "1.7717216\n",
      "1.8090465\n",
      "3.5725913\n",
      "3.794236\n",
      "3.416936\n",
      "3.929324\n",
      "3.7518983\n",
      "3.8857355\n",
      "3.6704557\n"
     ]
    }
   ],
   "source": [
    "import tensorflow as tf\n",
    "from tensorflow.keras.layers import Dense\n",
    "from tensorflow.keras.losses import SparseCategoricalCrossentropy\n",
    "\n",
    "N, n_feature = 100, 2\n",
    "n_class = 5\n",
    "\n",
    "X = tf.zeros(shape = (0, n_feature))\n",
    "Y = tf.zeros(shape = (0, 1), dtype = tf.int32)\n",
    "\n",
    "for class_idx in range(n_class):\n",
    "    center = tf.random.uniform(minval = -15, maxval = 15, shape = (2, ))\n",
    "\n",
    "    x1 = center[0] + tf.random.normal(shape = (N, 1))\n",
    "    x2 = center[1] + tf.random.normal(shape = (N, 1))\n",
    "\n",
    "    x = tf.concat((x1, x2), axis = 1)\n",
    "    y = class_idx * tf.ones(shape = (N, 1), dtype = tf.int32)\n",
    "\n",
    "    X = tf.concat((X, x), axis = 0)\n",
    "    Y = tf.concat((Y, y), axis = 0)\n",
    "\n",
    "\n",
    "dataset = tf.data.Dataset.from_tensor_slices((X, Y))\n",
    "dataset = dataset.batch(batch_size)\n",
    "\n",
    "\n",
    "model = Dense(units = n_class, activation = 'softmax')\n",
    "loss_object = SparseCategoricalCrossentropy()\n",
    "\n",
    "for x, y in dataset:\n",
    "    predictions = model(x)\n",
    "    loss = loss_object(y, predictions)\n",
    "    print(loss.numpy())\n",
    "\n",
    " "
   ]
  },
  {
   "attachments": {},
   "cell_type": "markdown",
   "metadata": {},
   "source": [
    "# 4-5 : Categorical Cross Entropy (one-hot encoding이 되있을때)"
   ]
  },
  {
   "attachments": {},
   "cell_type": "markdown",
   "metadata": {},
   "source": [
    "### Code.4-5-1: CCE Calculation"
   ]
  },
  {
   "cell_type": "code",
   "execution_count": 63,
   "metadata": {},
   "outputs": [
    {
     "name": "stdout",
     "output_type": "stream",
     "text": [
      "CCE(Tensorflow):  2.29207\n",
      "CCE(Manual):  2.29207\n"
     ]
    }
   ],
   "source": [
    "import tensorflow as tf\n",
    "from tensorflow.keras.losses import CategoricalCrossentropy\n",
    "\n",
    "batch_size, n_class = 16, 5\n",
    "\n",
    "predictions = tf.random.uniform(shape = (batch_size, n_class),\n",
    "                               minval = 0, maxval = 1,\n",
    "                               dtype= tf.float32)\n",
    "\n",
    "\n",
    "pred_sum = tf.reshape(tf.reduce_sum(predictions, axis=1), (-1, 1))\n",
    "predictions = predictions / pred_sum\n",
    "\n",
    "labels = tf.random.uniform(shape = (batch_size, ), \n",
    "                           minval = 0, maxval = n_class,\n",
    "                           dtype = tf.int32)\n",
    "\n",
    "\n",
    "labels = tf.one_hot(labels, n_class)\n",
    "\n",
    "loss_object  = CategoricalCrossentropy()\n",
    "loss = loss_object(labels, predictions)\n",
    "\n",
    "print(\"CCE(Tensorflow): \", loss.numpy())\n",
    "\n",
    "cce_man = tf.reduce_mean(tf.reduce_sum(-labels * tf.math.log(predictions), axis = 1))\n",
    "\n",
    "print(\"CCE(Manual): \", cce_man.numpy())\n",
    "\n",
    "\n"
   ]
  },
  {
   "attachments": {},
   "cell_type": "markdown",
   "metadata": {},
   "source": [
    "### Code.4-5-2: CCE with Model/Dataset"
   ]
  },
  {
   "cell_type": "code",
   "execution_count": 69,
   "metadata": {},
   "outputs": [
    {
     "name": "stdout",
     "output_type": "stream",
     "text": [
      "6.870449\n",
      "5.163064\n",
      "5.7907662\n"
     ]
    }
   ],
   "source": [
    "import tensorflow as tf\n",
    "from tensorflow.keras.layers import Dense\n",
    "from tensorflow.keras.losses import CategoricalCrossentropy\n",
    "\n",
    "N, n_feature = 8, 2\n",
    "n_class = 5\n",
    "\n",
    "X = tf.zeros(shape = (0, n_feature))\n",
    "Y = tf.zeros(shape = (0, ), dtype = tf.int32)\n",
    "\n",
    "for class_idx in range(n_class):\n",
    "    center = tf.random.uniform(minval = -15, maxval = 15, shape = (2, ))\n",
    "\n",
    "    x1 = center[0] + tf.random.normal(shape = (N, 1))\n",
    "    x2 = center[1] + tf.random.normal(shape = (N, 1))\n",
    "\n",
    "    x = tf.concat((x1, x2), axis = 1)\n",
    "    y = class_idx * tf.ones(shape = (N, ), dtype = tf.int32)\n",
    "\n",
    "    X = tf.concat((X, x), axis = 0)\n",
    "    Y = tf.concat((Y, y), axis = 0)\n",
    "\n",
    "\n",
    "Y = tf.one_hot(Y, depth = n_class, dtype = tf.int32)\n",
    "\n",
    "dataset = tf.data.Dataset.from_tensor_slices((X, Y))\n",
    "dataset = dataset.batch(batch_size)\n",
    "\n",
    "model = Dense(units = n_class, activation = 'softmax')\n",
    "loss_object = CategoricalCrossentropy()\n",
    "\n",
    "for x, y in dataset:\n",
    "    predictions = model(x)\n",
    "    loss = loss_object(y, predictions)\n",
    "    print(loss.numpy())\n",
    "\n",
    "\n",
    " "
   ]
  },
  {
   "cell_type": "code",
   "execution_count": null,
   "metadata": {},
   "outputs": [],
   "source": []
  }
 ],
 "metadata": {
  "kernelspec": {
   "display_name": "DL",
   "language": "python",
   "name": "python3"
  },
  "language_info": {
   "codemirror_mode": {
    "name": "ipython",
    "version": 3
   },
   "file_extension": ".py",
   "mimetype": "text/x-python",
   "name": "python",
   "nbconvert_exporter": "python",
   "pygments_lexer": "ipython3",
   "version": "3.10.6"
  },
  "orig_nbformat": 4
 },
 "nbformat": 4,
 "nbformat_minor": 2
}
