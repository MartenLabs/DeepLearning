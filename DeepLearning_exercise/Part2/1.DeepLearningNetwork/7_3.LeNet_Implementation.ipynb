{
 "cells": [
  {
   "attachments": {},
   "cell_type": "markdown",
   "metadata": {},
   "source": [
    "# 7-2: Implementation of LeNet"
   ]
  },
  {
   "attachments": {},
   "cell_type": "markdown",
   "metadata": {},
   "source": [
    "### Code.7-2-1: LeNet with Model Sub-classing"
   ]
  },
  {
   "cell_type": "code",
   "execution_count": 2,
   "metadata": {},
   "outputs": [
    {
     "name": "stdout",
     "output_type": "stream",
     "text": [
      "Metal device set to: Apple M1 Pro\n",
      "\n",
      "systemMemory: 32.00 GB\n",
      "maxCacheSize: 10.67 GB\n",
      "\n",
      "x: (32, 28, 28, 1)\n",
      "x: (32, 28, 28, 6)\n",
      "x: (32, 14, 14, 6)\n",
      "x: (32, 10, 10, 16)\n",
      "x: (32, 5, 5, 16)\n",
      "x: (32, 1, 1, 120)\n",
      "x: (32, 120)\n",
      "x: (32, 84)\n",
      "x: (32, 10)\n",
      "(32, 10)\n"
     ]
    }
   ],
   "source": [
    "import tensorflow as tf\n",
    "from tensorflow.keras.models import Model\n",
    "from tensorflow.keras.layers import Conv2D\n",
    "from tensorflow.keras.layers import AveragePooling2D\n",
    "from tensorflow.keras.layers import Flatten\n",
    "from tensorflow.keras.layers import Dense\n",
    "\n",
    "class LeNet(Model):\n",
    "    def __init__(self):\n",
    "        super(LeNet, self).__init__()\n",
    "\n",
    "        self.conv1 = Conv2D(filters = 6, kernel_size = 5, padding = 'same',\n",
    "                            activation = 'tanh')\n",
    "        self.conv1_pool = AveragePooling2D(pool_size = 2, strides = 2)\n",
    "\n",
    "        self.conv2 = Conv2D(filters = 16, kernel_size = 5, padding = 'valid',\n",
    "                            activation = 'tanh')\n",
    "        self.conv2_pool = AveragePooling2D(pool_size = 2, strides = 2)\n",
    "\n",
    "        self.conv3 = Conv2D(filters = 120, kernel_size = 5, padding = 'valid',\n",
    "                            activation = 'tanh')\n",
    "\n",
    "        self.flattn = Flatten()\n",
    "\n",
    "        self.dense1 = Dense(units = 84, activation = 'tanh')\n",
    "        self.dense2 = Dense(units = 10, activation = 'softmax')\n",
    "\n",
    "    def __call__(self, x):\n",
    "        print(\"x: {}\".format(x.shape))\n",
    "\n",
    "        x = self.conv1(x)\n",
    "        print(\"x: {}\".format(x.shape))\n",
    "        x = self.conv1_pool(x)\n",
    "        print(\"x: {}\".format(x.shape))\n",
    "\n",
    "        x = self.conv2(x)\n",
    "        print(\"x: {}\".format(x.shape))\n",
    "        x = self.conv2_pool(x)\n",
    "        print(\"x: {}\".format(x.shape))\n",
    "\n",
    "        x = self.conv3(x)\n",
    "        print(\"x: {}\".format(x.shape))\n",
    "        x = self.flattn(x)\n",
    "        print(\"x: {}\".format(x.shape))\n",
    "\n",
    "        x = self.dense1(x)\n",
    "        print(\"x: {}\".format(x.shape))\n",
    "        x = self.dense2(x)\n",
    "        print(\"x: {}\".format(x.shape))\n",
    "\n",
    "        return x \n",
    "    \n",
    "model = LeNet()\n",
    "x = tf.random.normal(shape = (32, 28, 28, 1))\n",
    "predictions = model(x)\n",
    "print(predictions.shape)\n"
   ]
  },
  {
   "attachments": {},
   "cell_type": "markdown",
   "metadata": {},
   "source": [
    "### Code.7-2-2: LeNet with Hybrid Method"
   ]
  },
  {
   "cell_type": "code",
   "execution_count": 12,
   "metadata": {},
   "outputs": [
    {
     "name": "stdout",
     "output_type": "stream",
     "text": [
      "6\n",
      "16\n",
      "120\n",
      "tf.Tensor(2.3548458, shape=(), dtype=float32)\n"
     ]
    }
   ],
   "source": [
    "import numpy as np\n",
    "import tensorflow as tf\n",
    "from tensorflow.keras.models import Model\n",
    "from tensorflow.keras.layers import Layer\n",
    "from tensorflow.keras.layers import Conv2D\n",
    "from tensorflow.keras.layers import AveragePooling2D\n",
    "from tensorflow.keras.layers import Flatten\n",
    "from tensorflow.keras.layers import Dense\n",
    "\n",
    "from tensorflow.keras.datasets import mnist\n",
    "from tensorflow.keras.losses import SparseCategoricalCrossentropy\n",
    "\n",
    "\n",
    "#### LeNet Implementation ####\n",
    "class ConvLayer(Layer):\n",
    "    def __init__(self, filters, padding, pool=True):\n",
    "        super(ConvLayer, self).__init__()\n",
    "        self.pool = pool\n",
    "        self.filters = filters\n",
    "        self.padding = padding\n",
    "        self.conv = Conv2D(filters = self.filters, kernel_size = 5, padding = self.padding,\n",
    "                           activation = 'tanh')\n",
    "        if self.pool == True:\n",
    "            self.conv_pool = AveragePooling2D(pool_size = 2, strides = 2)\n",
    "\n",
    "    def __call__(self, x):\n",
    "        x = self.conv(x)\n",
    "        \n",
    "        if self.pool == True:\n",
    "            x = self.conv_pool(x)\n",
    "\n",
    "        return x\n",
    "    \n",
    "\n",
    "class LeNet(Model):\n",
    "    def __init__(self):\n",
    "        super(LeNet, self).__init__()   \n",
    "\n",
    "        self.conv1 = ConvLayer(filters = 6, padding = 'same')\n",
    "        self.conv2 = ConvLayer(filters = 16, padding = 'valid')\n",
    "        self.conv3 = ConvLayer(filters = 120, padding = 'valid', pool = False)\n",
    "        self.flatten = Flatten()\n",
    "\n",
    "        self.dense1 = Dense(units = 84, activation = 'tanh')\n",
    "        self.dense2 = Dense(units = 10, activation = 'softmax')\n",
    "\n",
    "    def __call__(self, x):\n",
    "        x = self.conv1(x)\n",
    "        x = self.conv2(x)\n",
    "        x = self.conv3(x)\n",
    "        x = self.flatten(x) \n",
    "\n",
    "        x = self.dense1(x)\n",
    "        x = self.dense2(x)\n",
    "\n",
    "        return x\n",
    "\n",
    "\n",
    "##### Dataset Preparation #####\n",
    "(train_images, train_labels), _ = mnist.load_data()\n",
    "train_images = np.expand_dims(train_images, axis = 3).astype(np.float32)\n",
    "trian_labels = train_labels.astype(np.int32)\n",
    "# print(train_images.shape, train_images.dtype)\n",
    "# print(train_labels.shape, train_labels.dtype)\n",
    "\n",
    "train_dataset = tf.data.Dataset.from_tensor_slices((train_images, train_labels))\n",
    "train_dataset = train_dataset.batch(32)\n",
    "\n",
    "\n",
    "#### Forward Propagation ####\n",
    "model = LeNet()\n",
    "loss_object = SparseCategoricalCrossentropy()\n",
    "\n",
    "for images, labels in train_dataset:\n",
    "    # print(images.shape, labels.shape)\n",
    "    predictions = model(images)\n",
    "    loss = loss_object(labels, predictions)\n",
    "    print(loss)\n",
    "    break\n",
    "\n",
    "\n",
    "\n"
   ]
  },
  {
   "attachments": {},
   "cell_type": "markdown",
   "metadata": {},
   "source": [
    "### Code.7-2-3: Forward Propagation of LeNet"
   ]
  },
  {
   "cell_type": "code",
   "execution_count": null,
   "metadata": {},
   "outputs": [],
   "source": []
  }
 ],
 "metadata": {
  "kernelspec": {
   "display_name": "DL",
   "language": "python",
   "name": "python3"
  },
  "language_info": {
   "codemirror_mode": {
    "name": "ipython",
    "version": 3
   },
   "file_extension": ".py",
   "mimetype": "text/x-python",
   "name": "python",
   "nbconvert_exporter": "python",
   "pygments_lexer": "ipython3",
   "version": "3.10.6"
  },
  "orig_nbformat": 4
 },
 "nbformat": 4,
 "nbformat_minor": 2
}
